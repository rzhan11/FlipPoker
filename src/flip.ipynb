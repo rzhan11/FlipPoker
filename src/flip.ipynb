{
 "cells": [
  {
   "cell_type": "markdown",
   "id": "e39825ca",
   "metadata": {},
   "source": [
    "## hand representation\n",
    "- bit-vector"
   ]
  },
  {
   "cell_type": "code",
   "execution_count": 1,
   "id": "1c830dcf",
   "metadata": {
    "ExecuteTime": {
     "end_time": "2023-04-20T21:08:17.388824Z",
     "start_time": "2023-04-20T21:08:17.288860Z"
    }
   },
   "outputs": [
    {
     "data": {
      "text/html": [
       "<style>.container { width:75% !important; }</style>"
      ],
      "text/plain": [
       "<IPython.core.display.HTML object>"
      ]
     },
     "metadata": {},
     "output_type": "display_data"
    }
   ],
   "source": [
    "from IPython.display import display, HTML\n",
    "import ipywidgets as widgets\n",
    "from ipywidgets import interact\n",
    "display(HTML(\"<style>.container { width:75% !important; }</style>\"))"
   ]
  },
  {
   "cell_type": "code",
   "execution_count": 2,
   "id": "bb4f3b41",
   "metadata": {
    "ExecuteTime": {
     "end_time": "2023-04-20T21:08:19.183463Z",
     "start_time": "2023-04-20T21:08:17.391460Z"
    }
   },
   "outputs": [],
   "source": [
    "import json\n",
    "import numpy as np\n",
    "import pandas as pd\n",
    "import matplotlib.pyplot as plt\n",
    "import time\n"
   ]
  },
  {
   "cell_type": "markdown",
   "id": "fba3e235",
   "metadata": {},
   "source": [
    "## Params"
   ]
  },
  {
   "cell_type": "code",
   "execution_count": 3,
   "id": "1b759350",
   "metadata": {
    "ExecuteTime": {
     "end_time": "2023-04-20T21:08:19.188335Z",
     "start_time": "2023-04-20T21:08:19.185680Z"
    }
   },
   "outputs": [],
   "source": [
    "_RUN_UNIT_TESTS = True"
   ]
  },
  {
   "cell_type": "markdown",
   "id": "2ec63ae7",
   "metadata": {},
   "source": [
    "## Load game constants"
   ]
  },
  {
   "cell_type": "code",
   "execution_count": 4,
   "id": "7fc357bc",
   "metadata": {
    "ExecuteTime": {
     "end_time": "2023-04-20T21:08:19.193900Z",
     "start_time": "2023-04-20T21:08:19.190904Z"
    }
   },
   "outputs": [],
   "source": [
    "from constants import *"
   ]
  },
  {
   "cell_type": "markdown",
   "id": "00de3fca",
   "metadata": {},
   "source": [
    "## Utils"
   ]
  },
  {
   "cell_type": "code",
   "execution_count": 5,
   "id": "2f5fafb4",
   "metadata": {
    "ExecuteTime": {
     "end_time": "2023-04-20T21:08:19.198562Z",
     "start_time": "2023-04-20T21:08:19.195636Z"
    }
   },
   "outputs": [],
   "source": [
    "def binify(bits_list):\n",
    "    return [bin(b) for b in bits_list]"
   ]
  },
  {
   "cell_type": "code",
   "execution_count": 6,
   "id": "4c165760",
   "metadata": {
    "ExecuteTime": {
     "end_time": "2023-04-20T21:08:19.203704Z",
     "start_time": "2023-04-20T21:08:19.200749Z"
    }
   },
   "outputs": [],
   "source": [
    "def run_unit_tests(unit_fn):\n",
    "    if _RUN_UNIT_TESTS:\n",
    "        unit_fn()\n",
    "        print(f\"`{unit_fn.__name__}` success!\")\n",
    "    else:\n",
    "        print(f\"Skipping `{unit_fn.__name__}`\")\n"
   ]
  },
  {
   "cell_type": "code",
   "execution_count": 7,
   "id": "e5664fee",
   "metadata": {
    "ExecuteTime": {
     "end_time": "2023-04-20T21:08:19.211279Z",
     "start_time": "2023-04-20T21:08:19.205722Z"
    }
   },
   "outputs": [],
   "source": [
    "# rating utils\n",
    "def rank_bits_to_nums(ranks):\n",
    "    vals = []\n",
    "    for r in range(NUM_RANKS):\n",
    "        if (BIT[r] & ranks) > 0:\n",
    "            vals += [r]\n",
    "    return tuple(reversed(vals))\n",
    "\n",
    "def rating_get_type(rating):\n",
    "    return (rating & RATING_TYPE_MASK) >> (2 * NUM_RANKS)\n",
    "\n",
    "def rating_get_kicker1(rating):\n",
    "    return rank_bits_to_nums((rating & RATING_KICKER1_MASK) >> NUM_RANKS)\n",
    "\n",
    "def rating_get_kicker2(rating):\n",
    "    return rank_bits_to_nums((rating & RATING_KICKER2_MASK))\n",
    "\n",
    "def rating_bits_to_tuple(rating):\n",
    "    return (rating_get_type(rating), rating_get_kicker1(rating), rating_get_kicker2(rating))\n",
    "\n",
    "\n",
    "_rating_type_to_str = [None, \"high card\", \"pair\", \"two pair\", \"three kind\", \"straight\", \"flush\", \"full house\", \"four kind\", \"straight flush\"]\n",
    "\n",
    "def rating_prettify(rating):\n",
    "    (rtype, k1, k2) = rating_bits_to_tuple(rating)\n",
    "    \n",
    "    return (_rating_type_to_str[rtype], k1, k2)"
   ]
  },
  {
   "cell_type": "code",
   "execution_count": 8,
   "id": "8323182a",
   "metadata": {
    "ExecuteTime": {
     "end_time": "2023-04-20T21:08:19.217855Z",
     "start_time": "2023-04-20T21:08:19.213681Z"
    }
   },
   "outputs": [],
   "source": [
    "def inv_bits(hand):\n",
    "    return hand ^ ALL_BITS\n",
    "\n",
    "def rbits_to_bits(rbits):\n",
    "    return rbits + (rbits << NUM_RANKS) + (rbits << 2 * NUM_RANKS) + (rbits << 3 * NUM_RANKS)\n",
    "\n",
    "def remove_ranks(hand, rbits):\n",
    "    \"\"\" Removes all ranks in rbits from bits\n",
    "    bits - original bitvec\n",
    "    rbits - bit ranks to remove\n",
    "    \"\"\"\n",
    "    keep_bits = inv_bits(rbits_to_bits(rbits))\n",
    "    return hand & keep_bits\n",
    "\n",
    "def get_bits_by_suit(hand):\n",
    "    vals = []\n",
    "    for s in range(NUM_SUITS):\n",
    "        vals += [(hand >> (s * NUM_RANKS)) & SUIT_MASK]\n",
    "    return vals"
   ]
  },
  {
   "cell_type": "code",
   "execution_count": 9,
   "id": "b328ad4d",
   "metadata": {
    "ExecuteTime": {
     "end_time": "2023-04-20T21:08:19.223458Z",
     "start_time": "2023-04-20T21:08:19.219944Z"
    }
   },
   "outputs": [],
   "source": [
    "# returns highest bit (1 << bitind)\n",
    "\n",
    "def get_n_highest_bits(bits, n):\n",
    "    v = 0\n",
    "    for i in range(n):\n",
    "        b = get_highest_bit(bits)\n",
    "        bits -= b\n",
    "        v += b\n",
    "    return v\n",
    "\n",
    "def get_highest_bit(bits):\n",
    "    # ensure it has at least one bit\n",
    "    if bits == 0:\n",
    "        return 0\n",
    "    \n",
    "#     return BIT[np.ceil(np.log2(bits + 1)).astype(int) - 1]\n",
    "    return BIT[bits.bit_length() - 1]\n",
    "\n"
   ]
  },
  {
   "cell_type": "code",
   "execution_count": 10,
   "id": "40130637",
   "metadata": {
    "ExecuteTime": {
     "end_time": "2023-04-20T21:08:19.236617Z",
     "start_time": "2023-04-20T21:08:19.228174Z"
    }
   },
   "outputs": [],
   "source": [
    "# returns bit vector of NUM_RANKS length\n",
    "def get_1k_ranks(hand):\n",
    "    bits_by_suit = get_bits_by_suit(hand)\n",
    "    b1, b2, b3, b4 = bits_by_suit\n",
    "    return b1 | b2 | b3 | b4\n",
    "    \n",
    "#     total = 0\n",
    "#     for s in range(NUM_SUITS):\n",
    "#         total = total | (bits >> (s * NUM_RANKS))\n",
    "#     return total & SUIT_MASK\n",
    "\n",
    "def get_highest_1k(hand, n=1):\n",
    "    ranks = get_1k_ranks(hand)\n",
    "    return get_highest_bit(ranks)\n",
    "\n",
    "def get_n_highest_1k(hand, n):\n",
    "    ranks = get_1k_ranks(hand)\n",
    "    return get_n_highest_bits(ranks, n)\n",
    "\n",
    "\n",
    "\n",
    "def get_2k_ranks(hand):\n",
    "    bits_by_suit = get_bits_by_suit(hand)\n",
    "    b1, b2, b3, b4 = bits_by_suit\n",
    "    return (b1 & b2) | (b1 & b3) | (b1 & b4) | (b2 & b3) | (b2 & b4) | (b3 & b4)\n",
    "    \n",
    "def get_highest_2k(hand):\n",
    "    ranks = get_2k_ranks(hand)\n",
    "    return get_highest_bit(ranks)\n",
    "\n",
    "def get_n_highest_2k(hand, n):\n",
    "    ranks = get_2k_ranks(hand)\n",
    "    return get_n_highest_bits(ranks, n)\n",
    "\n",
    "\n",
    "\n",
    "def get_3k_ranks(bits):\n",
    "    bits_by_suit = get_bits_by_suit(bits)\n",
    "    b1, b2, b3, b4 = bits_by_suit\n",
    "    return (b1 & b2 & b3) | (b1 & b2 & b4) | (b1 & b3 & b4) | (b2 & b3 & b4)\n",
    "    \n",
    "def get_highest_3k(hand):\n",
    "    ranks = get_3k_ranks(hand)\n",
    "    return get_highest_bit(ranks)\n",
    "\n",
    "def get_n_highest_3k(hand, n):\n",
    "    ranks = get_3k_ranks(bits)\n",
    "    return get_n_highest_bits(ranks, n)\n",
    "\n",
    "\n",
    "\n",
    "def get_4k_ranks(hand):\n",
    "    bits_by_suit = get_bits_by_suit(hand)\n",
    "    b1, b2, b3, b4 = bits_by_suit\n",
    "    return b1 & b2 & b3 & b4\n",
    "    \n",
    "def get_highest_4k(hand):\n",
    "    ranks = get_4k_ranks(hand)\n",
    "    return get_highest_bit(ranks)\n",
    "\n",
    "def get_n_highest_4k(hand, n):\n",
    "    ranks = get_4k_ranks(hand)\n",
    "    return get_n_highest_bits(ranks, n)"
   ]
  },
  {
   "cell_type": "code",
   "execution_count": 11,
   "id": "9d002741",
   "metadata": {
    "ExecuteTime": {
     "end_time": "2023-04-20T21:08:19.248790Z",
     "start_time": "2023-04-20T21:08:19.238614Z"
    }
   },
   "outputs": [
    {
     "name": "stdout",
     "output_type": "stream",
     "text": [
      "`unit_tests__card_to_ind` success!\n",
      "`unit_tests__ind_to_card` success!\n",
      "`unit_tests__hand_to_cards` success!\n"
     ]
    }
   ],
   "source": [
    "## cards are a tuple representation of a hand (bit-vector)\n",
    "\n",
    "def validate_card(s, r):\n",
    "    assert 0 <= s < NUM_SUITS and 0 <= r < NUM_RANKS\n",
    "\n",
    "def validate_cards(cards):\n",
    "    assert len(set(cards)) == len(cards) # ensure cards are unique\n",
    "    for s, r in cards:\n",
    "        validate_card(s, r)\n",
    "\n",
    "def validate_ind(ind):\n",
    "    assert 0 <= ind < NUM_CARDS\n",
    "\n",
    "def card_to_ind(s, r):\n",
    "    validate_card(s, r)\n",
    "    return s * NUM_RANKS + r\n",
    "\n",
    "def ind_to_card(ind):\n",
    "    validate_ind(ind)\n",
    "    return (ind // NUM_RANKS, ind % NUM_RANKS)\n",
    "\n",
    "def hand_to_cards(hand):\n",
    "    assert 0 <= hand < (1 << NUM_CARDS)\n",
    "    \n",
    "    cards = []\n",
    "    for ind, card in enumerate(CARDS):\n",
    "        if (hand & BIT[ind]) > 0:\n",
    "            cards += [card]\n",
    "            \n",
    "    return cards\n",
    "\n",
    "def cards_to_hand(cards):\n",
    "    validate_cards(cards)\n",
    "    \n",
    "    hand = 0\n",
    "    for s, r in cards:\n",
    "        hand += BIT[card_to_ind(s, r)]\n",
    "    return hand\n",
    "\n",
    "            \n",
    "def unit_tests__card_to_ind():\n",
    "    assert ( card_to_ind(0, 0) == 0 )\n",
    "    assert ( card_to_ind(0, 1) == 1 )\n",
    "    assert ( card_to_ind(1, 1) == 14 )\n",
    "    assert ( card_to_ind(2, 6) == 32 )\n",
    "    assert ( card_to_ind(3, 12) == 51 )\n",
    "    \n",
    "def unit_tests__ind_to_card():\n",
    "    assert ( ind_to_card(0) == (0, 0) )\n",
    "    assert ( ind_to_card(5) == (0, 5) )\n",
    "    assert ( ind_to_card(13) == (1, 0) )\n",
    "    assert ( ind_to_card(51) == (3, 12) )\n",
    "    \n",
    "\n",
    "def unit_tests__hand_to_cards():\n",
    "    assert ( tuple(hand_to_cards(0b11)) == ((0, 0), (0, 1)) )\n",
    "    assert ( tuple(hand_to_cards((1 << 13) + 7)) == ((0, 0), (0, 1), (0, 2), (1, 0)) )\n",
    "    assert ( tuple(hand_to_cards((3 << 13) + 7)) == ((0, 0), (0, 1), (0, 2), (1, 0), (1, 1)) )\n",
    "\n",
    "\n",
    "run_unit_tests(unit_tests__card_to_ind)\n",
    "run_unit_tests(unit_tests__ind_to_card)\n",
    "run_unit_tests(unit_tests__hand_to_cards)\n",
    "    "
   ]
  },
  {
   "cell_type": "markdown",
   "id": "112fcfb3",
   "metadata": {},
   "source": [
    "## ratings\n",
    "\n",
    "- straight flush (SF)\n",
    "    - highest value (1 number, 13 bits)\n",
    "\n",
    "- four of a kind (4K)\n",
    "    - four + kicker (1 +  numbers, 13 bits)\n",
    "\n",
    "- full house (FH)\n",
    "    - triple + pair (1 + 1 numbers, 26 bits)\n",
    "\n",
    "- flush (FL)\n",
    "    - highest five numbers (5 numbers, 13 bits)\n",
    "  \n",
    "- straght (ST)\n",
    "    - highest value 1 number, 13 bits)\n",
    "\n",
    "- triple (3K)\n",
    "    - triple + kicker1 + kicker2 (1 + 2 highest numbers, 26 bits)\n",
    "    \n",
    "- two pair (2P)\n",
    "    - pair1 + pair2 + kicker (2 + 1 highest number, 26 bits)\n",
    "\n",
    "- pair (2K)\n",
    "    - pair + kicker1 + kicker2 + kicker3 (1 + 3 highest numbers, 13 bits)\n",
    "\n",
    "- high card (1K)\n",
    "    - highest five numbers (5 nums, 13 bits)"
   ]
  },
  {
   "cell_type": "code",
   "execution_count": 51,
   "id": "1ae382c2",
   "metadata": {
    "ExecuteTime": {
     "end_time": "2023-04-20T21:10:48.800682Z",
     "start_time": "2023-04-20T21:10:48.797086Z"
    }
   },
   "outputs": [],
   "source": [
    "# check for a straight flush\n",
    "# base_mask = (1 << STRAIGHT_FLUSH_LEN) - 1\n",
    "# _sf_masks = [base_mask << (r + s * NUM_RANKS) for r in range(NUM_RANKS - STRAIGHT_FLUSH_LEN + 1) for s in range(NUM_SUITS)]\n",
    "\n",
    "# use same base mask as _sf_masks\n",
    "wheel_mask = (1 << (NUM_RANKS - 1)) + (1 << (STRAIGHT_LEN - 1)) - 1\n",
    "base_mask = (1 << STRAIGHT_LEN) - 1\n",
    "_straight_masks = [wheel_mask] + [base_mask << r for r in range(NUM_RANKS - STRAIGHT_LEN + 1)]"
   ]
  },
  {
   "cell_type": "code",
   "execution_count": 52,
   "id": "3b913415",
   "metadata": {
    "ExecuteTime": {
     "end_time": "2023-04-20T21:10:48.975879Z",
     "start_time": "2023-04-20T21:10:48.967067Z"
    }
   },
   "outputs": [
    {
     "name": "stdout",
     "output_type": "stream",
     "text": [
      "`unit_tests__check_straight_flush` success!\n"
     ]
    }
   ],
   "source": [
    "def check_straight_flush(hand):\n",
    "    bits_by_suit = get_bits_by_suit(hand)\n",
    "    \n",
    "    rating = 0\n",
    "    \n",
    "    for mask in _straight_masks:\n",
    "        for ranks in bits_by_suit:\n",
    "            masked = ranks & mask\n",
    "            if masked.bit_count() == STRAIGHT_FLUSH_LEN:\n",
    "                rating = masked\n",
    "                \n",
    "    \n",
    "    if rating > 0:\n",
    "        if rating == wheel_mask:\n",
    "            rating = wheel_mask - get_highest_bit(wheel_mask)\n",
    "            \n",
    "        return STRAIGHT_FLUSH_RATING + rating\n",
    "    else:\n",
    "        return 0\n",
    "    \n",
    "    \n",
    "#     is_sf_mask = (1 << STRAIGHT_FLUSH_LEN) - 1\n",
    "\n",
    "#     rating = 0\n",
    "\n",
    "#     # since this goes from small to big, we can use `rating = val`\n",
    "#     for mask in _sf_masks:\n",
    "#         masked = mask & n\n",
    "        \n",
    "#         ind = (mask.bit_length() - 1) // NUM_RANKS * NUM_RANKS\n",
    "        \n",
    "#         if masked.bit_count() == STRAIGHT_FLUSH_LEN:\n",
    "#             rating = masked >> ind\n",
    "\n",
    "#     if rating > 0:\n",
    "#         return STRAIGHT_FLUSH_RATING + rating\n",
    "#     else:\n",
    "#         return 0\n",
    "    \n",
    "def unit_tests__check_straight_flush():\n",
    "    # wheel tests\n",
    "    assert check_straight_flush(0b1000000001111) == STRAIGHT_FLUSH_RATING + 0b0000000001111\n",
    "    assert check_straight_flush(0b1000000001111 << 13) == STRAIGHT_FLUSH_RATING + 0b0000000001111\n",
    "    assert check_straight_flush(0b1000000001111 << 26) == STRAIGHT_FLUSH_RATING + 0b0000000001111\n",
    "    assert check_straight_flush(0b1111) == 0\n",
    "    assert check_straight_flush(0b1100000000111) == 0\n",
    "    \n",
    "    assert check_straight_flush(0b11111) == STRAIGHT_FLUSH_RATING + 0b11111\n",
    "    assert check_straight_flush(0b11111 << 13) == STRAIGHT_FLUSH_RATING + 0b11111\n",
    "    assert check_straight_flush(0b11111 << 12) == 0\n",
    "    assert check_straight_flush(0b11111 << 9) == 0\n",
    "    assert check_straight_flush(0b11111 << 8) == STRAIGHT_FLUSH_RATING + (0b11111 << 8)\n",
    "    assert check_straight_flush(0b11111 << 39) == STRAIGHT_FLUSH_RATING + (0b11111)\n",
    "    assert check_straight_flush(0b11111 << 47) == STRAIGHT_FLUSH_RATING + (0b11111 << 8)\n",
    "    \n",
    "    assert check_straight_flush(0b1111111) == STRAIGHT_FLUSH_RATING + (0b11111 << 2)\n",
    "    assert check_straight_flush(0b111111 << 8) == STRAIGHT_FLUSH_RATING + (0b11111 << 8)\n",
    "    assert check_straight_flush(0b11111 << 12) == 0\n",
    "    assert check_straight_flush(0b111111 << 12) == STRAIGHT_FLUSH_RATING + (0b11111)\n",
    "    \n",
    "\n",
    "    \n",
    "run_unit_tests(unit_tests__check_straight_flush)"
   ]
  },
  {
   "cell_type": "code",
   "execution_count": 53,
   "id": "2a819860",
   "metadata": {
    "ExecuteTime": {
     "end_time": "2023-04-20T21:10:49.147365Z",
     "start_time": "2023-04-20T21:10:49.139820Z"
    }
   },
   "outputs": [
    {
     "name": "stdout",
     "output_type": "stream",
     "text": [
      "`unit_tests__check_four_kind` success!\n"
     ]
    }
   ],
   "source": [
    "def check_four_kind(bits):\n",
    "\n",
    "    fours = get_highest_4k(bits)\n",
    "\n",
    "    if fours > 0:\n",
    "        # find kicker\n",
    "        bits = remove_ranks(bits, fours)\n",
    "        kicker = get_highest_1k(bits)\n",
    "\n",
    "        return FOUR_KIND_RATING + (fours << NUM_RANKS) + kicker\n",
    "    else:\n",
    "        return 0\n",
    "    \n",
    "def unit_tests__check_four_kind():\n",
    "\n",
    "    base_bits = (1 << 0) + (1 << 13) + (1 << 26) + (1 << 39)\n",
    "\n",
    "    bits = base_bits + (base_bits << 10) + (1 << 3)\n",
    "    ans = FOUR_KIND_RATING + (1 << 10 << NUM_RANKS) + (1 << 3)\n",
    "    assert check_four_kind(bits) == ans\n",
    "    \n",
    "    bits = (base_bits - 1)\n",
    "    ans = 0\n",
    "    assert check_four_kind(bits) == ans\n",
    "\n",
    "    bits = (base_bits << 5) + (base_bits << 10) + (1 << 3)\n",
    "    ans = FOUR_KIND_RATING + (1 << 10 << NUM_RANKS) + (1 << 5)\n",
    "    assert check_four_kind(bits) == ans\n",
    "    \n",
    "    bits = (1 << NUM_CARDS) - 1\n",
    "    ans = FOUR_KIND_RATING + (1 << (NUM_RANKS - 1) << NUM_RANKS) + (1 << (NUM_RANKS - 2))\n",
    "    assert check_four_kind(bits) == ans\n",
    "    \n",
    "    bits = (1 << NUM_CARDS) - 1\n",
    "    ans = FOUR_KIND_RATING + (1 << (NUM_RANKS - 1) << NUM_RANKS) + (1 << (NUM_RANKS - 2))\n",
    "    assert check_four_kind(bits) == ans\n",
    "    \n",
    "run_unit_tests(unit_tests__check_four_kind)"
   ]
  },
  {
   "cell_type": "code",
   "execution_count": 54,
   "id": "26ad63a9",
   "metadata": {
    "ExecuteTime": {
     "end_time": "2023-04-20T21:10:49.522312Z",
     "start_time": "2023-04-20T21:10:49.515588Z"
    },
    "scrolled": false
   },
   "outputs": [
    {
     "name": "stdout",
     "output_type": "stream",
     "text": [
      "(7, (1,), (2,))\n",
      "(7, (2,), (1,))\n",
      "(0, (), ())\n",
      "`unit_tests__check_full_house` success!\n"
     ]
    }
   ],
   "source": [
    "def check_full_house(bits):\n",
    "    triple = get_highest_3k(bits)\n",
    "    if triple > 0:\n",
    "        bits = remove_ranks(bits, triple)\n",
    "        double = get_highest_2k(bits)\n",
    "        if double > 0:\n",
    "            return FULL_HOUSE_RATING + (triple << NUM_RANKS) + double\n",
    "    \n",
    "    return 0\n",
    "\n",
    "\n",
    "def unit_tests__check_full_house():\n",
    "\n",
    "    bits = cards_to_hand([(0, 1), (1, 1), (2, 1), (3, 1), (0, 2), (1, 2)])\n",
    "    ans = FULL_HOUSE_RATING + (1 << 1 << NUM_RANKS) + (1 << 2)\n",
    "    print(rating_bits_to_tuple(check_full_house(bits)))\n",
    "    assert check_full_house(bits) == ans\n",
    "\n",
    "    bits = cards_to_hand([(0, 1), (1, 1), (2, 1), (3, 1), (0, 2), (1, 2), (2, 2)])\n",
    "    ans = FULL_HOUSE_RATING + (1 << 2 << NUM_RANKS) + (1 << 1)\n",
    "    print(rating_bits_to_tuple(check_full_house(bits)))\n",
    "    assert check_full_house(bits) == ans\n",
    "\n",
    "    bits = cards_to_hand([(0, 1), (1, 1), (0, 2), (1, 2)])\n",
    "    ans = 0\n",
    "    print(rating_bits_to_tuple(check_full_house(bits)))\n",
    "    assert check_full_house(bits) == ans\n",
    "    \n",
    "    \n",
    "run_unit_tests(unit_tests__check_full_house)"
   ]
  },
  {
   "cell_type": "code",
   "execution_count": 55,
   "id": "124798bc",
   "metadata": {
    "ExecuteTime": {
     "end_time": "2023-04-20T21:10:49.901260Z",
     "start_time": "2023-04-20T21:10:49.891411Z"
    }
   },
   "outputs": [
    {
     "name": "stdout",
     "output_type": "stream",
     "text": [
      "`unit_tests__check_flush` success!\n"
     ]
    }
   ],
   "source": [
    "def check_flush(bits):\n",
    "    bits_by_suit = get_bits_by_suit(bits)\n",
    "    \n",
    "    rating = 0\n",
    "    for rbits in bits_by_suit:\n",
    "        masked = get_n_highest_bits(rbits, n=5)\n",
    "        if masked.bit_count() == FLUSH_LEN:\n",
    "            rating = max(rating, masked)\n",
    "\n",
    "    if rating > 0:\n",
    "        return FLUSH_RATING + rating\n",
    "    else:\n",
    "        return 0\n",
    "\n",
    "    \n",
    "def unit_tests__check_flush():\n",
    "\n",
    "    bits = cards_to_hand([(0, 1), (0, 2), (0, 3), (0, 4), (0, 5), (1, 6), (0, 7)])\n",
    "    ans = FLUSH_RATING + (0b10111100)\n",
    "    val = check_flush(bits)\n",
    "    assert val == ans\n",
    "\n",
    "    bits = cards_to_hand([(0, 1), (1, 1), (2, 1), (3, 1), (0, 2), (1, 2), (0, 5), (0, 7), (0, 9), (3, 11)])\n",
    "    ans = FLUSH_RATING + BIT[1] + BIT[2] + BIT[5] + BIT[7] + BIT[9]\n",
    "    val = check_flush(bits)\n",
    "    assert val == ans\n",
    "\n",
    "    bits = cards_to_hand([(3, 0), (0, 1), (1, 2), (2, 3), (3, 4)])\n",
    "    ans = 0\n",
    "    val = check_flush(bits)\n",
    "    assert val == ans\n",
    "\n",
    "    bits = cards_to_hand([(3, 0), (0, 1), (1, 2), (2, 3), (3, 4), (3, 8), (0, 9), (1, 10), (2, 11), (3, 12)])\n",
    "    ans = 0\n",
    "    val = check_flush(bits)\n",
    "    assert val == ans\n",
    "\n",
    "    bits = cards_to_hand([(0, 1), (1, 1), (2, 1), (3, 1), (0, 2), (1, 2), (2, 2), (0, 10)])\n",
    "    ans = 0\n",
    "    val = check_flush(bits)\n",
    "    assert val == ans\n",
    "\n",
    "    bits = cards_to_hand([(0, 1), (1, 1), (0, 2), (1, 2)])\n",
    "    ans = 0\n",
    "    val = check_flush(bits)\n",
    "    assert val == ans\n",
    "    \n",
    "\n",
    "run_unit_tests(unit_tests__check_flush)"
   ]
  },
  {
   "cell_type": "code",
   "execution_count": 56,
   "id": "cb64e1a1",
   "metadata": {
    "ExecuteTime": {
     "end_time": "2023-04-20T21:10:50.183741Z",
     "start_time": "2023-04-20T21:10:50.174519Z"
    }
   },
   "outputs": [
    {
     "name": "stdout",
     "output_type": "stream",
     "text": [
      "`unit_tests__check_straight` success!\n"
     ]
    }
   ],
   "source": [
    "def check_straight(bits):\n",
    "    rbits = get_1k_ranks(bits)\n",
    "    \n",
    "    rating = 0\n",
    "    \n",
    "    # since this goes from small to big, we can use `rating = val`\n",
    "    for mask in _straight_masks:\n",
    "        masked = rbits & mask\n",
    "        if masked.bit_count() == STRAIGHT_LEN:\n",
    "            rating = masked\n",
    "\n",
    "    if rating > 0:\n",
    "        return STRAIGHT_RATING + rating\n",
    "    else:\n",
    "        return 0\n",
    "\n",
    "    \n",
    "def unit_tests__check_straight():\n",
    "\n",
    "    bits = cards_to_hand([(0, 1), (1, 2), (2, 3), (3, 4), (0, 5), (1, 6), (0, 7)])\n",
    "    ans = STRAIGHT_RATING + (0b11111 << 3)\n",
    "    val = check_straight(bits)\n",
    "    assert val == ans\n",
    "\n",
    "    bits = cards_to_hand([(3, 0), (0, 1), (1, 2), (2, 3), (3, 4)])\n",
    "    ans = STRAIGHT_RATING + (0b11111 << 0)\n",
    "    val = check_straight(bits)\n",
    "    assert val == ans\n",
    "\n",
    "    bits = cards_to_hand([(3, 0), (0, 1), (1, 2), (2, 3), (3, 4), (3, 8), (0, 9), (1, 10), (2, 11), (3, 12)])\n",
    "    ans = STRAIGHT_RATING + (0b11111 << 8)\n",
    "    val = check_straight(bits)\n",
    "    assert val == ans\n",
    "\n",
    "    \n",
    "\n",
    "    bits = cards_to_hand([(0, 1), (1, 1), (2, 1), (3, 1), (0, 2), (1, 2), (0, 5), (0, 7), (0, 9), (3, 11)])\n",
    "    ans = 0\n",
    "    val = check_straight(bits)\n",
    "    assert val == ans\n",
    "\n",
    "    bits = cards_to_hand([(0, 1), (1, 1), (2, 1), (3, 1), (0, 2), (1, 2), (2, 2), (0, 10)])\n",
    "    ans = 0\n",
    "    val = check_straight(bits)\n",
    "    assert val == ans\n",
    "\n",
    "    bits = cards_to_hand([(0, 1), (1, 1), (0, 2), (1, 2)])\n",
    "    ans = 0\n",
    "    val = check_straight(bits)\n",
    "    assert val == ans\n",
    "    \n",
    "\n",
    "run_unit_tests(unit_tests__check_straight)"
   ]
  },
  {
   "cell_type": "code",
   "execution_count": 57,
   "id": "073f7ec3",
   "metadata": {
    "ExecuteTime": {
     "end_time": "2023-04-20T21:10:50.598022Z",
     "start_time": "2023-04-20T21:10:50.590970Z"
    }
   },
   "outputs": [
    {
     "name": "stdout",
     "output_type": "stream",
     "text": [
      "`unit_tests__check_three_kind` success!\n"
     ]
    }
   ],
   "source": [
    "def check_three_kind(bits):\n",
    "    triple = get_highest_3k(bits)\n",
    "    if triple > 0:\n",
    "        bits = remove_ranks(bits, triple)\n",
    "        kickers = get_n_highest_1k(bits, n=2)\n",
    "        return THREE_KIND_RATING + (triple << NUM_RANKS) + kickers\n",
    "    \n",
    "    return 0\n",
    "\n",
    "\n",
    "def unit_tests__check_three_kind():\n",
    "\n",
    "    bits = cards_to_hand([(0, 1), (1, 1), (2, 1), (3, 1), (0, 2), (1, 2), (0, 5)])\n",
    "    ans = THREE_KIND_RATING + (1 << 1 << NUM_RANKS) + (1 << 2) + (1 << 5)\n",
    "#     print(rating_bits_to_tuple(check_three_kind(bits)))\n",
    "    assert check_three_kind(bits) == ans\n",
    "\n",
    "    bits = cards_to_hand([(0, 1), (1, 1), (2, 1), (3, 1), (0, 2), (1, 2), (2, 2), (0, 10)])\n",
    "    ans = THREE_KIND_RATING + (1 << 2 << NUM_RANKS) + (1 << 1) + (1 << 10)\n",
    "#     print(rating_bits_to_tuple(check_three_kind(bits)))\n",
    "    assert check_three_kind(bits) == ans\n",
    "\n",
    "    bits = cards_to_hand([(0, 1), (1, 1), (0, 2), (1, 2)])\n",
    "    ans = 0\n",
    "#     print(rating_bits_to_tuple(check_three_kind(bits)))\n",
    "    assert check_three_kind(bits) == ans\n",
    "    \n",
    "\n",
    "run_unit_tests(unit_tests__check_three_kind)"
   ]
  },
  {
   "cell_type": "code",
   "execution_count": 58,
   "id": "579f364b",
   "metadata": {
    "ExecuteTime": {
     "end_time": "2023-04-20T21:10:50.889909Z",
     "start_time": "2023-04-20T21:10:50.880226Z"
    }
   },
   "outputs": [
    {
     "name": "stdout",
     "output_type": "stream",
     "text": [
      "(3, (2, 1), (5,))\n",
      "(3, (2, 1), (9,))\n",
      "(3, (2, 1), (10,))\n",
      "(3, (2, 1), ())\n",
      "(0, (), ())\n",
      "`unit_tests__check_two_pair` success!\n"
     ]
    }
   ],
   "source": [
    "def check_two_pair(bits):\n",
    "    doubles = get_n_highest_2k(bits, n=2)\n",
    "    if doubles.bit_count() >= 2:\n",
    "        bits = remove_ranks(bits, doubles)\n",
    "        kickers = get_highest_1k(bits)\n",
    "        return TWO_PAIR_RATING + (doubles << NUM_RANKS) + kickers\n",
    "    \n",
    "    return 0\n",
    "\n",
    "\n",
    "def unit_tests__check_two_pair():\n",
    "\n",
    "    bits = cards_to_hand([(0, 1), (1, 1), (2, 1), (3, 1), (0, 2), (1, 2), (0, 5)])\n",
    "    ans = TWO_PAIR_RATING + ((BIT[2] + BIT[1]) << NUM_RANKS) + BIT[5]\n",
    "    print(rating_bits_to_tuple(check_two_pair(bits)))\n",
    "    assert check_two_pair(bits) == ans\n",
    "\n",
    "    bits = cards_to_hand([(0, 1), (1, 1), (2, 1), (3, 1), (0, 2), (1, 2), (0, 5), (0, 7), (0, 9)])\n",
    "    ans = TWO_PAIR_RATING + ((BIT[2] + BIT[1]) << NUM_RANKS) + BIT[9]\n",
    "    print(rating_bits_to_tuple(check_two_pair(bits)))\n",
    "    assert check_two_pair(bits) == ans\n",
    "\n",
    "    bits = cards_to_hand([(0, 1), (1, 1), (2, 1), (3, 1), (0, 2), (1, 2), (2, 2), (0, 10)])\n",
    "    ans = TWO_PAIR_RATING + ((BIT[2] + BIT[1]) << NUM_RANKS) + BIT[10]\n",
    "    print(rating_bits_to_tuple(check_two_pair(bits)))\n",
    "    assert check_two_pair(bits) == ans\n",
    "\n",
    "    bits = cards_to_hand([(0, 1), (1, 1), (0, 2), (1, 2)])\n",
    "    ans = TWO_PAIR_RATING + ((BIT[2] + BIT[1]) << NUM_RANKS)\n",
    "    print(rating_bits_to_tuple(check_two_pair(bits)))\n",
    "    assert check_two_pair(bits) == ans\n",
    "\n",
    "    bits = cards_to_hand([(0, 1), (1, 2)])\n",
    "    ans = 0\n",
    "    print(rating_bits_to_tuple(check_two_pair(bits)))\n",
    "    assert check_two_pair(bits) == ans\n",
    "    \n",
    "\n",
    "run_unit_tests(unit_tests__check_two_pair)"
   ]
  },
  {
   "cell_type": "code",
   "execution_count": 59,
   "id": "14d6a72f",
   "metadata": {
    "ExecuteTime": {
     "end_time": "2023-04-20T21:10:51.178589Z",
     "start_time": "2023-04-20T21:10:51.168502Z"
    }
   },
   "outputs": [
    {
     "name": "stdout",
     "output_type": "stream",
     "text": [
      "138563026948\n",
      "(2, (11,), (12, 4, 2))\n",
      "`unit_tests__check_two_kind` success!\n"
     ]
    }
   ],
   "source": [
    "def check_two_kind(bits):\n",
    "    double = get_highest_2k(bits)\n",
    "    if double > 0:\n",
    "        bits = remove_ranks(bits, double)\n",
    "        kickers = get_n_highest_1k(bits, n=3)\n",
    "        return TWO_KIND_RATING + (double << NUM_RANKS) + kickers\n",
    "    \n",
    "    return 0\n",
    "\n",
    "\n",
    "def unit_tests__check_two_kind():\n",
    "    \n",
    "    # 138563026948\n",
    "    \n",
    "    bits = cards_to_hand([(0, 2), (1, 11), (1, 12), (2, 4), (2, 11)])\n",
    "    ans = TWO_KIND_RATING + (1 << 11 << NUM_RANKS) + (1 << 2) + (1 << 4) + (1 << 12)\n",
    "    print(bits)\n",
    "    print(rating_bits_to_tuple(check_two_kind(bits)))\n",
    "    assert check_two_kind(bits) == ans\n",
    "    \n",
    "    bits = cards_to_hand([(0, 1), (1, 1), (2, 1), (3, 1), (0, 2), (1, 2), (0, 5)])\n",
    "    ans = TWO_KIND_RATING + (1 << 2 << NUM_RANKS) + (1 << 1) + (1 << 5)\n",
    "#     print(rating_bits_to_tuple(check_two_kind(bits)))\n",
    "    assert check_two_kind(bits) == ans\n",
    "\n",
    "    bits = cards_to_hand([(0, 1), (1, 1), (2, 1), (3, 1), (0, 2), (1, 2), (0, 5), (0, 7), (0, 9)])\n",
    "    ans = TWO_KIND_RATING + (1 << 2 << NUM_RANKS) + (1 << 9) + (1 << 7) + (1 << 5)\n",
    "#     print(rating_bits_to_tuple(check_two_kind(bits)))\n",
    "    assert check_two_kind(bits) == ans\n",
    "\n",
    "    bits = cards_to_hand([(0, 1), (1, 1), (2, 1), (3, 1), (0, 2), (1, 2), (2, 2), (0, 10)])\n",
    "    ans = TWO_KIND_RATING + (1 << 2 << NUM_RANKS) + (1 << 1) + (1 << 10)\n",
    "#     print(rating_bits_to_tuple(check_two_kind(bits)))\n",
    "    assert check_two_kind(bits) == ans\n",
    "\n",
    "    bits = cards_to_hand([(0, 1), (1, 1), (0, 2), (1, 2)])\n",
    "    ans = TWO_KIND_RATING + (1 << 2 << NUM_RANKS) + (1 << 1)\n",
    "#     print(rating_bits_to_tuple(check_two_kind(bits)))\n",
    "    assert check_two_kind(bits) == ans\n",
    "\n",
    "    bits = cards_to_hand([(0, 1), (1, 2)])\n",
    "    ans = 0\n",
    "#     print(rating_bits_to_tuple(check_two_kind(bits)))\n",
    "    assert check_two_kind(bits) == ans\n",
    "    \n",
    "\n",
    "run_unit_tests(unit_tests__check_two_kind)"
   ]
  },
  {
   "cell_type": "code",
   "execution_count": 60,
   "id": "a63c96d9",
   "metadata": {
    "ExecuteTime": {
     "end_time": "2023-04-20T21:10:51.485919Z",
     "start_time": "2023-04-20T21:10:51.475730Z"
    }
   },
   "outputs": [
    {
     "name": "stdout",
     "output_type": "stream",
     "text": [
      "`unit_tests__check_one_kind` success!\n"
     ]
    }
   ],
   "source": [
    "def check_one_kind(bits):\n",
    "    kickers = get_n_highest_1k(bits, n=5)\n",
    "    return ONE_KIND_RATING + kickers\n",
    "\n",
    "def unit_tests__check_one_kind():\n",
    "\n",
    "    bits = cards_to_hand([(0, 1), (1, 1), (2, 1), (3, 1), (0, 2), (1, 2), (0, 5)])\n",
    "    ans = ONE_KIND_RATING + BIT[1] + BIT[2] + BIT[5]\n",
    "    val = check_one_kind(bits)\n",
    "    assert val == ans\n",
    "\n",
    "    bits = cards_to_hand([(0, 1), (1, 1), (2, 1), (3, 1), (0, 2), (1, 2), (0, 5), (0, 7), (0, 9)])\n",
    "    ans = ONE_KIND_RATING + BIT[1] + BIT[2] + BIT[5] + BIT[7] + BIT[9]\n",
    "    val = check_one_kind(bits)\n",
    "    assert val == ans\n",
    "\n",
    "    bits = cards_to_hand([(0, 1), (1, 1), (2, 1), (3, 1), (0, 2), (1, 2), (0, 5), (0, 7), (0, 9), (3, 11)])\n",
    "    ans = ONE_KIND_RATING + BIT[2] + BIT[5] + BIT[7] + BIT[9] + BIT[11]\n",
    "    val = check_one_kind(bits)\n",
    "    assert val == ans\n",
    "\n",
    "    bits = cards_to_hand([(0, 1), (1, 1), (2, 1), (3, 1), (0, 2), (1, 2), (2, 2), (0, 10)])\n",
    "    ans = ONE_KIND_RATING + BIT[1] + BIT[2] + BIT[10]\n",
    "    val = check_one_kind(bits)\n",
    "    assert val == ans\n",
    "\n",
    "    bits = cards_to_hand([(0, 1), (1, 1), (0, 2), (1, 2)])\n",
    "    ans = ONE_KIND_RATING + BIT[1] + BIT[2]\n",
    "    val = check_one_kind(bits)\n",
    "    assert val == ans\n",
    "\n",
    "    bits = cards_to_hand([(0, 1), (1, 2)])\n",
    "    ans = ONE_KIND_RATING + BIT[1] + BIT[2]\n",
    "    val = check_one_kind(bits)\n",
    "    assert val == ans\n",
    "\n",
    "    bits = cards_to_hand([])\n",
    "    ans = ONE_KIND_RATING\n",
    "    val = check_one_kind(bits)\n",
    "    assert val == ans\n",
    "    \n",
    "\n",
    "run_unit_tests(unit_tests__check_one_kind)"
   ]
  },
  {
   "cell_type": "code",
   "execution_count": null,
   "id": "50955913",
   "metadata": {},
   "outputs": [],
   "source": []
  },
  {
   "cell_type": "code",
   "execution_count": 61,
   "id": "2ea2fb19",
   "metadata": {
    "ExecuteTime": {
     "end_time": "2023-04-20T21:10:52.202524Z",
     "start_time": "2023-04-20T21:10:52.197209Z"
    }
   },
   "outputs": [],
   "source": [
    "_calls__get_rating = 0\n",
    "_time__get_rating = 0\n",
    "\n",
    "def get_rating(hand):\n",
    "    global _calls__get_rating, _time__get_rating\n",
    "    _calls__get_rating += 1\n",
    "    st = time.process_time()\n",
    "    \n",
    "    while True:\n",
    "        val = check_straight_flush(hand)\n",
    "        if val > 0:\n",
    "            break\n",
    "            \n",
    "        val = check_four_kind(hand)\n",
    "        if val > 0:\n",
    "            break\n",
    "            \n",
    "        val = check_full_house(hand)\n",
    "        if val > 0:\n",
    "            break\n",
    "            \n",
    "        val = check_flush(hand)\n",
    "        if val > 0:\n",
    "            break\n",
    "            \n",
    "        val = check_straight(hand)\n",
    "        if val > 0:\n",
    "            break\n",
    "            \n",
    "        val = check_three_kind(hand)\n",
    "        if val > 0:\n",
    "            break\n",
    "            \n",
    "        val = check_two_pair(hand)\n",
    "        if val > 0:\n",
    "            break\n",
    "            \n",
    "        val = check_two_kind(hand)\n",
    "        if val > 0:\n",
    "            break\n",
    "            \n",
    "        val = check_one_kind(hand)\n",
    "        break\n",
    "\n",
    "    _time__get_rating += time.process_time() - st\n",
    "    return val\n",
    "        \n",
    "def get_hand_rtype(hand):\n",
    "    rating = get_rating(hand)\n",
    "    return rating_get_type(rating)\n",
    "    "
   ]
  },
  {
   "cell_type": "markdown",
   "id": "af8993aa",
   "metadata": {},
   "source": [
    "## Calculate potential of hands"
   ]
  },
  {
   "cell_type": "code",
   "execution_count": 138,
   "id": "1a28f251",
   "metadata": {
    "ExecuteTime": {
     "end_time": "2023-04-20T21:40:08.880765Z",
     "start_time": "2023-04-20T21:40:08.878269Z"
    }
   },
   "outputs": [],
   "source": [
    "# returns the maximum potential rating that a player hand could get\n",
    "_potential_fname = \"../data/potential.json\"\n",
    "_rating5_fname = \"../data/rating5.json\""
   ]
  },
  {
   "cell_type": "code",
   "execution_count": 136,
   "id": "35bb7ecd",
   "metadata": {
    "ExecuteTime": {
     "end_time": "2023-04-20T21:38:05.930547Z",
     "start_time": "2023-04-20T21:38:05.923020Z"
    }
   },
   "outputs": [],
   "source": [
    "def calc_potential_dict():\n",
    "    potential_dict = dict()\n",
    "    rating_dict = dict()\n",
    "    \n",
    "    rating_dict[0] = get_rating(0)\n",
    "\n",
    "    for c1 in range(NUM_CARDS):\n",
    "        b1 = BIT[c1]\n",
    "        t1 = b1\n",
    "        rating_dict[t1] = get_rating(t1)\n",
    "        \n",
    "        for c2 in range(c1):\n",
    "            b2 = BIT[c2]\n",
    "            t2 = t1 + b2\n",
    "            rating_dict[t2] = get_rating(t2)\n",
    "            \n",
    "            for c3 in range(c2):\n",
    "                b3 = BIT[c3]\n",
    "                t3 = t2 + b3\n",
    "                rating_dict[t3] = get_rating(t3)\n",
    "                \n",
    "                for c4 in range(c3):\n",
    "                    b4 = BIT[c4]\n",
    "                    t4 = t3 + b4\n",
    "                    rating_dict[t4] = get_rating(t4)\n",
    "                    \n",
    "                    for c5 in range(c4):\n",
    "                        b5 = BIT[c5]\n",
    "                        t5 = t4 + b5\n",
    "\n",
    "                        rating = get_rating(t5)\n",
    "                        rating_dict[t5] = rating\n",
    "\n",
    "                        # add it for every combo\n",
    "                        for on1 in [0, b1]:\n",
    "                            tt1 = on1\n",
    "                            for on2 in [0, b2]:\n",
    "                                tt2 = tt1 + on2\n",
    "                                for on3 in [0, b3]:\n",
    "                                    tt3 = tt2 + on3\n",
    "                                    for on4 in [0, b4]:\n",
    "                                        tt4 = tt3 + on4\n",
    "                                        for on5 in [0, b5]:\n",
    "                                            tt5 = tt4 + on5\n",
    "                                            \n",
    "                                            potential_dict[tt5] = max(potential_dict.get(tt5, 0), rating)\n",
    "                                            \n",
    "    return rating_dict, potential_dict\n"
   ]
  },
  {
   "cell_type": "code",
   "execution_count": 139,
   "id": "1d16faaa",
   "metadata": {
    "ExecuteTime": {
     "end_time": "2023-04-20T21:42:15.542651Z",
     "start_time": "2023-04-20T21:40:14.298961Z"
    }
   },
   "outputs": [],
   "source": [
    "# rating5_dict, potential_dict = calc_potential_dict()\n",
    "# # save potentials\n",
    "# with open(_potential_fname, \"w\") as f:\n",
    "#     json.dump(potential_dict, f)\n",
    "    \n",
    "# with open(_rating5_fname, \"w\") as f:\n",
    "#     json.dump(rating5_dict, f)\n",
    "    "
   ]
  },
  {
   "cell_type": "code",
   "execution_count": 140,
   "id": "fcd6f3a9",
   "metadata": {
    "ExecuteTime": {
     "end_time": "2023-04-20T21:42:28.074276Z",
     "start_time": "2023-04-20T21:42:19.940863Z"
    }
   },
   "outputs": [
    {
     "name": "stdout",
     "output_type": "stream",
     "text": [
      "2893164\n",
      "2893164\n"
     ]
    }
   ],
   "source": [
    "# load potentials\n",
    "with open(_potential_fname, \"r\") as f:\n",
    "    potential_dict = json.load(f)\n",
    "    potential_dict = {int(k): int(v) for k, v in potential_dict.items()}\n",
    "    \n",
    "# load ratings\n",
    "with open(_rating5_fname, \"r\") as f:\n",
    "    rating5_dict = json.load(f)\n",
    "    rating5_dict = {int(k): int(v) for k, v in rating5_dict.items()}\n",
    "    \n",
    "# expect 2893164\n",
    "print(len(potential_dict))\n",
    "print(len(rating5_dict))\n"
   ]
  },
  {
   "cell_type": "code",
   "execution_count": 141,
   "id": "2cb28f21",
   "metadata": {
    "ExecuteTime": {
     "end_time": "2023-04-20T21:42:30.366297Z",
     "start_time": "2023-04-20T21:42:30.363819Z"
    }
   },
   "outputs": [],
   "source": [
    "# def get_rating_fast(hand):\n",
    "#     if hand in rating5_dict:\n",
    "#         return rating5_dict[hand]\n",
    "    \n",
    "#     return get_rating(hand)"
   ]
  },
  {
   "cell_type": "markdown",
   "id": "1f5e819a",
   "metadata": {},
   "source": [
    "## testing"
   ]
  },
  {
   "cell_type": "code",
   "execution_count": 142,
   "id": "452128a4",
   "metadata": {
    "ExecuteTime": {
     "end_time": "2023-04-20T21:42:31.006123Z",
     "start_time": "2023-04-20T21:42:31.003240Z"
    }
   },
   "outputs": [],
   "source": [
    "# https://www.kaggle.com/datasets/rasvob/uci-poker-hand-dataset\n",
    "_test_file = \"../data/poker-hand-testing.csv\""
   ]
  },
  {
   "cell_type": "code",
   "execution_count": 143,
   "id": "c2f65b03",
   "metadata": {
    "ExecuteTime": {
     "end_time": "2023-04-20T21:42:32.829459Z",
     "start_time": "2023-04-20T21:42:31.531450Z"
    }
   },
   "outputs": [],
   "source": [
    "# read df and rename columns\n",
    "df = pd.read_csv(_test_file)\n",
    "df.columns = [f\"{c}{i}\" for i in range(5) for c in \"sr\"] + [\"rtype\"]\n",
    "\n",
    "# make rtypes 1-indexed\n",
    "# treat royal flush and straight flush as the same\n",
    "df[\"rtype\"] += 1\n",
    "df[\"rtype\"] = np.where(df[\"rtype\"] == (STRAIGHT_FLUSH_RATING >> RATING_TYPE_OFFSET) + 1, df[\"rtype\"] - 1, df[\"rtype\"])\n",
    "\n",
    "# convert rank 1 -> rank 14\n",
    "# make all ranks/suits 0 indexed\n",
    "\n",
    "\n",
    "# create hands\n",
    "df[\"hand\"] = 0\n",
    "\n",
    "for i in range(5):\n",
    "    scol = f\"s{i}\"\n",
    "    rcol = f\"r{i}\"\n",
    "    ccol = f\"c{i}\"\n",
    "    \n",
    "    df[rcol] = np.where(df[rcol] == 1, 14, df[rcol])\n",
    "    df[rcol] -= 2\n",
    "    df[scol] -= 1\n",
    "    \n",
    "    df[ccol] = df[scol] * NUM_RANKS + df[rcol]\n",
    "    \n",
    "    df[\"hand\"] += 2 ** (df[ccol])\n",
    "                           \n",
    "# df[\"bin_hand\"] = df[\"hand\"].apply(bin)\n",
    "\n",
    "# df = df[[\"hand\", \"rtype\"]].copy()\n",
    "df = df.drop_duplicates(subset=\"hand\").reset_index(drop=True)\n",
    "\n",
    "all_df = df\n",
    "\n"
   ]
  },
  {
   "cell_type": "code",
   "execution_count": 145,
   "id": "a12abec2",
   "metadata": {
    "ExecuteTime": {
     "end_time": "2023-04-20T21:42:57.437165Z",
     "start_time": "2023-04-20T21:42:35.818775Z"
    }
   },
   "outputs": [
    {
     "data": {
      "text/html": [
       "<div>\n",
       "<style scoped>\n",
       "    .dataframe tbody tr th:only-of-type {\n",
       "        vertical-align: middle;\n",
       "    }\n",
       "\n",
       "    .dataframe tbody tr th {\n",
       "        vertical-align: top;\n",
       "    }\n",
       "\n",
       "    .dataframe thead th {\n",
       "        text-align: right;\n",
       "    }\n",
       "</style>\n",
       "<table border=\"1\" class=\"dataframe\">\n",
       "  <thead>\n",
       "    <tr style=\"text-align: right;\">\n",
       "      <th></th>\n",
       "      <th>s0</th>\n",
       "      <th>r0</th>\n",
       "      <th>s1</th>\n",
       "      <th>r1</th>\n",
       "      <th>s2</th>\n",
       "      <th>r2</th>\n",
       "      <th>s3</th>\n",
       "      <th>r3</th>\n",
       "      <th>s4</th>\n",
       "      <th>r4</th>\n",
       "      <th>rtype</th>\n",
       "      <th>hand</th>\n",
       "      <th>c0</th>\n",
       "      <th>c1</th>\n",
       "      <th>c2</th>\n",
       "      <th>c3</th>\n",
       "      <th>c4</th>\n",
       "      <th>pred</th>\n",
       "    </tr>\n",
       "  </thead>\n",
       "  <tbody>\n",
       "  </tbody>\n",
       "</table>\n",
       "</div>"
      ],
      "text/plain": [
       "Empty DataFrame\n",
       "Columns: [s0, r0, s1, r1, s2, r2, s3, r3, s4, r4, rtype, hand, c0, c1, c2, c3, c4, pred]\n",
       "Index: []"
      ]
     },
     "execution_count": 145,
     "metadata": {},
     "output_type": "execute_result"
    }
   ],
   "source": [
    "df = all_df\n",
    "# df = all_df.iloc[:200000]\n",
    "\n",
    "\n",
    "# validate our get_hand_rtype\n",
    "df[\"pred\"] = df[\"hand\"].apply(get_hand_rtype)\n",
    "df[df[\"pred\"] != df[\"rtype\"]]"
   ]
  },
  {
   "cell_type": "code",
   "execution_count": 146,
   "id": "04d20922",
   "metadata": {
    "ExecuteTime": {
     "end_time": "2023-04-20T21:43:00.562923Z",
     "start_time": "2023-04-20T21:43:00.549099Z"
    }
   },
   "outputs": [
    {
     "data": {
      "text/html": [
       "<div>\n",
       "<style scoped>\n",
       "    .dataframe tbody tr th:only-of-type {\n",
       "        vertical-align: middle;\n",
       "    }\n",
       "\n",
       "    .dataframe tbody tr th {\n",
       "        vertical-align: top;\n",
       "    }\n",
       "\n",
       "    .dataframe thead th {\n",
       "        text-align: right;\n",
       "    }\n",
       "</style>\n",
       "<table border=\"1\" class=\"dataframe\">\n",
       "  <thead>\n",
       "    <tr style=\"text-align: right;\">\n",
       "      <th></th>\n",
       "      <th>s0</th>\n",
       "      <th>r0</th>\n",
       "      <th>s1</th>\n",
       "      <th>r1</th>\n",
       "      <th>s2</th>\n",
       "      <th>r2</th>\n",
       "      <th>s3</th>\n",
       "      <th>r3</th>\n",
       "      <th>s4</th>\n",
       "      <th>r4</th>\n",
       "      <th>rtype</th>\n",
       "      <th>hand</th>\n",
       "      <th>c0</th>\n",
       "      <th>c1</th>\n",
       "      <th>c2</th>\n",
       "      <th>c3</th>\n",
       "      <th>c4</th>\n",
       "      <th>pred</th>\n",
       "    </tr>\n",
       "  </thead>\n",
       "  <tbody>\n",
       "    <tr>\n",
       "      <th>0</th>\n",
       "      <td>0</td>\n",
       "      <td>12</td>\n",
       "      <td>0</td>\n",
       "      <td>11</td>\n",
       "      <td>1</td>\n",
       "      <td>2</td>\n",
       "      <td>1</td>\n",
       "      <td>1</td>\n",
       "      <td>0</td>\n",
       "      <td>10</td>\n",
       "      <td>1</td>\n",
       "      <td>56320</td>\n",
       "      <td>12</td>\n",
       "      <td>11</td>\n",
       "      <td>15</td>\n",
       "      <td>14</td>\n",
       "      <td>10</td>\n",
       "      <td>1</td>\n",
       "    </tr>\n",
       "    <tr>\n",
       "      <th>1</th>\n",
       "      <td>2</td>\n",
       "      <td>10</td>\n",
       "      <td>2</td>\n",
       "      <td>0</td>\n",
       "      <td>2</td>\n",
       "      <td>9</td>\n",
       "      <td>3</td>\n",
       "      <td>3</td>\n",
       "      <td>1</td>\n",
       "      <td>3</td>\n",
       "      <td>2</td>\n",
       "      <td>4501192900608</td>\n",
       "      <td>36</td>\n",
       "      <td>26</td>\n",
       "      <td>35</td>\n",
       "      <td>42</td>\n",
       "      <td>16</td>\n",
       "      <td>2</td>\n",
       "    </tr>\n",
       "    <tr>\n",
       "      <th>2</th>\n",
       "      <td>0</td>\n",
       "      <td>7</td>\n",
       "      <td>3</td>\n",
       "      <td>4</td>\n",
       "      <td>0</td>\n",
       "      <td>2</td>\n",
       "      <td>2</td>\n",
       "      <td>0</td>\n",
       "      <td>2</td>\n",
       "      <td>7</td>\n",
       "      <td>2</td>\n",
       "      <td>8804750065796</td>\n",
       "      <td>7</td>\n",
       "      <td>43</td>\n",
       "      <td>2</td>\n",
       "      <td>26</td>\n",
       "      <td>33</td>\n",
       "      <td>2</td>\n",
       "    </tr>\n",
       "    <tr>\n",
       "      <th>3</th>\n",
       "      <td>0</td>\n",
       "      <td>2</td>\n",
       "      <td>2</td>\n",
       "      <td>11</td>\n",
       "      <td>1</td>\n",
       "      <td>11</td>\n",
       "      <td>1</td>\n",
       "      <td>12</td>\n",
       "      <td>2</td>\n",
       "      <td>4</td>\n",
       "      <td>2</td>\n",
       "      <td>138563026948</td>\n",
       "      <td>2</td>\n",
       "      <td>37</td>\n",
       "      <td>24</td>\n",
       "      <td>25</td>\n",
       "      <td>30</td>\n",
       "      <td>2</td>\n",
       "    </tr>\n",
       "    <tr>\n",
       "      <th>4</th>\n",
       "      <td>2</td>\n",
       "      <td>8</td>\n",
       "      <td>1</td>\n",
       "      <td>5</td>\n",
       "      <td>0</td>\n",
       "      <td>0</td>\n",
       "      <td>1</td>\n",
       "      <td>9</td>\n",
       "      <td>3</td>\n",
       "      <td>7</td>\n",
       "      <td>1</td>\n",
       "      <td>70385928503297</td>\n",
       "      <td>34</td>\n",
       "      <td>18</td>\n",
       "      <td>0</td>\n",
       "      <td>22</td>\n",
       "      <td>46</td>\n",
       "      <td>1</td>\n",
       "    </tr>\n",
       "    <tr>\n",
       "      <th>...</th>\n",
       "      <td>...</td>\n",
       "      <td>...</td>\n",
       "      <td>...</td>\n",
       "      <td>...</td>\n",
       "      <td>...</td>\n",
       "      <td>...</td>\n",
       "      <td>...</td>\n",
       "      <td>...</td>\n",
       "      <td>...</td>\n",
       "      <td>...</td>\n",
       "      <td>...</td>\n",
       "      <td>...</td>\n",
       "      <td>...</td>\n",
       "      <td>...</td>\n",
       "      <td>...</td>\n",
       "      <td>...</td>\n",
       "      <td>...</td>\n",
       "      <td>...</td>\n",
       "    </tr>\n",
       "    <tr>\n",
       "      <th>829196</th>\n",
       "      <td>0</td>\n",
       "      <td>10</td>\n",
       "      <td>2</td>\n",
       "      <td>7</td>\n",
       "      <td>2</td>\n",
       "      <td>4</td>\n",
       "      <td>0</td>\n",
       "      <td>1</td>\n",
       "      <td>0</td>\n",
       "      <td>7</td>\n",
       "      <td>2</td>\n",
       "      <td>9663677570</td>\n",
       "      <td>10</td>\n",
       "      <td>33</td>\n",
       "      <td>30</td>\n",
       "      <td>1</td>\n",
       "      <td>7</td>\n",
       "      <td>2</td>\n",
       "    </tr>\n",
       "    <tr>\n",
       "      <th>829197</th>\n",
       "      <td>2</td>\n",
       "      <td>5</td>\n",
       "      <td>0</td>\n",
       "      <td>4</td>\n",
       "      <td>3</td>\n",
       "      <td>10</td>\n",
       "      <td>1</td>\n",
       "      <td>12</td>\n",
       "      <td>0</td>\n",
       "      <td>2</td>\n",
       "      <td>1</td>\n",
       "      <td>562952134459412</td>\n",
       "      <td>31</td>\n",
       "      <td>4</td>\n",
       "      <td>49</td>\n",
       "      <td>25</td>\n",
       "      <td>2</td>\n",
       "      <td>1</td>\n",
       "    </tr>\n",
       "    <tr>\n",
       "      <th>829198</th>\n",
       "      <td>2</td>\n",
       "      <td>12</td>\n",
       "      <td>0</td>\n",
       "      <td>10</td>\n",
       "      <td>1</td>\n",
       "      <td>7</td>\n",
       "      <td>3</td>\n",
       "      <td>7</td>\n",
       "      <td>1</td>\n",
       "      <td>4</td>\n",
       "      <td>2</td>\n",
       "      <td>70643623265280</td>\n",
       "      <td>38</td>\n",
       "      <td>10</td>\n",
       "      <td>20</td>\n",
       "      <td>46</td>\n",
       "      <td>17</td>\n",
       "      <td>2</td>\n",
       "    </tr>\n",
       "    <tr>\n",
       "      <th>829199</th>\n",
       "      <td>2</td>\n",
       "      <td>1</td>\n",
       "      <td>3</td>\n",
       "      <td>3</td>\n",
       "      <td>1</td>\n",
       "      <td>5</td>\n",
       "      <td>0</td>\n",
       "      <td>2</td>\n",
       "      <td>3</td>\n",
       "      <td>1</td>\n",
       "      <td>2</td>\n",
       "      <td>5497692618756</td>\n",
       "      <td>27</td>\n",
       "      <td>42</td>\n",
       "      <td>18</td>\n",
       "      <td>2</td>\n",
       "      <td>40</td>\n",
       "      <td>2</td>\n",
       "    </tr>\n",
       "    <tr>\n",
       "      <th>829200</th>\n",
       "      <td>1</td>\n",
       "      <td>3</td>\n",
       "      <td>1</td>\n",
       "      <td>7</td>\n",
       "      <td>3</td>\n",
       "      <td>7</td>\n",
       "      <td>1</td>\n",
       "      <td>1</td>\n",
       "      <td>2</td>\n",
       "      <td>1</td>\n",
       "      <td>3</td>\n",
       "      <td>70368879525888</td>\n",
       "      <td>16</td>\n",
       "      <td>20</td>\n",
       "      <td>46</td>\n",
       "      <td>14</td>\n",
       "      <td>27</td>\n",
       "      <td>3</td>\n",
       "    </tr>\n",
       "  </tbody>\n",
       "</table>\n",
       "<p>829201 rows × 18 columns</p>\n",
       "</div>"
      ],
      "text/plain": [
       "        s0  r0  s1  r1  s2  r2  s3  r3  s4  r4  rtype             hand  c0  \\\n",
       "0        0  12   0  11   1   2   1   1   0  10      1            56320  12   \n",
       "1        2  10   2   0   2   9   3   3   1   3      2    4501192900608  36   \n",
       "2        0   7   3   4   0   2   2   0   2   7      2    8804750065796   7   \n",
       "3        0   2   2  11   1  11   1  12   2   4      2     138563026948   2   \n",
       "4        2   8   1   5   0   0   1   9   3   7      1   70385928503297  34   \n",
       "...     ..  ..  ..  ..  ..  ..  ..  ..  ..  ..    ...              ...  ..   \n",
       "829196   0  10   2   7   2   4   0   1   0   7      2       9663677570  10   \n",
       "829197   2   5   0   4   3  10   1  12   0   2      1  562952134459412  31   \n",
       "829198   2  12   0  10   1   7   3   7   1   4      2   70643623265280  38   \n",
       "829199   2   1   3   3   1   5   0   2   3   1      2    5497692618756  27   \n",
       "829200   1   3   1   7   3   7   1   1   2   1      3   70368879525888  16   \n",
       "\n",
       "        c1  c2  c3  c4  pred  \n",
       "0       11  15  14  10     1  \n",
       "1       26  35  42  16     2  \n",
       "2       43   2  26  33     2  \n",
       "3       37  24  25  30     2  \n",
       "4       18   0  22  46     1  \n",
       "...     ..  ..  ..  ..   ...  \n",
       "829196  33  30   1   7     2  \n",
       "829197   4  49  25   2     1  \n",
       "829198  10  20  46  17     2  \n",
       "829199  42  18   2  40     2  \n",
       "829200  20  46  14  27     3  \n",
       "\n",
       "[829201 rows x 18 columns]"
      ]
     },
     "execution_count": 146,
     "metadata": {},
     "output_type": "execute_result"
    }
   ],
   "source": [
    "df"
   ]
  },
  {
   "cell_type": "markdown",
   "id": "1426831e",
   "metadata": {},
   "source": [
    "## Game"
   ]
  },
  {
   "cell_type": "code",
   "execution_count": 147,
   "id": "befa3f2e",
   "metadata": {
    "ExecuteTime": {
     "end_time": "2023-04-20T21:43:02.705582Z",
     "start_time": "2023-04-20T21:43:02.703162Z"
    }
   },
   "outputs": [],
   "source": [
    "import copy"
   ]
  },
  {
   "cell_type": "code",
   "execution_count": 148,
   "id": "0b71a5a9",
   "metadata": {
    "ExecuteTime": {
     "end_time": "2023-04-20T21:43:03.138927Z",
     "start_time": "2023-04-20T21:43:03.136441Z"
    }
   },
   "outputs": [],
   "source": [
    "# Game parameters\n",
    "NUM_PLAYER_CARDS = 5\n",
    "MIN_DEALER_CARDS = 8\n"
   ]
  },
  {
   "cell_type": "code",
   "execution_count": 149,
   "id": "737db891",
   "metadata": {
    "ExecuteTime": {
     "end_time": "2023-04-20T21:43:03.522625Z",
     "start_time": "2023-04-20T21:43:03.519147Z"
    }
   },
   "outputs": [],
   "source": [
    "def init_deck():\n",
    "    deck = copy.deepcopy(BIT)\n",
    "#     deck = [i for i in range(NUM_CARDS)]\n",
    "    np.random.shuffle(deck)\n",
    "    return deck\n",
    "\n",
    "\n",
    "def get_rem_deck(rem_mask):\n",
    "    deck = []\n",
    "    for ind in range(NUM_CARDS):\n",
    "        if BIT[ind] & rem_mask:\n",
    "            deck += [BIT[ind]]\n",
    "    \n",
    "    return deck\n",
    "\n",
    "def get_random_ask():\n",
    "    return np.random.randint((1 << NUM_CARDS))\n",
    "\n",
    "def get_rem_hand(player_hand, dealer_hand):\n",
    "    return ALL_BITS ^ player_hand ^ dealer_hand\n"
   ]
  },
  {
   "cell_type": "code",
   "execution_count": 150,
   "id": "b24df479",
   "metadata": {
    "ExecuteTime": {
     "end_time": "2023-04-20T21:43:03.910189Z",
     "start_time": "2023-04-20T21:43:03.904808Z"
    }
   },
   "outputs": [],
   "source": [
    "def deal_cards(deck, deck_ind, player_ask, player_hand, dealer_hand):\n",
    "    ind = deck_ind\n",
    "    for ind in range(deck_ind, len(deck)):\n",
    "        card_bit = deck[ind]\n",
    "        card_val = ind_to_card(np.log2(card_bit).astype(int))\n",
    "        \n",
    "        if (card_bit & player_ask) > 0:\n",
    "            player_hand |= card_bit\n",
    "            return ind + 1, player_hand, dealer_hand        \n",
    "        else:\n",
    "            dealer_hand |= card_bit\n",
    "\n",
    "        \n",
    "    return ind, player_hand, dealer_hand\n",
    "\n",
    "\n",
    "def deal_min_cards(deck, deck_ind, dealer_hand):\n",
    "    num_extra = max(0, MIN_DEALER_CARDS - dealer_hand.bit_count())\n",
    "    \n",
    "    ind = deck_ind\n",
    "    for ind in range(deck_ind, min(len(deck), deck_ind + num_extra)):\n",
    "        card_bit = deck[ind]\n",
    "        card_val = ind_to_card(np.log2(card_bit).astype(int))\n",
    "        \n",
    "        dealer_hand |= card_bit\n",
    "\n",
    "        \n",
    "    return ind, dealer_hand\n",
    "\n"
   ]
  },
  {
   "cell_type": "code",
   "execution_count": 151,
   "id": "a5bdc99e",
   "metadata": {
    "ExecuteTime": {
     "end_time": "2023-04-20T21:43:04.272026Z",
     "start_time": "2023-04-20T21:43:04.268166Z"
    }
   },
   "outputs": [],
   "source": [
    "def rollout_to_end(deck, deck_ind, player_hand, dealer_hand, player_ask_fn):\n",
    "    num_iters = NUM_PLAYER_CARDS - player_hand.bit_count()\n",
    "    \n",
    "    \n",
    "    \n",
    "    for i in range(num_iters):\n",
    "        player_ask = player_ask_fn(player_hand, dealer_hand)\n",
    "        \n",
    "        deck_ind, player_hand, dealer_hand = deal_cards(deck, deck_ind, player_ask, player_hand, dealer_hand)\n",
    "        \n",
    "        \n",
    "    deck_ind, dealer_hand = deal_min_cards(deck, deck_ind, dealer_hand)\n",
    "    \n",
    "    return player_hand, dealer_hand"
   ]
  },
  {
   "cell_type": "code",
   "execution_count": 152,
   "id": "1f85b4f7",
   "metadata": {
    "ExecuteTime": {
     "end_time": "2023-04-20T21:43:04.633304Z",
     "start_time": "2023-04-20T21:43:04.628364Z"
    }
   },
   "outputs": [],
   "source": [
    "def rollout_one(player_hand, dealer_hand, use_mask, skip_mask, trials):\n",
    "    # always apply these two masks\n",
    "    # use mask is always |\n",
    "    # skip_mask is always &\n",
    "    \n",
    "    assert player_hand.bit_count() == NUM_PLAYER_CARDS - 1\n",
    "    \n",
    "    # setup deck\n",
    "    rem_mask = get_rem_hand(player_hand, dealer_hand)\n",
    "    deck = get_rem_deck(rem_mask)\n",
    "    \n",
    "    # setup ask fn\n",
    "    player_ask = (get_random_ask() & skip_mask) | use_mask\n",
    "    def ask_fn(player_hand, dealer_hand):\n",
    "        return player_ask\n",
    "    \n",
    "    # run trials\n",
    "    wins = 0\n",
    "    for t in range(trials):\n",
    "        # shuffle the deck\n",
    "        np.random.shuffle(deck)\n",
    "        \n",
    "        player_hand, dealer_hand = rollout_to_end(\n",
    "            deck=deck,\n",
    "            deck_ind=0,\n",
    "            player_hand=player_hand,\n",
    "            dealer_hand=dealer_hand,\n",
    "            player_ask_fn=ask_fn,\n",
    "        )\n",
    "        \n",
    "        # compare player_hand, dealer_hand\n",
    "        player_rating = rating5_dict[player_hand]\n",
    "        dealer_rating = get_rating(dealer_hand)\n",
    "        \n",
    "        if player_rating > dealer_rating:\n",
    "            wins += 1\n",
    "    \n",
    "    return wins / trials\n"
   ]
  },
  {
   "cell_type": "code",
   "execution_count": 157,
   "id": "2ba2a69c",
   "metadata": {
    "ExecuteTime": {
     "end_time": "2023-04-20T21:45:06.288794Z",
     "start_time": "2023-04-20T21:45:06.283639Z"
    }
   },
   "outputs": [],
   "source": [
    "def get_player_ask(player_hand, dealer_hand):\n",
    "        \n",
    "    use_mask = 0\n",
    "    skip_mask = ALL_BITS\n",
    "    \n",
    "    # get dealer rating\n",
    "    dealer_rating = get_rating(dealer_hand)\n",
    "\n",
    "    # check if we have any chance of winning\n",
    "    # if we don't, take any card\n",
    "    orig_player_potential = potential_dict[player_hand]\n",
    "    if orig_player_potential <= dealer_rating: \n",
    "        return ALL_BITS\n",
    "\n",
    "    rem_mask = get_rem_hand(player_hand, dealer_hand)\n",
    "\n",
    "    for ind in range(NUM_CARDS):\n",
    "        card_bit = BIT[ind]\n",
    "\n",
    "        # only test cards that remain\n",
    "        if rem_mask & card_bit == 0:\n",
    "            continue\n",
    "\n",
    "        use1, skip1 = use_mask ^ card_bit, skip_mask\n",
    "        use2, skip2 = use_mask, skip_mask ^ card_bit\n",
    "\n",
    "        # see if we definitely do NOT want this card\n",
    "        player_potential = potential_dict[player_hand + card_bit]\n",
    "        if player_potential <= dealer_rating:\n",
    "            use_mask, skip_mask = use2, skip2\n",
    "            continue\n",
    "\n",
    "        # see if we definitely WANT this card\n",
    "#         if player_hand.bit_count() == 4:\n",
    "#             dealer_potential = get_rating(dealer_hand + card_bit)\n",
    "#             if orig_player_potential <= dealer_potential:\n",
    "#                 use_mask, skip_mask = use1, skip1\n",
    "#                 continue\n",
    "    \n",
    "    \n",
    "    ask = rbits_to_bits(BIT[12] + BIT[11] + BIT[10] + BIT[9] + BIT[8] + BIT[4])\n",
    "    ask = (ask & skip_mask) | use_mask\n",
    "    return ask\n",
    "    "
   ]
  },
  {
   "cell_type": "code",
   "execution_count": 158,
   "id": "a565871e",
   "metadata": {
    "ExecuteTime": {
     "end_time": "2023-04-20T21:45:06.907710Z",
     "start_time": "2023-04-20T21:45:06.903078Z"
    }
   },
   "outputs": [],
   "source": [
    "# run a game\n",
    "def run_game(player_ask_fn):\n",
    "    deck = init_deck()\n",
    "    \n",
    "    # print the deck\n",
    "#     print([ind_to_card(v) for v in np.log2(deck).astype(int)])\n",
    "\n",
    "    deck_ind = 0\n",
    "    player_hand = 0\n",
    "    dealer_hand = 0\n",
    "\n",
    "    for i in range(NUM_PLAYER_CARDS):\n",
    "        player_ask = player_ask_fn(player_hand, dealer_hand)\n",
    "#         print(\"phand\", hand_to_cards(player_hand))\n",
    "#         print(\"dhand\", hand_to_cards(dealer_hand))\n",
    "#         print(\"player_ask\", hand_to_cards(player_ask))\n",
    "#         print()\n",
    "        \n",
    "        \n",
    "        # iterate cards\n",
    "        deck_ind, player_hand, dealer_hand = deal_cards(deck, deck_ind, player_ask, player_hand, dealer_hand)\n",
    "        \n",
    "    ## add minimum cards\n",
    "    deck_ind, dealer_hand = deal_min_cards(deck, deck_ind, dealer_hand)\n",
    "\n",
    "    # calc ratings\n",
    "    player_rating = rating5_dict[player_hand]\n",
    "    dealer_rating = get_rating(dealer_hand)\n",
    "    \n",
    "    return player_hand, dealer_hand, player_rating, dealer_rating"
   ]
  },
  {
   "cell_type": "code",
   "execution_count": 159,
   "id": "8debfe8f",
   "metadata": {
    "ExecuteTime": {
     "end_time": "2023-04-20T21:45:07.394206Z",
     "start_time": "2023-04-20T21:45:07.389050Z"
    }
   },
   "outputs": [
    {
     "data": {
      "text/plain": [
       "(562949991171584, 52779243577476, 213913600, 202637376)"
      ]
     },
     "execution_count": 159,
     "metadata": {},
     "output_type": "execute_result"
    }
   ],
   "source": [
    "run_game(get_player_ask)"
   ]
  },
  {
   "cell_type": "code",
   "execution_count": 161,
   "id": "ee92065d",
   "metadata": {
    "ExecuteTime": {
     "end_time": "2023-04-20T21:45:19.006727Z",
     "start_time": "2023-04-20T21:45:15.121261Z"
    },
    "scrolled": true
   },
   "outputs": [
    {
     "name": "stdout",
     "output_type": "stream",
     "text": [
      "mean 0.3361\n",
      "std 0.004723971908369089\n",
      "95% interval 0.3267 0.3455\n",
      "\n",
      "total time 3.8711299999999937\n",
      "get_rating calls 60000\n",
      "get_rating time 1.548025000020516\n",
      "get_rating time per call 2.58004166670086e-05\n"
     ]
    }
   ],
   "source": [
    "start_calls = _calls__get_rating\n",
    "start_time = _time__get_rating\n",
    "\n",
    "st = time.process_time()\n",
    "\n",
    "all_data = []\n",
    "_num_trials = 10000\n",
    "\n",
    "for t in range(_num_trials):\n",
    "    data = run_game(get_player_ask)\n",
    "#     print(\"trial\", t, data)\n",
    "    all_data += [data]\n",
    "    \n",
    "# create summary df\n",
    "df = pd.DataFrame(all_data, columns=[\"phand\", \"dhand\", \"prat\", \"drat\"])\n",
    "df[\"pwin\"] = (df[\"prat\"] > df[\"drat\"]).astype(int)\n",
    "\n",
    "# print stats\n",
    "stats = df[\"pwin\"].describe()\n",
    "std = stats[\"std\"] / np.sqrt(stats[\"count\"])\n",
    "print(\"mean\", stats[\"mean\"])\n",
    "print(\"std\", std)\n",
    "print(\"95% interval\", round(stats[\"mean\"] - 2 * std, 4), round(stats[\"mean\"] + 2 * std, 4))\n",
    "print()\n",
    "\n",
    "\n",
    "print(\"total time\", time.process_time() - st)\n",
    "\n",
    "\n",
    "num_calls = _calls__get_rating - start_calls\n",
    "num_time = _time__get_rating - start_time\n",
    "print(\"get_rating calls\", num_calls)\n",
    "print(\"get_rating time\", num_time)\n",
    "print(\"get_rating time per call\", num_time / num_calls)\n"
   ]
  },
  {
   "cell_type": "code",
   "execution_count": null,
   "id": "c4f74792",
   "metadata": {
    "ExecuteTime": {
     "end_time": "2023-04-20T21:43:17.398837Z",
     "start_time": "2023-04-20T21:43:17.398821Z"
    }
   },
   "outputs": [],
   "source": [
    "361424"
   ]
  },
  {
   "cell_type": "code",
   "execution_count": 45,
   "id": "68f95b17",
   "metadata": {
    "ExecuteTime": {
     "end_time": "2023-04-20T21:08:57.152124Z",
     "start_time": "2023-04-20T21:08:56.947672Z"
    }
   },
   "outputs": [
    {
     "data": {
      "text/plain": [
       "(array([    0.,     0.,     0.,     0.,     0., 10000.,     0.,     0.,\n",
       "            0.,     0.]),\n",
       " array([4.5, 4.6, 4.7, 4.8, 4.9, 5. , 5.1, 5.2, 5.3, 5.4, 5.5]),\n",
       " <BarContainer object of 10 artists>)"
      ]
     },
     "execution_count": 45,
     "metadata": {},
     "output_type": "execute_result"
    },
    {
     "data": {
      "image/png": "[encoded data removed]",
      "text/plain": [
       "<Figure size 640x480 with 1 Axes>"
      ]
     },
     "metadata": {},
     "output_type": "display_data"
    }
   ],
   "source": [
    "plt.hist(df[\"phand\"].apply(lambda x : x.bit_count()))\n"
   ]
  },
  {
   "cell_type": "code",
   "execution_count": 120,
   "id": "44febe30",
   "metadata": {
    "ExecuteTime": {
     "end_time": "2023-04-20T21:28:06.456875Z",
     "start_time": "2023-04-20T21:28:06.454047Z"
    }
   },
   "outputs": [],
   "source": [
    "x1 = np.array([1])"
   ]
  },
  {
   "cell_type": "code",
   "execution_count": 121,
   "id": "32b37f8d",
   "metadata": {
    "ExecuteTime": {
     "end_time": "2023-04-20T21:28:10.701806Z",
     "start_time": "2023-04-20T21:28:06.811772Z"
    }
   },
   "outputs": [
    {
     "name": "stdout",
     "output_type": "stream",
     "text": [
      "474 ns ± 5.33 ns per loop (mean ± std. dev. of 7 runs, 1,000,000 loops each)\n"
     ]
    }
   ],
   "source": [
    "%%timeit\n",
    "x1 + x1"
   ]
  },
  {
   "cell_type": "code",
   "execution_count": 122,
   "id": "a99299fe",
   "metadata": {
    "ExecuteTime": {
     "end_time": "2023-04-20T21:28:11.561683Z",
     "start_time": "2023-04-20T21:28:11.558841Z"
    }
   },
   "outputs": [],
   "source": [
    "x2 = np.array([1 for i in range(100)])"
   ]
  },
  {
   "cell_type": "code",
   "execution_count": 123,
   "id": "5486ed28",
   "metadata": {
    "ExecuteTime": {
     "end_time": "2023-04-20T21:28:15.746832Z",
     "start_time": "2023-04-20T21:28:11.776094Z"
    }
   },
   "outputs": [
    {
     "name": "stdout",
     "output_type": "stream",
     "text": [
      "483 ns ± 6.3 ns per loop (mean ± std. dev. of 7 runs, 1,000,000 loops each)\n"
     ]
    }
   ],
   "source": [
    "%%timeit\n",
    "x2 + x2"
   ]
  },
  {
   "cell_type": "code",
   "execution_count": 124,
   "id": "a9d33aeb",
   "metadata": {
    "ExecuteTime": {
     "end_time": "2023-04-20T21:28:16.420786Z",
     "start_time": "2023-04-20T21:28:16.416733Z"
    }
   },
   "outputs": [],
   "source": [
    "x2 = np.array([1 for i in range(10000)])"
   ]
  },
  {
   "cell_type": "code",
   "execution_count": 125,
   "id": "47536c76",
   "metadata": {
    "ExecuteTime": {
     "end_time": "2023-04-20T21:28:19.327374Z",
     "start_time": "2023-04-20T21:28:16.600698Z"
    }
   },
   "outputs": [
    {
     "name": "stdout",
     "output_type": "stream",
     "text": [
      "3.28 µs ± 43.2 ns per loop (mean ± std. dev. of 7 runs, 100,000 loops each)\n"
     ]
    }
   ],
   "source": [
    "%%timeit\n",
    "x2 + x2"
   ]
  },
  {
   "cell_type": "code",
   "execution_count": 128,
   "id": "c9c3de5c",
   "metadata": {
    "ExecuteTime": {
     "end_time": "2023-04-20T21:29:17.563393Z",
     "start_time": "2023-04-20T21:29:17.548811Z"
    }
   },
   "outputs": [],
   "source": [
    "x2 = np.array([1 for i in range(100000)])"
   ]
  },
  {
   "cell_type": "code",
   "execution_count": 129,
   "id": "107b917d",
   "metadata": {
    "ExecuteTime": {
     "end_time": "2023-04-20T21:29:20.882931Z",
     "start_time": "2023-04-20T21:29:18.274231Z"
    }
   },
   "outputs": [
    {
     "name": "stdout",
     "output_type": "stream",
     "text": [
      "31.6 µs ± 336 ns per loop (mean ± std. dev. of 7 runs, 10,000 loops each)\n"
     ]
    }
   ],
   "source": [
    "%%timeit\n",
    "x2 + x2"
   ]
  },
  {
   "cell_type": "code",
   "execution_count": 130,
   "id": "dca674f9",
   "metadata": {
    "ExecuteTime": {
     "end_time": "2023-04-20T21:29:27.581408Z",
     "start_time": "2023-04-20T21:29:27.478825Z"
    }
   },
   "outputs": [],
   "source": [
    "x2 = np.array([1 for i in range(1000000)])"
   ]
  },
  {
   "cell_type": "code",
   "execution_count": 131,
   "id": "6474efbd",
   "metadata": {
    "ExecuteTime": {
     "end_time": "2023-04-20T21:29:38.615426Z",
     "start_time": "2023-04-20T21:29:27.980218Z"
    }
   },
   "outputs": [
    {
     "name": "stdout",
     "output_type": "stream",
     "text": [
      "1.3 ms ± 38.7 µs per loop (mean ± std. dev. of 7 runs, 1,000 loops each)\n"
     ]
    }
   ],
   "source": [
    "%%timeit\n",
    "x2 + x2"
   ]
  },
  {
   "cell_type": "code",
   "execution_count": null,
   "id": "8d5b09ea",
   "metadata": {},
   "outputs": [],
   "source": []
  }
 ],
 "metadata": {
  "kernelspec": {
   "display_name": "Python 3 (ipykernel)",
   "language": "python",
   "name": "python3"
  },
  "language_info": {
   "codemirror_mode": {
    "name": "ipython",
    "version": 3
   },
   "file_extension": ".py",
   "mimetype": "text/x-python",
   "name": "python",
   "nbconvert_exporter": "python",
   "pygments_lexer": "ipython3",
   "version": "3.10.9"
  },
  "toc": {
   "base_numbering": 1,
   "nav_menu": {},
   "number_sections": true,
   "sideBar": true,
   "skip_h1_title": false,
   "title_cell": "Table of Contents",
   "title_sidebar": "Contents",
   "toc_cell": false,
   "toc_position": {
    "height": "calc(100% - 180px)",
    "left": "10px",
    "top": "150px",
    "width": "358.391px"
   },
   "toc_section_display": true,
   "toc_window_display": true
  },
  "varInspector": {
   "cols": {
    "lenName": 16,
    "lenType": 16,
    "lenVar": 40
   },
   "kernels_config": {
    "python": {
     "delete_cmd_postfix": "",
     "delete_cmd_prefix": "del ",
     "library": "var_list.py",
     "varRefreshCmd": "print(var_dic_list())"
    },
    "r": {
     "delete_cmd_postfix": ") ",
     "delete_cmd_prefix": "rm(",
     "library": "var_list.r",
     "varRefreshCmd": "cat(var_dic_list()) "
    }
   },
   "types_to_exclude": [
    "module",
    "function",
    "builtin_function_or_method",
    "instance",
    "_Feature"
   ],
   "window_display": false
  }
 },
 "nbformat": 4,
 "nbformat_minor": 5
}
