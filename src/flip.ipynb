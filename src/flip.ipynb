{
 "cells": [
  {
   "cell_type": "markdown",
   "id": "e39825ca",
   "metadata": {},
   "source": [
    "## hand representation\n",
    "- bit-vector"
   ]
  },
  {
   "cell_type": "code",
   "execution_count": 4,
   "id": "1c830dcf",
   "metadata": {
    "ExecuteTime": {
     "end_time": "2023-04-19T17:05:34.084041Z",
     "start_time": "2023-04-19T17:05:34.019450Z"
    }
   },
   "outputs": [
    {
     "data": {
      "text/html": [
       "<style>.container { width:75% !important; }</style>"
      ],
      "text/plain": [
       "<IPython.core.display.HTML object>"
      ]
     },
     "metadata": {},
     "output_type": "display_data"
    }
   ],
   "source": [
    "from IPython.display import display, HTML\n",
    "import ipywidgets as widgets\n",
    "from ipywidgets import interact\n",
    "display(HTML(\"<style>.container { width:75% !important; }</style>\"))"
   ]
  },
  {
   "cell_type": "code",
   "execution_count": 5,
   "id": "bb4f3b41",
   "metadata": {
    "ExecuteTime": {
     "end_time": "2023-04-19T17:05:38.179668Z",
     "start_time": "2023-04-19T17:05:34.557748Z"
    }
   },
   "outputs": [],
   "source": [
    "import numpy as np\n",
    "import pandas as pd\n",
    "import matplotlib.pyplot as plt\n"
   ]
  },
  {
   "cell_type": "markdown",
   "id": "fba3e235",
   "metadata": {},
   "source": [
    "## Params"
   ]
  },
  {
   "cell_type": "code",
   "execution_count": 6,
   "id": "1b759350",
   "metadata": {
    "ExecuteTime": {
     "end_time": "2023-04-19T17:05:39.058674Z",
     "start_time": "2023-04-19T17:05:39.055779Z"
    }
   },
   "outputs": [],
   "source": [
    "_RUN_UNIT_TESTS = True"
   ]
  },
  {
   "cell_type": "markdown",
   "id": "f7d2ba35",
   "metadata": {},
   "source": [
    "## Game constants"
   ]
  },
  {
   "cell_type": "code",
   "execution_count": 170,
   "id": "4c402e5e",
   "metadata": {
    "ExecuteTime": {
     "end_time": "2023-04-19T17:34:07.798028Z",
     "start_time": "2023-04-19T17:34:07.795392Z"
    }
   },
   "outputs": [],
   "source": [
    "# game constants\n",
    "NUM_RANKS = 13\n",
    "NUM_SUITS = 4\n",
    "NUM_CARDS = NUM_RANKS * NUM_SUITS\n",
    "CARDS = [(s, r) for s in range(NUM_SUITS) for r in range(NUM_RANKS)]\n",
    "\n",
    "STRAIGHT_FLUSH_LEN = 5\n",
    "STRAIGHT_LEN = 5\n",
    "FLUSH_LEN = 5\n",
    "FOUR_KIND_LEN = 4\n",
    "THREE_KIND_LEN = 3\n",
    "TWO_KIND_LEN = 2\n"
   ]
  },
  {
   "cell_type": "code",
   "execution_count": 227,
   "id": "9b1d530f",
   "metadata": {
    "ExecuteTime": {
     "end_time": "2023-04-19T18:10:07.432592Z",
     "start_time": "2023-04-19T18:10:07.429498Z"
    }
   },
   "outputs": [],
   "source": [
    "# ratings\n",
    "RATING_OFFSET = 2 * NUM_RANKS\n",
    "\n",
    "STRAIGHT_FLUSH_RATING = 9 << RATING_OFFSET\n",
    "FOUR_KIND_RATING = 8 << RATING_OFFSET\n",
    "FULL_HOUSE_RATING = 7 << RATING_OFFSET\n",
    "FLUSH_RATING = 6 << RATING_OFFSET\n",
    "STRAIGHT_RATING = 5 << RATING_OFFSET\n",
    "THREE_KIND_RATING = 4 << RATING_OFFSET\n",
    "TWO_PAIR_RATING = 3 << RATING_OFFSET\n",
    "TWO_KIND_RATING = 2 << RATING_OFFSET\n",
    "ONE_KIND_RATING = 1 << RATING_OFFSET\n",
    "\n",
    "\n",
    "RATING_MASK = 15 << RATING_OFFSET\n"
   ]
  },
  {
   "cell_type": "markdown",
   "id": "80301ee5",
   "metadata": {},
   "source": [
    "## Masks\n",
    "- _suit_mask: _suit_mask[s] gives bit mask for all cards of suit s\n",
    "- _bit_mask: _bit_mask[ind] gives bit mask for bitind 'ind'\n",
    "- _bit_mask2: _bit_mask2[s][r] gives bit mask for card (s, r)"
   ]
  },
  {
   "cell_type": "code",
   "execution_count": 289,
   "id": "83eeed4e",
   "metadata": {
    "ExecuteTime": {
     "end_time": "2023-04-19T18:32:07.182448Z",
     "start_time": "2023-04-19T18:32:07.178856Z"
    }
   },
   "outputs": [],
   "source": [
    "_all_mask = (1 << NUM_CARDS) - 1\n",
    "_bit_mask = [1 << i for i in range(NUM_CARDS)]\n",
    "_bit_mask2 = [[(1 << (s * NUM_RANKS + r)) for r in range(NUM_RANKS)] for s in range(NUM_SUITS)]"
   ]
  },
  {
   "cell_type": "code",
   "execution_count": 292,
   "id": "6a7735f5",
   "metadata": {
    "ExecuteTime": {
     "end_time": "2023-04-19T18:32:13.242707Z",
     "start_time": "2023-04-19T18:32:13.239696Z"
    }
   },
   "outputs": [],
   "source": [
    "_suit_masks = [((1 << NUM_RANKS) - 1) << (s * NUM_RANKS) for s in range(NUM_SUITS)]\n",
    "_rank_masks = [sum([1 << (s * NUM_RANKS + r) for s in range(NUM_SUITS)]) for r in range(NUM_RANKS)]\n",
    "\n",
    "_suit_mask = _suit_masks[0]"
   ]
  },
  {
   "cell_type": "code",
   "execution_count": 293,
   "id": "1fe371f8",
   "metadata": {
    "ExecuteTime": {
     "end_time": "2023-04-19T18:32:13.480759Z",
     "start_time": "2023-04-19T18:32:13.478029Z"
    }
   },
   "outputs": [],
   "source": [
    "base_masks = []\n",
    "for s1 in range(NUM_SUITS):\n",
    "    for s2 in range(s1):\n",
    "        val = _bit_mask[s1 * NUM_RANKS] + _bit_mask[s2 * NUM_RANKS]\n",
    "        base_masks += [val]\n",
    "\n",
    "_2k_masks = []\n",
    "for r in range(NUM_RANKS):\n",
    "    _2k_masks += [bmask << r for bmask in base_masks]"
   ]
  },
  {
   "cell_type": "markdown",
   "id": "002b25d5",
   "metadata": {},
   "source": [
    "## Utils"
   ]
  },
  {
   "cell_type": "code",
   "execution_count": 294,
   "id": "27e4dc8a",
   "metadata": {
    "ExecuteTime": {
     "end_time": "2023-04-19T18:32:13.965598Z",
     "start_time": "2023-04-19T18:32:13.963225Z"
    }
   },
   "outputs": [],
   "source": [
    "def binify(bits_list):\n",
    "    return [bin(b) for b in bits_list]"
   ]
  },
  {
   "cell_type": "code",
   "execution_count": 295,
   "id": "7f854c12",
   "metadata": {
    "ExecuteTime": {
     "end_time": "2023-04-19T18:32:14.194941Z",
     "start_time": "2023-04-19T18:32:14.192493Z"
    }
   },
   "outputs": [],
   "source": [
    "def run_unit_tests(unit_fn):\n",
    "    unit_fn()\n",
    "    print(f\"`{unit_fn.__name__}` success!\")"
   ]
  },
  {
   "cell_type": "code",
   "execution_count": 286,
   "id": "24ad86c6",
   "metadata": {
    "ExecuteTime": {
     "end_time": "2023-04-19T18:29:42.990632Z",
     "start_time": "2023-04-19T18:29:42.987690Z"
    }
   },
   "outputs": [],
   "source": [
    "def get_bits_by_suit(bits):\n",
    "    vals = []\n",
    "    for s in range(NUM_SUITS):\n",
    "        vals += [(bits >> (s * NUM_RANKS)) & _suit_mask]\n",
    "    return vals"
   ]
  },
  {
   "cell_type": "code",
   "execution_count": 297,
   "id": "92a0a80e",
   "metadata": {
    "ExecuteTime": {
     "end_time": "2023-04-19T18:32:26.193502Z",
     "start_time": "2023-04-19T18:32:26.190959Z"
    }
   },
   "outputs": [],
   "source": [
    "def inv_bits(bits):\n",
    "    return bits ^ _all_mask"
   ]
  },
  {
   "cell_type": "code",
   "execution_count": 235,
   "id": "bf06e223",
   "metadata": {
    "ExecuteTime": {
     "end_time": "2023-04-19T18:10:09.735190Z",
     "start_time": "2023-04-19T18:10:09.732569Z"
    }
   },
   "outputs": [],
   "source": [
    "# returns bit vector of NUM_RANKS length\n",
    "def get_kicker_bits(bits):\n",
    "    total = 0\n",
    "    for s in range(NUM_SUITS):\n",
    "        total = total | (bits >> (s * NUM_RANKS))\n",
    "    \n",
    "    return total & _suit_mask\n",
    "\n",
    "def get_2k_bits(bits):\n",
    "    bits_by_suit = get_bits_by_suit(bits)\n",
    "    \n",
    "    \n",
    "    "
   ]
  },
  {
   "cell_type": "code",
   "execution_count": 232,
   "id": "5f72dac6",
   "metadata": {
    "ExecuteTime": {
     "end_time": "2023-04-19T18:10:09.047624Z",
     "start_time": "2023-04-19T18:10:09.044809Z"
    }
   },
   "outputs": [],
   "source": [
    "# returns highest bit (1 << bitind)\n",
    "\n",
    "def get_n_highest_bits(bits, n):\n",
    "    v = 0\n",
    "    for i in range(n):\n",
    "        b = get_highest_bit(bits)\n",
    "        bits -= b\n",
    "        v += b\n",
    "    return v\n",
    "\n",
    "def get_highest_bit(bits):\n",
    "    # ensure it has at least one bit\n",
    "    assert bits > 0    \n",
    "    return _bit_mask[bits.bit_length() - 1]\n",
    "\n"
   ]
  },
  {
   "cell_type": "code",
   "execution_count": 231,
   "id": "9d002741",
   "metadata": {
    "ExecuteTime": {
     "end_time": "2023-04-19T18:10:08.755496Z",
     "start_time": "2023-04-19T18:10:08.748610Z"
    }
   },
   "outputs": [
    {
     "name": "stdout",
     "output_type": "stream",
     "text": [
      "`unit_tests__card_to_ind` success!\n",
      "`unit_tests__ind_to_card` success!\n",
      "`unit_tests__hand_to_cards` success!\n"
     ]
    }
   ],
   "source": [
    "## cards are a tuple representation of a hand (bit-vector)\n",
    "def card_to_ind(s, r):\n",
    "    assert 0 <= s < NUM_SUITS and 0 <= r < NUM_RANKS\n",
    "    return s * NUM_RANKS + r\n",
    "\n",
    "def ind_to_card(ind):\n",
    "    assert 0 <= ind < NUM_CARDS\n",
    "    return (ind // NUM_RANKS, ind % NUM_RANKS)\n",
    "\n",
    "def hand_to_cards(hand):\n",
    "    assert 0 <= hand < (1 << NUM_CARDS)\n",
    "    \n",
    "    cards = []\n",
    "    for ind, card in enumerate(CARDS):\n",
    "        if (hand & _bit_mask[ind]) > 0:\n",
    "            cards += [card]\n",
    "            \n",
    "    return cards\n",
    "\n",
    "def cards_to_hand(cards):    \n",
    "    hand = 0\n",
    "    for s, r in cards:\n",
    "        hand += _bit_mask[card_to_ind(s, r)]\n",
    "    return hand\n",
    "\n",
    "            \n",
    "def unit_tests__card_to_ind():\n",
    "    assert ( card_to_ind(0, 0) == 0 )\n",
    "    assert ( card_to_ind(0, 1) == 1 )\n",
    "    assert ( card_to_ind(1, 1) == 14 )\n",
    "    assert ( card_to_ind(2, 6) == 32 )\n",
    "    assert ( card_to_ind(3, 12) == 51 )\n",
    "    \n",
    "def unit_tests__ind_to_card():\n",
    "    assert ( ind_to_card(0) == (0, 0) )\n",
    "    assert ( ind_to_card(5) == (0, 5) )\n",
    "    assert ( ind_to_card(13) == (1, 0) )\n",
    "    assert ( ind_to_card(51) == (3, 12) )\n",
    "    \n",
    "\n",
    "def unit_tests__hand_to_cards():\n",
    "    assert ( tuple(hand_to_cards(0b11)) == ((0, 0), (0, 1)) )\n",
    "    assert ( tuple(hand_to_cards((1 << 13) + 7)) == ((0, 0), (0, 1), (0, 2), (1, 0)) )\n",
    "    assert ( tuple(hand_to_cards((3 << 13) + 7)) == ((0, 0), (0, 1), (0, 2), (1, 0), (1, 1)) )\n",
    "\n",
    "\n",
    "if _RUN_UNIT_TESTS:\n",
    "    run_unit_tests(unit_tests__card_to_ind)\n",
    "    run_unit_tests(unit_tests__ind_to_card)\n",
    "    run_unit_tests(unit_tests__hand_to_cards)\n",
    "    "
   ]
  },
  {
   "cell_type": "markdown",
   "id": "112fcfb3",
   "metadata": {},
   "source": [
    "## ratings\n",
    "\n",
    "- straight flush (SF)\n",
    "    - highest value (1 number, 13 bits)\n",
    "\n",
    "- four of a kind (4K)\n",
    "    - four + kicker (1 +  numbers, 13 bits)\n",
    "\n",
    "- full house (FH)\n",
    "    - triple + pair (1 + 1 numbers, 26 bits)\n",
    "\n",
    "- flush (FL)\n",
    "    - highest five numbers (5 numbers, 13 bits)\n",
    "  \n",
    "- straght (ST)\n",
    "    - highest value 1 number, 13 bits)\n",
    "\n",
    "- triple (3K)\n",
    "    - triple + kicker1 + kicker2 (1 + 2 highest numbers, 26 bits)\n",
    "    \n",
    "- two pair (2P)\n",
    "    - pair1 + pair2 + kicker (2 + 1 highest number, 26 bits)\n",
    "\n",
    "- pair (2K)\n",
    "    - pair + kicker1 + kicker2 + kicker3 (1 + 3 highest numbers, 13 bits)\n",
    "\n",
    "- high card (1K)\n",
    "    - highest five numbers (5 nums, 13 bits)"
   ]
  },
  {
   "cell_type": "code",
   "execution_count": 233,
   "id": "1ae382c2",
   "metadata": {
    "ExecuteTime": {
     "end_time": "2023-04-19T18:10:09.223488Z",
     "start_time": "2023-04-19T18:10:09.220810Z"
    }
   },
   "outputs": [],
   "source": [
    "# check for a straight flush\n",
    "base_mask = (1 << STRAIGHT_FLUSH_LEN) - 1\n",
    "_sf_masks = [base_mask << (r + s * NUM_RANKS) for r in range(NUM_RANKS - STRAIGHT_FLUSH_LEN + 1) for s in range(NUM_SUITS)]\n"
   ]
  },
  {
   "cell_type": "code",
   "execution_count": 234,
   "id": "3b913415",
   "metadata": {
    "ExecuteTime": {
     "end_time": "2023-04-19T18:10:09.458378Z",
     "start_time": "2023-04-19T18:10:09.452890Z"
    }
   },
   "outputs": [
    {
     "name": "stdout",
     "output_type": "stream",
     "text": [
      "`unit_tests__check_straight_flush` success!\n"
     ]
    }
   ],
   "source": [
    "def check_straight_flush(n):\n",
    "    is_sf_mask = (1 << STRAIGHT_FLUSH_LEN) - 1\n",
    "\n",
    "    rating = 0\n",
    "\n",
    "    # since this goes from small to big, we can use `rating = val`\n",
    "    for mask in _sf_masks:\n",
    "        masked = mask & n\n",
    "        \n",
    "        ind = (mask.bit_length() - 1) // NUM_RANKS * NUM_RANKS\n",
    "        \n",
    "        if masked.bit_count() == STRAIGHT_FLUSH_LEN:\n",
    "            rating = masked >> ind\n",
    "\n",
    "    if rating > 0:\n",
    "        return STRAIGHT_FLUSH_RATING + rating\n",
    "    else:\n",
    "        return 0\n",
    "    \n",
    "def unit_tests__check_straight_flush():\n",
    "    assert check_straight_flush(0b11111) == STRAIGHT_FLUSH_RATING + 0b11111\n",
    "    assert check_straight_flush(0b11111 << 13) == STRAIGHT_FLUSH_RATING + 0b11111\n",
    "    assert check_straight_flush(0b11111 << 12) == 0\n",
    "    assert check_straight_flush(0b11111 << 9) == 0\n",
    "    assert check_straight_flush(0b11111 << 8) == STRAIGHT_FLUSH_RATING + (0b11111 << 8)\n",
    "    assert check_straight_flush(0b11111 << 39) == STRAIGHT_FLUSH_RATING + (0b11111)\n",
    "    assert check_straight_flush(0b11111 << 47) == STRAIGHT_FLUSH_RATING + (0b11111 << 8)\n",
    "    \n",
    "    assert check_straight_flush(0b1111111) == STRAIGHT_FLUSH_RATING + (0b11111 << 2)\n",
    "    assert check_straight_flush(0b111111 << 8) == STRAIGHT_FLUSH_RATING + (0b11111 << 8)\n",
    "    assert check_straight_flush(0b11111 << 12) == 0\n",
    "    assert check_straight_flush(0b111111 << 12) == STRAIGHT_FLUSH_RATING + (0b11111)\n",
    "    \n",
    "\n",
    "    \n",
    "run_unit_tests(unit_tests__check_straight_flush)"
   ]
  },
  {
   "cell_type": "code",
   "execution_count": 237,
   "id": "4a4f8f0f",
   "metadata": {
    "ExecuteTime": {
     "end_time": "2023-04-19T18:10:10.130852Z",
     "start_time": "2023-04-19T18:10:10.128763Z"
    }
   },
   "outputs": [],
   "source": [
    "_four_kind_masks = _rank_masks\n"
   ]
  },
  {
   "cell_type": "code",
   "execution_count": 279,
   "id": "2be85f76",
   "metadata": {
    "ExecuteTime": {
     "end_time": "2023-04-19T18:20:34.582437Z",
     "start_time": "2023-04-19T18:20:34.576269Z"
    }
   },
   "outputs": [
    {
     "name": "stdout",
     "output_type": "stream",
     "text": [
      "here\n",
      "`unit_tests__check_four_kind` success!\n"
     ]
    }
   ],
   "source": [
    "def check_four_kind(bits):\n",
    "\n",
    "    rating = 0\n",
    "\n",
    "    for mask in _four_kind_masks:\n",
    "        masked = bits & mask\n",
    "        if masked.bit_count() == FOUR_KIND_LEN:\n",
    "            rating = masked & _suit_mask\n",
    "\n",
    "    if rating > 0:\n",
    "\n",
    "        # find kicker\n",
    "\n",
    "        kbits = get_kicker_bits(bits) - rating\n",
    "        kicker = get_highest_bit(kbits)\n",
    "\n",
    "        return FOUR_KIND_RATING + (rating << NUM_RANKS) + kicker\n",
    "    else:\n",
    "        return 0\n",
    "    \n",
    "def unit_tests__check_four_kind():\n",
    "\n",
    "    base_bits = (1 << 0) + (1 << 13) + (1 << 26) + (1 << 39)\n",
    "\n",
    "    bits = base_bits + (base_bits << 10) + (1 << 3)\n",
    "    ans = FOUR_KIND_RATING + (1 << 10 << NUM_RANKS) + (1 << 3)\n",
    "    assert check_four_kind(bits) == ans\n",
    "    \n",
    "    bits = (base_bits - 1)\n",
    "    ans = 0\n",
    "    assert check_four_kind(bits) == ans\n",
    "\n",
    "    bits = (base_bits << 5) + (base_bits << 10) + (1 << 3)\n",
    "    ans = FOUR_KIND_RATING + (1 << 10 << NUM_RANKS) + (1 << 5)\n",
    "    assert check_four_kind(bits) == ans\n",
    "    \n",
    "    bits = (1 << NUM_CARDS) - 1\n",
    "    ans = FOUR_KIND_RATING + (1 << (NUM_RANKS - 1) << NUM_RANKS) + (1 << (NUM_RANKS - 2))\n",
    "    assert check_four_kind(bits) == ans\n",
    "    \n",
    "    bits = (1 << NUM_CARDS) - 1\n",
    "    ans = FOUR_KIND_RATING + (1 << (NUM_RANKS - 1) << NUM_RANKS) + (1 << (NUM_RANKS - 2))\n",
    "    assert check_four_kind(bits) == ans\n",
    "    \n",
    "run_unit_tests(unit_tests__check_four_kind)"
   ]
  },
  {
   "cell_type": "code",
   "execution_count": null,
   "id": "5ed54634",
   "metadata": {},
   "outputs": [],
   "source": []
  },
  {
   "cell_type": "code",
   "execution_count": 268,
   "id": "4d96811e",
   "metadata": {
    "ExecuteTime": {
     "end_time": "2023-04-19T18:16:33.314077Z",
     "start_time": "2023-04-19T18:16:33.311243Z"
    }
   },
   "outputs": [
    {
     "data": {
      "text/plain": [
       "9"
      ]
     },
     "execution_count": 268,
     "metadata": {},
     "output_type": "execute_result"
    }
   ],
   "source": [
    "kbits"
   ]
  },
  {
   "cell_type": "code",
   "execution_count": 265,
   "id": "1bfa714e",
   "metadata": {
    "ExecuteTime": {
     "end_time": "2023-04-19T18:16:06.640520Z",
     "start_time": "2023-04-19T18:16:06.637363Z"
    }
   },
   "outputs": [
    {
     "data": {
      "text/plain": [
       "'0b10000000000'"
      ]
     },
     "execution_count": 265,
     "metadata": {},
     "output_type": "execute_result"
    }
   ],
   "source": [
    "bin(rating)"
   ]
  },
  {
   "cell_type": "code",
   "execution_count": 200,
   "id": "a80b7622",
   "metadata": {
    "ExecuteTime": {
     "end_time": "2023-04-19T17:38:59.938038Z",
     "start_time": "2023-04-19T17:38:59.934558Z"
    }
   },
   "outputs": [
    {
     "data": {
      "text/plain": [
       "5"
      ]
     },
     "execution_count": 200,
     "metadata": {},
     "output_type": "execute_result"
    }
   ],
   "source": [
    "([b for b in _sf_masks][-4] & 0b1111100000000).bit_count()"
   ]
  },
  {
   "cell_type": "code",
   "execution_count": null,
   "id": "583a06d1",
   "metadata": {
    "ExecuteTime": {
     "end_time": "2023-04-19T17:18:39.603940Z",
     "start_time": "2023-04-19T17:18:39.600102Z"
    }
   },
   "outputs": [],
   "source": []
  },
  {
   "cell_type": "code",
   "execution_count": null,
   "id": "308c77a9",
   "metadata": {},
   "outputs": [],
   "source": []
  },
  {
   "cell_type": "code",
   "execution_count": null,
   "id": "362cbc68",
   "metadata": {},
   "outputs": [],
   "source": []
  },
  {
   "cell_type": "code",
   "execution_count": null,
   "id": "8cf39dbf",
   "metadata": {},
   "outputs": [],
   "source": []
  },
  {
   "cell_type": "code",
   "execution_count": null,
   "id": "680e00fb",
   "metadata": {},
   "outputs": [],
   "source": []
  },
  {
   "cell_type": "code",
   "execution_count": null,
   "id": "e1d85d93",
   "metadata": {},
   "outputs": [],
   "source": []
  },
  {
   "cell_type": "code",
   "execution_count": null,
   "id": "5311f11f",
   "metadata": {},
   "outputs": [],
   "source": []
  },
  {
   "cell_type": "code",
   "execution_count": null,
   "id": "61117d8b",
   "metadata": {},
   "outputs": [],
   "source": []
  },
  {
   "cell_type": "code",
   "execution_count": null,
   "id": "2f3f3cfd",
   "metadata": {},
   "outputs": [],
   "source": []
  },
  {
   "cell_type": "code",
   "execution_count": null,
   "id": "60b85990",
   "metadata": {},
   "outputs": [],
   "source": []
  },
  {
   "cell_type": "code",
   "execution_count": null,
   "id": "04fb1373",
   "metadata": {},
   "outputs": [],
   "source": []
  },
  {
   "cell_type": "code",
   "execution_count": null,
   "id": "5136c695",
   "metadata": {},
   "outputs": [],
   "source": []
  }
 ],
 "metadata": {
  "kernelspec": {
   "display_name": "Python 3 (ipykernel)",
   "language": "python",
   "name": "python3"
  },
  "language_info": {
   "codemirror_mode": {
    "name": "ipython",
    "version": 3
   },
   "file_extension": ".py",
   "mimetype": "text/x-python",
   "name": "python",
   "nbconvert_exporter": "python",
   "pygments_lexer": "ipython3",
   "version": "3.10.9"
  },
  "toc": {
   "base_numbering": 1,
   "nav_menu": {},
   "number_sections": true,
   "sideBar": true,
   "skip_h1_title": false,
   "title_cell": "Table of Contents",
   "title_sidebar": "Contents",
   "toc_cell": false,
   "toc_position": {
    "height": "calc(100% - 180px)",
    "left": "10px",
    "top": "150px",
    "width": "358.391px"
   },
   "toc_section_display": true,
   "toc_window_display": true
  },
  "varInspector": {
   "cols": {
    "lenName": 16,
    "lenType": 16,
    "lenVar": 40
   },
   "kernels_config": {
    "python": {
     "delete_cmd_postfix": "",
     "delete_cmd_prefix": "del ",
     "library": "var_list.py",
     "varRefreshCmd": "print(var_dic_list())"
    },
    "r": {
     "delete_cmd_postfix": ") ",
     "delete_cmd_prefix": "rm(",
     "library": "var_list.r",
     "varRefreshCmd": "cat(var_dic_list()) "
    }
   },
   "types_to_exclude": [
    "module",
    "function",
    "builtin_function_or_method",
    "instance",
    "_Feature"
   ],
   "window_display": false
  }
 },
 "nbformat": 4,
 "nbformat_minor": 5
}
