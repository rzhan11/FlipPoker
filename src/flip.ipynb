{
 "cells": [
  {
   "cell_type": "markdown",
   "id": "e39825ca",
   "metadata": {},
   "source": [
    "## hand representation\n",
    "- bit-vector"
   ]
  },
  {
   "cell_type": "code",
   "execution_count": 1,
   "id": "1c830dcf",
   "metadata": {
    "ExecuteTime": {
     "end_time": "2023-04-19T22:54:05.862102Z",
     "start_time": "2023-04-19T22:54:05.772069Z"
    }
   },
   "outputs": [
    {
     "data": {
      "text/html": [
       "<style>.container { width:75% !important; }</style>"
      ],
      "text/plain": [
       "<IPython.core.display.HTML object>"
      ]
     },
     "metadata": {},
     "output_type": "display_data"
    }
   ],
   "source": [
    "from IPython.display import display, HTML\n",
    "import ipywidgets as widgets\n",
    "from ipywidgets import interact\n",
    "display(HTML(\"<style>.container { width:75% !important; }</style>\"))"
   ]
  },
  {
   "cell_type": "code",
   "execution_count": 2,
   "id": "bb4f3b41",
   "metadata": {
    "ExecuteTime": {
     "end_time": "2023-04-19T22:54:07.225382Z",
     "start_time": "2023-04-19T22:54:05.864562Z"
    }
   },
   "outputs": [],
   "source": [
    "import numpy as np\n",
    "import pandas as pd\n",
    "import matplotlib.pyplot as plt\n"
   ]
  },
  {
   "cell_type": "markdown",
   "id": "fba3e235",
   "metadata": {},
   "source": [
    "## Params"
   ]
  },
  {
   "cell_type": "code",
   "execution_count": 3,
   "id": "1b759350",
   "metadata": {
    "ExecuteTime": {
     "end_time": "2023-04-19T22:54:07.230526Z",
     "start_time": "2023-04-19T22:54:07.228123Z"
    }
   },
   "outputs": [],
   "source": [
    "_RUN_UNIT_TESTS = True"
   ]
  },
  {
   "cell_type": "markdown",
   "id": "f7d2ba35",
   "metadata": {},
   "source": [
    "## Game constants"
   ]
  },
  {
   "cell_type": "code",
   "execution_count": 4,
   "id": "4c402e5e",
   "metadata": {
    "ExecuteTime": {
     "end_time": "2023-04-19T22:54:07.236646Z",
     "start_time": "2023-04-19T22:54:07.233118Z"
    }
   },
   "outputs": [],
   "source": [
    "# game constants\n",
    "NUM_RANKS = 13\n",
    "NUM_SUITS = 4\n",
    "NUM_CARDS = NUM_RANKS * NUM_SUITS\n",
    "CARDS = [(s, r) for s in range(NUM_SUITS) for r in range(NUM_RANKS)]\n",
    "\n",
    "STRAIGHT_FLUSH_LEN = 5\n",
    "STRAIGHT_LEN = 5\n",
    "FLUSH_LEN = 5\n",
    "FOUR_KIND_LEN = 4\n",
    "THREE_KIND_LEN = 3\n",
    "TWO_KIND_LEN = 2\n"
   ]
  },
  {
   "cell_type": "code",
   "execution_count": 5,
   "id": "9b1d530f",
   "metadata": {
    "ExecuteTime": {
     "end_time": "2023-04-19T22:54:07.241416Z",
     "start_time": "2023-04-19T22:54:07.238107Z"
    }
   },
   "outputs": [],
   "source": [
    "# ratings\n",
    "RATING_TYPE_OFFSET = 2 * NUM_RANKS\n",
    "\n",
    "STRAIGHT_FLUSH_RATING = 9 << RATING_TYPE_OFFSET\n",
    "FOUR_KIND_RATING = 8 << RATING_TYPE_OFFSET\n",
    "FULL_HOUSE_RATING = 7 << RATING_TYPE_OFFSET\n",
    "FLUSH_RATING = 6 << RATING_TYPE_OFFSET\n",
    "STRAIGHT_RATING = 5 << RATING_TYPE_OFFSET\n",
    "THREE_KIND_RATING = 4 << RATING_TYPE_OFFSET\n",
    "TWO_PAIR_RATING = 3 << RATING_TYPE_OFFSET\n",
    "TWO_KIND_RATING = 2 << RATING_TYPE_OFFSET\n",
    "ONE_KIND_RATING = 1 << RATING_TYPE_OFFSET\n",
    "\n",
    "\n",
    "RATING_TYPE_MASK = 15 << RATING_TYPE_OFFSET\n",
    "RATING_KICKER2_MASK = (1 << NUM_RANKS) - 1\n",
    "RATING_KICKER1_MASK = RATING_KICKER2_MASK << NUM_RANKS\n"
   ]
  },
  {
   "cell_type": "markdown",
   "id": "80301ee5",
   "metadata": {},
   "source": [
    "## Masks\n",
    "- _suit_mask: _suit_mask[s] gives bit mask for all cards of suit s\n",
    "- _bit_mask: _bit_mask[ind] gives bit mask for bitind 'ind'\n",
    "- _bit_mask2: _bit_mask2[s][r] gives bit mask for card (s, r)"
   ]
  },
  {
   "cell_type": "code",
   "execution_count": 6,
   "id": "83eeed4e",
   "metadata": {
    "ExecuteTime": {
     "end_time": "2023-04-19T22:54:07.246435Z",
     "start_time": "2023-04-19T22:54:07.243368Z"
    }
   },
   "outputs": [],
   "source": [
    "_all_mask = (1 << NUM_CARDS) - 1\n",
    "_bit_mask = [1 << i for i in range(NUM_CARDS)]\n",
    "_bit_mask2 = [[(1 << (s * NUM_RANKS + r)) for r in range(NUM_RANKS)] for s in range(NUM_SUITS)]\n",
    "\n",
    "_bit_unmask = {m: i for i, m in enumerate(_bit_mask)}\n",
    "_bit_unmask[0] = -1"
   ]
  },
  {
   "cell_type": "code",
   "execution_count": 7,
   "id": "0dff482f",
   "metadata": {
    "ExecuteTime": {
     "end_time": "2023-04-19T22:54:07.251694Z",
     "start_time": "2023-04-19T22:54:07.248244Z"
    }
   },
   "outputs": [],
   "source": [
    "_suit_masks = [((1 << NUM_RANKS) - 1) << (s * NUM_RANKS) for s in range(NUM_SUITS)]\n",
    "_rank_masks = [sum([1 << (s * NUM_RANKS + r) for s in range(NUM_SUITS)]) for r in range(NUM_RANKS)]\n",
    "\n",
    "_suit_mask = _suit_masks[0]"
   ]
  },
  {
   "cell_type": "code",
   "execution_count": 8,
   "id": "4d4ad573",
   "metadata": {
    "ExecuteTime": {
     "end_time": "2023-04-19T22:54:07.257351Z",
     "start_time": "2023-04-19T22:54:07.253634Z"
    }
   },
   "outputs": [],
   "source": [
    "base_masks = []\n",
    "for s1 in range(NUM_SUITS):\n",
    "    for s2 in range(s1):\n",
    "        val = _bit_mask[s1 * NUM_RANKS] + _bit_mask[s2 * NUM_RANKS]\n",
    "        base_masks += [val]\n",
    "\n",
    "_2k_masks = []\n",
    "for r in range(NUM_RANKS):\n",
    "    _2k_masks += [bmask << r for bmask in base_masks]"
   ]
  },
  {
   "cell_type": "markdown",
   "id": "00de3fca",
   "metadata": {},
   "source": [
    "## Utils"
   ]
  },
  {
   "cell_type": "code",
   "execution_count": 9,
   "id": "2f5fafb4",
   "metadata": {
    "ExecuteTime": {
     "end_time": "2023-04-19T22:54:07.262285Z",
     "start_time": "2023-04-19T22:54:07.259670Z"
    }
   },
   "outputs": [],
   "source": [
    "def binify(bits_list):\n",
    "    return [bin(b) for b in bits_list]"
   ]
  },
  {
   "cell_type": "code",
   "execution_count": 10,
   "id": "4c165760",
   "metadata": {
    "ExecuteTime": {
     "end_time": "2023-04-19T22:54:07.270753Z",
     "start_time": "2023-04-19T22:54:07.267335Z"
    }
   },
   "outputs": [],
   "source": [
    "def run_unit_tests(unit_fn):\n",
    "    if _RUN_UNIT_TESTS:\n",
    "        unit_fn()\n",
    "        print(f\"`{unit_fn.__name__}` success!\")\n",
    "    else:\n",
    "        print(f\"Skipping `{unit_fn.__name__}`\")\n"
   ]
  },
  {
   "cell_type": "code",
   "execution_count": 11,
   "id": "e5664fee",
   "metadata": {
    "ExecuteTime": {
     "end_time": "2023-04-19T22:54:07.279189Z",
     "start_time": "2023-04-19T22:54:07.273238Z"
    }
   },
   "outputs": [],
   "source": [
    "# rating utils\n",
    "def rank_bits_to_nums(ranks):\n",
    "    vals = []\n",
    "    for r in range(NUM_RANKS):\n",
    "        if (_bit_mask[r] & ranks) > 0:\n",
    "            vals += [r]\n",
    "    return tuple(reversed(vals))\n",
    "\n",
    "def rating_get_type(rating):\n",
    "    return (rating & RATING_TYPE_MASK) >> (2 * NUM_RANKS)\n",
    "\n",
    "def rating_get_kicker1(rating):\n",
    "    return rank_bits_to_nums((rating & RATING_KICKER1_MASK) >> NUM_RANKS)\n",
    "\n",
    "def rating_get_kicker2(rating):\n",
    "    return rank_bits_to_nums((rating & RATING_KICKER2_MASK))\n",
    "\n",
    "def rating_bits_to_tuple(rating):\n",
    "    return (rating_get_type(rating), rating_get_kicker1(rating), rating_get_kicker2(rating))\n",
    "\n",
    "\n",
    "_rating_type_to_str = [None, \"highcard\", \"pair\", \"twopair\", \"threes\", \"straight\", \"flush\", \"fullhouse\", \"fours\", \"straightflush\"]\n",
    "\n",
    "def rating_prettify(rating):\n",
    "    (rtype, k1, k2) = rating_bits_to_tuple(rating)\n",
    "    \n",
    "    return (_rating_type_to_str[rtype], k1, k2)"
   ]
  },
  {
   "cell_type": "code",
   "execution_count": 12,
   "id": "8323182a",
   "metadata": {
    "ExecuteTime": {
     "end_time": "2023-04-19T22:54:07.286473Z",
     "start_time": "2023-04-19T22:54:07.281489Z"
    }
   },
   "outputs": [],
   "source": [
    "def inv_bits(hand):\n",
    "    return hand ^ _all_mask\n",
    "\n",
    "def rbits_to_bits(rbits):\n",
    "    return rbits + (rbits << NUM_RANKS) + (rbits << 2 * NUM_RANKS) + (rbits << 3 * NUM_RANKS)\n",
    "\n",
    "def remove_ranks(hand, rbits):\n",
    "    \"\"\" Removes all ranks in rbits from bits\n",
    "    bits - original bitvec\n",
    "    rbits - bit ranks to remove\n",
    "    \"\"\"\n",
    "    keep_bits = inv_bits(rbits_to_bits(rbits))\n",
    "    return hand & keep_bits\n",
    "\n",
    "def get_bits_by_suit(hand):\n",
    "    vals = []\n",
    "    for s in range(NUM_SUITS):\n",
    "        vals += [(hand >> (s * NUM_RANKS)) & _suit_mask]\n",
    "    return vals"
   ]
  },
  {
   "cell_type": "code",
   "execution_count": 131,
   "id": "b328ad4d",
   "metadata": {
    "ExecuteTime": {
     "end_time": "2023-04-19T23:58:03.875223Z",
     "start_time": "2023-04-19T23:58:03.871513Z"
    }
   },
   "outputs": [],
   "source": [
    "# returns highest bit (1 << bitind)\n",
    "\n",
    "def get_n_highest_bits(bits, n):\n",
    "    v = 0\n",
    "    for i in range(n):\n",
    "        b = get_highest_bit(bits)\n",
    "        bits -= b\n",
    "        v += b\n",
    "    return v\n",
    "\n",
    "def get_highest_bit(bits):\n",
    "    # ensure it has at least one bit\n",
    "    if bits == 0:\n",
    "        return 0\n",
    "    \n",
    "#     return _bit_mask[np.ceil(np.log2(bits + 1)).astype(int) - 1]\n",
    "    return _bit_mask[bits.bit_length() - 1]\n",
    "\n"
   ]
  },
  {
   "cell_type": "code",
   "execution_count": 132,
   "id": "40130637",
   "metadata": {
    "ExecuteTime": {
     "end_time": "2023-04-19T23:58:04.051529Z",
     "start_time": "2023-04-19T23:58:04.042632Z"
    }
   },
   "outputs": [],
   "source": [
    "# returns bit vector of NUM_RANKS length\n",
    "def get_1k_ranks(hand):\n",
    "    bits_by_suit = get_bits_by_suit(hand)\n",
    "    b1, b2, b3, b4 = bits_by_suit\n",
    "    return b1 | b2 | b3 | b4\n",
    "    \n",
    "#     total = 0\n",
    "#     for s in range(NUM_SUITS):\n",
    "#         total = total | (bits >> (s * NUM_RANKS))\n",
    "#     return total & _suit_mask\n",
    "\n",
    "def get_highest_1k(hand, n=1):\n",
    "    ranks = get_1k_ranks(hand)\n",
    "    return get_highest_bit(ranks)\n",
    "\n",
    "def get_n_highest_1k(hand, n):\n",
    "    ranks = get_1k_ranks(hand)\n",
    "    return get_n_highest_bits(ranks, n)\n",
    "\n",
    "\n",
    "\n",
    "def get_2k_ranks(hand):\n",
    "    bits_by_suit = get_bits_by_suit(hand)\n",
    "    b1, b2, b3, b4 = bits_by_suit\n",
    "    return (b1 & b2) | (b1 & b3) | (b1 & b4) | (b2 & b3) | (b2 & b4) | (b3 & b4)\n",
    "    \n",
    "def get_highest_2k(hand):\n",
    "    ranks = get_2k_ranks(hand)\n",
    "    return get_highest_bit(ranks)\n",
    "\n",
    "def get_n_highest_2k(hand, n):\n",
    "    ranks = get_2k_ranks(hand)\n",
    "    return get_n_highest_bits(ranks, n)\n",
    "\n",
    "\n",
    "\n",
    "def get_3k_ranks(bits):\n",
    "    bits_by_suit = get_bits_by_suit(bits)\n",
    "    b1, b2, b3, b4 = bits_by_suit\n",
    "    return (b1 & b2 & b3) | (b1 & b2 & b4) | (b1 & b3 & b4) | (b2 & b3 & b4)\n",
    "    \n",
    "def get_highest_3k(hand):\n",
    "    ranks = get_3k_ranks(hand)\n",
    "    return get_highest_bit(ranks)\n",
    "\n",
    "def get_n_highest_3k(hand, n):\n",
    "    ranks = get_3k_ranks(bits)\n",
    "    return get_n_highest_bits(ranks, n)\n",
    "\n",
    "\n",
    "\n",
    "def get_4k_ranks(hand):\n",
    "    bits_by_suit = get_bits_by_suit(hand)\n",
    "    b1, b2, b3, b4 = bits_by_suit\n",
    "    return b1 & b2 & b3 & b4\n",
    "    \n",
    "def get_highest_4k(hand):\n",
    "    ranks = get_4k_ranks(hand)\n",
    "    return get_highest_bit(ranks)\n",
    "\n",
    "def get_n_highest_4k(hand, n):\n",
    "    ranks = get_4k_ranks(hand)\n",
    "    return get_n_highest_bits(ranks, n)"
   ]
  },
  {
   "cell_type": "code",
   "execution_count": 133,
   "id": "9d002741",
   "metadata": {
    "ExecuteTime": {
     "end_time": "2023-04-19T23:58:04.212342Z",
     "start_time": "2023-04-19T23:58:04.204235Z"
    }
   },
   "outputs": [
    {
     "name": "stdout",
     "output_type": "stream",
     "text": [
      "`unit_tests__card_to_ind` success!\n",
      "`unit_tests__ind_to_card` success!\n",
      "`unit_tests__hand_to_cards` success!\n"
     ]
    }
   ],
   "source": [
    "## cards are a tuple representation of a hand (bit-vector)\n",
    "\n",
    "def validate_card(s, r):\n",
    "    assert 0 <= s < NUM_SUITS and 0 <= r < NUM_RANKS\n",
    "\n",
    "def validate_cards(cards):\n",
    "    assert len(set(cards)) == len(cards) # ensure cards are unique\n",
    "    for s, r in cards:\n",
    "        validate_card(s, r)\n",
    "\n",
    "def validate_ind(ind):\n",
    "    assert 0 <= ind < NUM_CARDS\n",
    "\n",
    "def card_to_ind(s, r):\n",
    "    validate_card(s, r)\n",
    "    return s * NUM_RANKS + r\n",
    "\n",
    "def ind_to_card(ind):\n",
    "    validate_ind(ind)\n",
    "    return (ind // NUM_RANKS, ind % NUM_RANKS)\n",
    "\n",
    "def hand_to_cards(hand):\n",
    "    assert 0 <= hand < (1 << NUM_CARDS)\n",
    "    \n",
    "    cards = []\n",
    "    for ind, card in enumerate(CARDS):\n",
    "        if (hand & _bit_mask[ind]) > 0:\n",
    "            cards += [card]\n",
    "            \n",
    "    return cards\n",
    "\n",
    "def cards_to_hand(cards):\n",
    "    validate_cards(cards)\n",
    "    \n",
    "    hand = 0\n",
    "    for s, r in cards:\n",
    "        hand += _bit_mask[card_to_ind(s, r)]\n",
    "    return hand\n",
    "\n",
    "            \n",
    "def unit_tests__card_to_ind():\n",
    "    assert ( card_to_ind(0, 0) == 0 )\n",
    "    assert ( card_to_ind(0, 1) == 1 )\n",
    "    assert ( card_to_ind(1, 1) == 14 )\n",
    "    assert ( card_to_ind(2, 6) == 32 )\n",
    "    assert ( card_to_ind(3, 12) == 51 )\n",
    "    \n",
    "def unit_tests__ind_to_card():\n",
    "    assert ( ind_to_card(0) == (0, 0) )\n",
    "    assert ( ind_to_card(5) == (0, 5) )\n",
    "    assert ( ind_to_card(13) == (1, 0) )\n",
    "    assert ( ind_to_card(51) == (3, 12) )\n",
    "    \n",
    "\n",
    "def unit_tests__hand_to_cards():\n",
    "    assert ( tuple(hand_to_cards(0b11)) == ((0, 0), (0, 1)) )\n",
    "    assert ( tuple(hand_to_cards((1 << 13) + 7)) == ((0, 0), (0, 1), (0, 2), (1, 0)) )\n",
    "    assert ( tuple(hand_to_cards((3 << 13) + 7)) == ((0, 0), (0, 1), (0, 2), (1, 0), (1, 1)) )\n",
    "\n",
    "\n",
    "run_unit_tests(unit_tests__card_to_ind)\n",
    "run_unit_tests(unit_tests__ind_to_card)\n",
    "run_unit_tests(unit_tests__hand_to_cards)\n",
    "    "
   ]
  },
  {
   "cell_type": "markdown",
   "id": "112fcfb3",
   "metadata": {},
   "source": [
    "## ratings\n",
    "\n",
    "- straight flush (SF)\n",
    "    - highest value (1 number, 13 bits)\n",
    "\n",
    "- four of a kind (4K)\n",
    "    - four + kicker (1 +  numbers, 13 bits)\n",
    "\n",
    "- full house (FH)\n",
    "    - triple + pair (1 + 1 numbers, 26 bits)\n",
    "\n",
    "- flush (FL)\n",
    "    - highest five numbers (5 numbers, 13 bits)\n",
    "  \n",
    "- straght (ST)\n",
    "    - highest value 1 number, 13 bits)\n",
    "\n",
    "- triple (3K)\n",
    "    - triple + kicker1 + kicker2 (1 + 2 highest numbers, 26 bits)\n",
    "    \n",
    "- two pair (2P)\n",
    "    - pair1 + pair2 + kicker (2 + 1 highest number, 26 bits)\n",
    "\n",
    "- pair (2K)\n",
    "    - pair + kicker1 + kicker2 + kicker3 (1 + 3 highest numbers, 13 bits)\n",
    "\n",
    "- high card (1K)\n",
    "    - highest five numbers (5 nums, 13 bits)"
   ]
  },
  {
   "cell_type": "code",
   "execution_count": 134,
   "id": "1ae382c2",
   "metadata": {
    "ExecuteTime": {
     "end_time": "2023-04-19T23:58:04.978645Z",
     "start_time": "2023-04-19T23:58:04.975747Z"
    }
   },
   "outputs": [],
   "source": [
    "# check for a straight flush\n",
    "# base_mask = (1 << STRAIGHT_FLUSH_LEN) - 1\n",
    "# _sf_masks = [base_mask << (r + s * NUM_RANKS) for r in range(NUM_RANKS - STRAIGHT_FLUSH_LEN + 1) for s in range(NUM_SUITS)]\n",
    "\n",
    "# use same base mask as _sf_masks\n",
    "wheel_mask = (1 << (NUM_RANKS - 1)) + (1 << (STRAIGHT_LEN - 1)) - 1\n",
    "base_mask = (1 << STRAIGHT_LEN) - 1\n",
    "_straight_masks = [wheel_mask] + [base_mask << r for r in range(NUM_RANKS - STRAIGHT_LEN + 1)]"
   ]
  },
  {
   "cell_type": "code",
   "execution_count": 135,
   "id": "3b913415",
   "metadata": {
    "ExecuteTime": {
     "end_time": "2023-04-19T23:58:05.212705Z",
     "start_time": "2023-04-19T23:58:05.204708Z"
    }
   },
   "outputs": [
    {
     "name": "stdout",
     "output_type": "stream",
     "text": [
      "`unit_tests__check_straight_flush` success!\n"
     ]
    }
   ],
   "source": [
    "def check_straight_flush(hand):\n",
    "    bits_by_suit = get_bits_by_suit(hand)\n",
    "    \n",
    "    rating = 0\n",
    "    \n",
    "    for mask in _straight_masks:\n",
    "        for ranks in bits_by_suit:\n",
    "            masked = ranks & mask\n",
    "            if masked.bit_count() == STRAIGHT_FLUSH_LEN:\n",
    "                rating = masked\n",
    "                \n",
    "    \n",
    "    if rating > 0:\n",
    "        if rating == wheel_mask:\n",
    "            rating = wheel_mask - get_highest_bit(wheel_mask)\n",
    "            \n",
    "        return STRAIGHT_FLUSH_RATING + rating\n",
    "    else:\n",
    "        return 0\n",
    "    \n",
    "    \n",
    "#     is_sf_mask = (1 << STRAIGHT_FLUSH_LEN) - 1\n",
    "\n",
    "#     rating = 0\n",
    "\n",
    "#     # since this goes from small to big, we can use `rating = val`\n",
    "#     for mask in _sf_masks:\n",
    "#         masked = mask & n\n",
    "        \n",
    "#         ind = (mask.bit_length() - 1) // NUM_RANKS * NUM_RANKS\n",
    "        \n",
    "#         if masked.bit_count() == STRAIGHT_FLUSH_LEN:\n",
    "#             rating = masked >> ind\n",
    "\n",
    "#     if rating > 0:\n",
    "#         return STRAIGHT_FLUSH_RATING + rating\n",
    "#     else:\n",
    "#         return 0\n",
    "    \n",
    "def unit_tests__check_straight_flush():\n",
    "    # wheel tests\n",
    "    assert check_straight_flush(0b1000000001111) == STRAIGHT_FLUSH_RATING + 0b0000000001111\n",
    "    assert check_straight_flush(0b1000000001111 << 13) == STRAIGHT_FLUSH_RATING + 0b0000000001111\n",
    "    assert check_straight_flush(0b1000000001111 << 26) == STRAIGHT_FLUSH_RATING + 0b0000000001111\n",
    "    assert check_straight_flush(0b1111) == 0\n",
    "    assert check_straight_flush(0b1100000000111) == 0\n",
    "    \n",
    "    assert check_straight_flush(0b11111) == STRAIGHT_FLUSH_RATING + 0b11111\n",
    "    assert check_straight_flush(0b11111 << 13) == STRAIGHT_FLUSH_RATING + 0b11111\n",
    "    assert check_straight_flush(0b11111 << 12) == 0\n",
    "    assert check_straight_flush(0b11111 << 9) == 0\n",
    "    assert check_straight_flush(0b11111 << 8) == STRAIGHT_FLUSH_RATING + (0b11111 << 8)\n",
    "    assert check_straight_flush(0b11111 << 39) == STRAIGHT_FLUSH_RATING + (0b11111)\n",
    "    assert check_straight_flush(0b11111 << 47) == STRAIGHT_FLUSH_RATING + (0b11111 << 8)\n",
    "    \n",
    "    assert check_straight_flush(0b1111111) == STRAIGHT_FLUSH_RATING + (0b11111 << 2)\n",
    "    assert check_straight_flush(0b111111 << 8) == STRAIGHT_FLUSH_RATING + (0b11111 << 8)\n",
    "    assert check_straight_flush(0b11111 << 12) == 0\n",
    "    assert check_straight_flush(0b111111 << 12) == STRAIGHT_FLUSH_RATING + (0b11111)\n",
    "    \n",
    "\n",
    "    \n",
    "run_unit_tests(unit_tests__check_straight_flush)"
   ]
  },
  {
   "cell_type": "code",
   "execution_count": 136,
   "id": "2a819860",
   "metadata": {
    "ExecuteTime": {
     "end_time": "2023-04-19T23:58:05.429113Z",
     "start_time": "2023-04-19T23:58:05.423396Z"
    }
   },
   "outputs": [
    {
     "name": "stdout",
     "output_type": "stream",
     "text": [
      "`unit_tests__check_four_kind` success!\n"
     ]
    }
   ],
   "source": [
    "def check_four_kind(bits):\n",
    "\n",
    "    fours = get_highest_4k(bits)\n",
    "\n",
    "    if fours > 0:\n",
    "        # find kicker\n",
    "        bits = remove_ranks(bits, fours)\n",
    "        kicker = get_highest_1k(bits)\n",
    "\n",
    "        return FOUR_KIND_RATING + (fours << NUM_RANKS) + kicker\n",
    "    else:\n",
    "        return 0\n",
    "    \n",
    "def unit_tests__check_four_kind():\n",
    "\n",
    "    base_bits = (1 << 0) + (1 << 13) + (1 << 26) + (1 << 39)\n",
    "\n",
    "    bits = base_bits + (base_bits << 10) + (1 << 3)\n",
    "    ans = FOUR_KIND_RATING + (1 << 10 << NUM_RANKS) + (1 << 3)\n",
    "    assert check_four_kind(bits) == ans\n",
    "    \n",
    "    bits = (base_bits - 1)\n",
    "    ans = 0\n",
    "    assert check_four_kind(bits) == ans\n",
    "\n",
    "    bits = (base_bits << 5) + (base_bits << 10) + (1 << 3)\n",
    "    ans = FOUR_KIND_RATING + (1 << 10 << NUM_RANKS) + (1 << 5)\n",
    "    assert check_four_kind(bits) == ans\n",
    "    \n",
    "    bits = (1 << NUM_CARDS) - 1\n",
    "    ans = FOUR_KIND_RATING + (1 << (NUM_RANKS - 1) << NUM_RANKS) + (1 << (NUM_RANKS - 2))\n",
    "    assert check_four_kind(bits) == ans\n",
    "    \n",
    "    bits = (1 << NUM_CARDS) - 1\n",
    "    ans = FOUR_KIND_RATING + (1 << (NUM_RANKS - 1) << NUM_RANKS) + (1 << (NUM_RANKS - 2))\n",
    "    assert check_four_kind(bits) == ans\n",
    "    \n",
    "run_unit_tests(unit_tests__check_four_kind)"
   ]
  },
  {
   "cell_type": "code",
   "execution_count": 137,
   "id": "26ad63a9",
   "metadata": {
    "ExecuteTime": {
     "end_time": "2023-04-19T23:58:05.666031Z",
     "start_time": "2023-04-19T23:58:05.659796Z"
    },
    "scrolled": false
   },
   "outputs": [
    {
     "name": "stdout",
     "output_type": "stream",
     "text": [
      "(7, (1,), (2,))\n",
      "(7, (2,), (1,))\n",
      "(0, (), ())\n",
      "`unit_tests__check_full_house` success!\n"
     ]
    }
   ],
   "source": [
    "def check_full_house(bits):\n",
    "    triple = get_highest_3k(bits)\n",
    "    if triple > 0:\n",
    "        bits = remove_ranks(bits, triple)\n",
    "        double = get_highest_2k(bits)\n",
    "        if double > 0:\n",
    "            return FULL_HOUSE_RATING + (triple << NUM_RANKS) + double\n",
    "    \n",
    "    return 0\n",
    "\n",
    "\n",
    "def unit_tests__check_full_house():\n",
    "\n",
    "    bits = cards_to_hand([(0, 1), (1, 1), (2, 1), (3, 1), (0, 2), (1, 2)])\n",
    "    ans = FULL_HOUSE_RATING + (1 << 1 << NUM_RANKS) + (1 << 2)\n",
    "    print(rating_bits_to_tuple(check_full_house(bits)))\n",
    "    assert check_full_house(bits) == ans\n",
    "\n",
    "    bits = cards_to_hand([(0, 1), (1, 1), (2, 1), (3, 1), (0, 2), (1, 2), (2, 2)])\n",
    "    ans = FULL_HOUSE_RATING + (1 << 2 << NUM_RANKS) + (1 << 1)\n",
    "    print(rating_bits_to_tuple(check_full_house(bits)))\n",
    "    assert check_full_house(bits) == ans\n",
    "\n",
    "    bits = cards_to_hand([(0, 1), (1, 1), (0, 2), (1, 2)])\n",
    "    ans = 0\n",
    "    print(rating_bits_to_tuple(check_full_house(bits)))\n",
    "    assert check_full_house(bits) == ans\n",
    "    \n",
    "    \n",
    "run_unit_tests(unit_tests__check_full_house)"
   ]
  },
  {
   "cell_type": "code",
   "execution_count": 138,
   "id": "124798bc",
   "metadata": {
    "ExecuteTime": {
     "end_time": "2023-04-19T23:58:06.209399Z",
     "start_time": "2023-04-19T23:58:06.199373Z"
    }
   },
   "outputs": [
    {
     "name": "stdout",
     "output_type": "stream",
     "text": [
      "`unit_tests__check_flush` success!\n"
     ]
    }
   ],
   "source": [
    "def check_flush(bits):\n",
    "    bits_by_suit = get_bits_by_suit(bits)\n",
    "    \n",
    "    rating = 0\n",
    "    for rbits in bits_by_suit:\n",
    "        masked = get_n_highest_bits(rbits, n=5)\n",
    "        if masked.bit_count() == FLUSH_LEN:\n",
    "            rating = max(rating, masked)\n",
    "\n",
    "    if rating > 0:\n",
    "        return FLUSH_RATING + rating\n",
    "    else:\n",
    "        return 0\n",
    "\n",
    "    \n",
    "def unit_tests__check_flush():\n",
    "\n",
    "    bits = cards_to_hand([(0, 1), (0, 2), (0, 3), (0, 4), (0, 5), (1, 6), (0, 7)])\n",
    "    ans = FLUSH_RATING + (0b10111100)\n",
    "    val = check_flush(bits)\n",
    "    assert val == ans\n",
    "\n",
    "    bits = cards_to_hand([(0, 1), (1, 1), (2, 1), (3, 1), (0, 2), (1, 2), (0, 5), (0, 7), (0, 9), (3, 11)])\n",
    "    ans = FLUSH_RATING + _bit_mask[1] + _bit_mask[2] + _bit_mask[5] + _bit_mask[7] + _bit_mask[9]\n",
    "    val = check_flush(bits)\n",
    "    assert val == ans\n",
    "\n",
    "    bits = cards_to_hand([(3, 0), (0, 1), (1, 2), (2, 3), (3, 4)])\n",
    "    ans = 0\n",
    "    val = check_flush(bits)\n",
    "    assert val == ans\n",
    "\n",
    "    bits = cards_to_hand([(3, 0), (0, 1), (1, 2), (2, 3), (3, 4), (3, 8), (0, 9), (1, 10), (2, 11), (3, 12)])\n",
    "    ans = 0\n",
    "    val = check_flush(bits)\n",
    "    assert val == ans\n",
    "\n",
    "    bits = cards_to_hand([(0, 1), (1, 1), (2, 1), (3, 1), (0, 2), (1, 2), (2, 2), (0, 10)])\n",
    "    ans = 0\n",
    "    val = check_flush(bits)\n",
    "    assert val == ans\n",
    "\n",
    "    bits = cards_to_hand([(0, 1), (1, 1), (0, 2), (1, 2)])\n",
    "    ans = 0\n",
    "    val = check_flush(bits)\n",
    "    assert val == ans\n",
    "    \n",
    "\n",
    "run_unit_tests(unit_tests__check_flush)"
   ]
  },
  {
   "cell_type": "code",
   "execution_count": 139,
   "id": "cb64e1a1",
   "metadata": {
    "ExecuteTime": {
     "end_time": "2023-04-19T23:58:06.634820Z",
     "start_time": "2023-04-19T23:58:06.627080Z"
    }
   },
   "outputs": [
    {
     "name": "stdout",
     "output_type": "stream",
     "text": [
      "`unit_tests__check_straight` success!\n"
     ]
    }
   ],
   "source": [
    "def check_straight(bits):\n",
    "    rbits = get_1k_ranks(bits)\n",
    "    \n",
    "    rating = 0\n",
    "    \n",
    "    # since this goes from small to big, we can use `rating = val`\n",
    "    for mask in _straight_masks:\n",
    "        masked = rbits & mask\n",
    "        if masked.bit_count() == STRAIGHT_LEN:\n",
    "            rating = masked\n",
    "\n",
    "    if rating > 0:\n",
    "        return STRAIGHT_RATING + rating\n",
    "    else:\n",
    "        return 0\n",
    "\n",
    "    \n",
    "def unit_tests__check_straight():\n",
    "\n",
    "    bits = cards_to_hand([(0, 1), (1, 2), (2, 3), (3, 4), (0, 5), (1, 6), (0, 7)])\n",
    "    ans = STRAIGHT_RATING + (0b11111 << 3)\n",
    "    val = check_straight(bits)\n",
    "    assert val == ans\n",
    "\n",
    "    bits = cards_to_hand([(3, 0), (0, 1), (1, 2), (2, 3), (3, 4)])\n",
    "    ans = STRAIGHT_RATING + (0b11111 << 0)\n",
    "    val = check_straight(bits)\n",
    "    assert val == ans\n",
    "\n",
    "    bits = cards_to_hand([(3, 0), (0, 1), (1, 2), (2, 3), (3, 4), (3, 8), (0, 9), (1, 10), (2, 11), (3, 12)])\n",
    "    ans = STRAIGHT_RATING + (0b11111 << 8)\n",
    "    val = check_straight(bits)\n",
    "    assert val == ans\n",
    "\n",
    "    \n",
    "\n",
    "    bits = cards_to_hand([(0, 1), (1, 1), (2, 1), (3, 1), (0, 2), (1, 2), (0, 5), (0, 7), (0, 9), (3, 11)])\n",
    "    ans = 0\n",
    "    val = check_straight(bits)\n",
    "    assert val == ans\n",
    "\n",
    "    bits = cards_to_hand([(0, 1), (1, 1), (2, 1), (3, 1), (0, 2), (1, 2), (2, 2), (0, 10)])\n",
    "    ans = 0\n",
    "    val = check_straight(bits)\n",
    "    assert val == ans\n",
    "\n",
    "    bits = cards_to_hand([(0, 1), (1, 1), (0, 2), (1, 2)])\n",
    "    ans = 0\n",
    "    val = check_straight(bits)\n",
    "    assert val == ans\n",
    "    \n",
    "\n",
    "run_unit_tests(unit_tests__check_straight)"
   ]
  },
  {
   "cell_type": "code",
   "execution_count": 140,
   "id": "073f7ec3",
   "metadata": {
    "ExecuteTime": {
     "end_time": "2023-04-19T23:58:07.063465Z",
     "start_time": "2023-04-19T23:58:07.056786Z"
    }
   },
   "outputs": [
    {
     "name": "stdout",
     "output_type": "stream",
     "text": [
      "`unit_tests__check_three_kind` success!\n"
     ]
    }
   ],
   "source": [
    "def check_three_kind(bits):\n",
    "    triple = get_highest_3k(bits)\n",
    "    if triple > 0:\n",
    "        bits = remove_ranks(bits, triple)\n",
    "        kickers = get_n_highest_1k(bits, n=2)\n",
    "        return THREE_KIND_RATING + (triple << NUM_RANKS) + kickers\n",
    "    \n",
    "    return 0\n",
    "\n",
    "\n",
    "def unit_tests__check_three_kind():\n",
    "\n",
    "    bits = cards_to_hand([(0, 1), (1, 1), (2, 1), (3, 1), (0, 2), (1, 2), (0, 5)])\n",
    "    ans = THREE_KIND_RATING + (1 << 1 << NUM_RANKS) + (1 << 2) + (1 << 5)\n",
    "#     print(rating_bits_to_tuple(check_three_kind(bits)))\n",
    "    assert check_three_kind(bits) == ans\n",
    "\n",
    "    bits = cards_to_hand([(0, 1), (1, 1), (2, 1), (3, 1), (0, 2), (1, 2), (2, 2), (0, 10)])\n",
    "    ans = THREE_KIND_RATING + (1 << 2 << NUM_RANKS) + (1 << 1) + (1 << 10)\n",
    "#     print(rating_bits_to_tuple(check_three_kind(bits)))\n",
    "    assert check_three_kind(bits) == ans\n",
    "\n",
    "    bits = cards_to_hand([(0, 1), (1, 1), (0, 2), (1, 2)])\n",
    "    ans = 0\n",
    "#     print(rating_bits_to_tuple(check_three_kind(bits)))\n",
    "    assert check_three_kind(bits) == ans\n",
    "    \n",
    "\n",
    "run_unit_tests(unit_tests__check_three_kind)"
   ]
  },
  {
   "cell_type": "code",
   "execution_count": 141,
   "id": "579f364b",
   "metadata": {
    "ExecuteTime": {
     "end_time": "2023-04-19T23:58:07.606740Z",
     "start_time": "2023-04-19T23:58:07.597431Z"
    }
   },
   "outputs": [
    {
     "name": "stdout",
     "output_type": "stream",
     "text": [
      "(3, (2, 1), (5,))\n",
      "(3, (2, 1), (9,))\n",
      "(3, (2, 1), (10,))\n",
      "(3, (2, 1), ())\n",
      "(0, (), ())\n",
      "`unit_tests__check_two_pair` success!\n"
     ]
    }
   ],
   "source": [
    "def check_two_pair(bits):\n",
    "    doubles = get_n_highest_2k(bits, n=2)\n",
    "    if doubles.bit_count() >= 2:\n",
    "        bits = remove_ranks(bits, doubles)\n",
    "        kickers = get_highest_1k(bits)\n",
    "        return TWO_PAIR_RATING + (doubles << NUM_RANKS) + kickers\n",
    "    \n",
    "    return 0\n",
    "\n",
    "\n",
    "def unit_tests__check_two_pair():\n",
    "\n",
    "    bits = cards_to_hand([(0, 1), (1, 1), (2, 1), (3, 1), (0, 2), (1, 2), (0, 5)])\n",
    "    ans = TWO_PAIR_RATING + ((_bit_mask[2] + _bit_mask[1]) << NUM_RANKS) + _bit_mask[5]\n",
    "    print(rating_bits_to_tuple(check_two_pair(bits)))\n",
    "    assert check_two_pair(bits) == ans\n",
    "\n",
    "    bits = cards_to_hand([(0, 1), (1, 1), (2, 1), (3, 1), (0, 2), (1, 2), (0, 5), (0, 7), (0, 9)])\n",
    "    ans = TWO_PAIR_RATING + ((_bit_mask[2] + _bit_mask[1]) << NUM_RANKS) + _bit_mask[9]\n",
    "    print(rating_bits_to_tuple(check_two_pair(bits)))\n",
    "    assert check_two_pair(bits) == ans\n",
    "\n",
    "    bits = cards_to_hand([(0, 1), (1, 1), (2, 1), (3, 1), (0, 2), (1, 2), (2, 2), (0, 10)])\n",
    "    ans = TWO_PAIR_RATING + ((_bit_mask[2] + _bit_mask[1]) << NUM_RANKS) + _bit_mask[10]\n",
    "    print(rating_bits_to_tuple(check_two_pair(bits)))\n",
    "    assert check_two_pair(bits) == ans\n",
    "\n",
    "    bits = cards_to_hand([(0, 1), (1, 1), (0, 2), (1, 2)])\n",
    "    ans = TWO_PAIR_RATING + ((_bit_mask[2] + _bit_mask[1]) << NUM_RANKS)\n",
    "    print(rating_bits_to_tuple(check_two_pair(bits)))\n",
    "    assert check_two_pair(bits) == ans\n",
    "\n",
    "    bits = cards_to_hand([(0, 1), (1, 2)])\n",
    "    ans = 0\n",
    "    print(rating_bits_to_tuple(check_two_pair(bits)))\n",
    "    assert check_two_pair(bits) == ans\n",
    "    \n",
    "\n",
    "run_unit_tests(unit_tests__check_two_pair)"
   ]
  },
  {
   "cell_type": "code",
   "execution_count": 142,
   "id": "14d6a72f",
   "metadata": {
    "ExecuteTime": {
     "end_time": "2023-04-19T23:58:08.178642Z",
     "start_time": "2023-04-19T23:58:08.170120Z"
    }
   },
   "outputs": [
    {
     "name": "stdout",
     "output_type": "stream",
     "text": [
      "138563026948\n",
      "(2, (11,), (12, 4, 2))\n",
      "`unit_tests__check_two_kind` success!\n"
     ]
    }
   ],
   "source": [
    "def check_two_kind(bits):\n",
    "    double = get_highest_2k(bits)\n",
    "    if double > 0:\n",
    "        bits = remove_ranks(bits, double)\n",
    "        kickers = get_n_highest_1k(bits, n=3)\n",
    "        return TWO_KIND_RATING + (double << NUM_RANKS) + kickers\n",
    "    \n",
    "    return 0\n",
    "\n",
    "\n",
    "def unit_tests__check_two_kind():\n",
    "    \n",
    "    # 138563026948\n",
    "    \n",
    "    bits = cards_to_hand([(0, 2), (1, 11), (1, 12), (2, 4), (2, 11)])\n",
    "    ans = TWO_KIND_RATING + (1 << 11 << NUM_RANKS) + (1 << 2) + (1 << 4) + (1 << 12)\n",
    "    print(bits)\n",
    "    print(rating_bits_to_tuple(check_two_kind(bits)))\n",
    "    assert check_two_kind(bits) == ans\n",
    "    \n",
    "    bits = cards_to_hand([(0, 1), (1, 1), (2, 1), (3, 1), (0, 2), (1, 2), (0, 5)])\n",
    "    ans = TWO_KIND_RATING + (1 << 2 << NUM_RANKS) + (1 << 1) + (1 << 5)\n",
    "#     print(rating_bits_to_tuple(check_two_kind(bits)))\n",
    "    assert check_two_kind(bits) == ans\n",
    "\n",
    "    bits = cards_to_hand([(0, 1), (1, 1), (2, 1), (3, 1), (0, 2), (1, 2), (0, 5), (0, 7), (0, 9)])\n",
    "    ans = TWO_KIND_RATING + (1 << 2 << NUM_RANKS) + (1 << 9) + (1 << 7) + (1 << 5)\n",
    "#     print(rating_bits_to_tuple(check_two_kind(bits)))\n",
    "    assert check_two_kind(bits) == ans\n",
    "\n",
    "    bits = cards_to_hand([(0, 1), (1, 1), (2, 1), (3, 1), (0, 2), (1, 2), (2, 2), (0, 10)])\n",
    "    ans = TWO_KIND_RATING + (1 << 2 << NUM_RANKS) + (1 << 1) + (1 << 10)\n",
    "#     print(rating_bits_to_tuple(check_two_kind(bits)))\n",
    "    assert check_two_kind(bits) == ans\n",
    "\n",
    "    bits = cards_to_hand([(0, 1), (1, 1), (0, 2), (1, 2)])\n",
    "    ans = TWO_KIND_RATING + (1 << 2 << NUM_RANKS) + (1 << 1)\n",
    "#     print(rating_bits_to_tuple(check_two_kind(bits)))\n",
    "    assert check_two_kind(bits) == ans\n",
    "\n",
    "    bits = cards_to_hand([(0, 1), (1, 2)])\n",
    "    ans = 0\n",
    "#     print(rating_bits_to_tuple(check_two_kind(bits)))\n",
    "    assert check_two_kind(bits) == ans\n",
    "    \n",
    "\n",
    "run_unit_tests(unit_tests__check_two_kind)"
   ]
  },
  {
   "cell_type": "code",
   "execution_count": 143,
   "id": "a63c96d9",
   "metadata": {
    "ExecuteTime": {
     "end_time": "2023-04-19T23:58:08.724705Z",
     "start_time": "2023-04-19T23:58:08.716050Z"
    }
   },
   "outputs": [
    {
     "name": "stdout",
     "output_type": "stream",
     "text": [
      "`unit_tests__check_one_kind` success!\n"
     ]
    }
   ],
   "source": [
    "def check_one_kind(bits):\n",
    "    kickers = get_n_highest_1k(bits, n=5)\n",
    "    return ONE_KIND_RATING + kickers\n",
    "\n",
    "def unit_tests__check_one_kind():\n",
    "\n",
    "    bits = cards_to_hand([(0, 1), (1, 1), (2, 1), (3, 1), (0, 2), (1, 2), (0, 5)])\n",
    "    ans = ONE_KIND_RATING + _bit_mask[1] + _bit_mask[2] + _bit_mask[5]\n",
    "    val = check_one_kind(bits)\n",
    "    assert val == ans\n",
    "\n",
    "    bits = cards_to_hand([(0, 1), (1, 1), (2, 1), (3, 1), (0, 2), (1, 2), (0, 5), (0, 7), (0, 9)])\n",
    "    ans = ONE_KIND_RATING + _bit_mask[1] + _bit_mask[2] + _bit_mask[5] + _bit_mask[7] + _bit_mask[9]\n",
    "    val = check_one_kind(bits)\n",
    "    assert val == ans\n",
    "\n",
    "    bits = cards_to_hand([(0, 1), (1, 1), (2, 1), (3, 1), (0, 2), (1, 2), (0, 5), (0, 7), (0, 9), (3, 11)])\n",
    "    ans = ONE_KIND_RATING + _bit_mask[2] + _bit_mask[5] + _bit_mask[7] + _bit_mask[9] + _bit_mask[11]\n",
    "    val = check_one_kind(bits)\n",
    "    assert val == ans\n",
    "\n",
    "    bits = cards_to_hand([(0, 1), (1, 1), (2, 1), (3, 1), (0, 2), (1, 2), (2, 2), (0, 10)])\n",
    "    ans = ONE_KIND_RATING + _bit_mask[1] + _bit_mask[2] + _bit_mask[10]\n",
    "    val = check_one_kind(bits)\n",
    "    assert val == ans\n",
    "\n",
    "    bits = cards_to_hand([(0, 1), (1, 1), (0, 2), (1, 2)])\n",
    "    ans = ONE_KIND_RATING + _bit_mask[1] + _bit_mask[2]\n",
    "    val = check_one_kind(bits)\n",
    "    assert val == ans\n",
    "\n",
    "    bits = cards_to_hand([(0, 1), (1, 2)])\n",
    "    ans = ONE_KIND_RATING + _bit_mask[1] + _bit_mask[2]\n",
    "    val = check_one_kind(bits)\n",
    "    assert val == ans\n",
    "\n",
    "    bits = cards_to_hand([])\n",
    "    ans = ONE_KIND_RATING\n",
    "    val = check_one_kind(bits)\n",
    "    assert val == ans\n",
    "    \n",
    "\n",
    "run_unit_tests(unit_tests__check_one_kind)"
   ]
  },
  {
   "cell_type": "code",
   "execution_count": null,
   "id": "50955913",
   "metadata": {},
   "outputs": [],
   "source": []
  },
  {
   "cell_type": "code",
   "execution_count": 144,
   "id": "2ea2fb19",
   "metadata": {
    "ExecuteTime": {
     "end_time": "2023-04-19T23:58:09.786791Z",
     "start_time": "2023-04-19T23:58:09.783379Z"
    }
   },
   "outputs": [],
   "source": [
    "def get_rating(hand):\n",
    "    vals = [\n",
    "        check_straight_flush(hand),\n",
    "        check_four_kind(hand),\n",
    "        check_full_house(hand),\n",
    "        check_flush(hand),\n",
    "        check_straight(hand),\n",
    "        check_three_kind(hand),\n",
    "        check_two_pair(hand),\n",
    "        check_two_kind(hand),\n",
    "        check_one_kind(hand),\n",
    "    ]\n",
    "    \n",
    "    return max(vals)\n",
    "\n",
    "def get_hand_rtype(hand):\n",
    "    rating = get_rating(hand)\n",
    "    return rating_get_type(rating)\n",
    "    "
   ]
  },
  {
   "cell_type": "markdown",
   "id": "1f5e819a",
   "metadata": {},
   "source": [
    "## testing"
   ]
  },
  {
   "cell_type": "code",
   "execution_count": 145,
   "id": "452128a4",
   "metadata": {
    "ExecuteTime": {
     "end_time": "2023-04-19T23:58:10.566354Z",
     "start_time": "2023-04-19T23:58:10.564132Z"
    }
   },
   "outputs": [],
   "source": [
    "# https://www.kaggle.com/datasets/rasvob/uci-poker-hand-dataset\n",
    "_test_file = \"../data/poker-hand-testing.csv\""
   ]
  },
  {
   "cell_type": "code",
   "execution_count": 158,
   "id": "c2f65b03",
   "metadata": {
    "ExecuteTime": {
     "end_time": "2023-04-20T00:01:57.564189Z",
     "start_time": "2023-04-20T00:01:56.436656Z"
    }
   },
   "outputs": [],
   "source": [
    "# read df and rename columns\n",
    "df = pd.read_csv(_test_file)\n",
    "df.columns = [f\"{c}{i}\" for i in range(5) for c in \"sr\"] + [\"rtype\"]\n",
    "\n",
    "# make rtypes 1-indexed\n",
    "# treat royal flush and straight flush as the same\n",
    "df[\"rtype\"] += 1\n",
    "df[\"rtype\"] = np.where(df[\"rtype\"] == (STRAIGHT_FLUSH_RATING >> RATING_TYPE_OFFSET) + 1, df[\"rtype\"] - 1, df[\"rtype\"])\n",
    "\n",
    "# convert rank 1 -> rank 14\n",
    "# make all ranks/suits 0 indexed\n",
    "\n",
    "\n",
    "# create hands\n",
    "df[\"hand\"] = 0\n",
    "\n",
    "for i in range(5):\n",
    "    scol = f\"s{i}\"\n",
    "    rcol = f\"r{i}\"\n",
    "    ccol = f\"c{i}\"\n",
    "    \n",
    "    df[rcol] = np.where(df[rcol] == 1, 14, df[rcol])\n",
    "    df[rcol] -= 2\n",
    "    df[scol] -= 1\n",
    "    \n",
    "    df[ccol] = df[scol] * NUM_RANKS + df[rcol]\n",
    "    \n",
    "    df[\"hand\"] += 2 ** (df[ccol])\n",
    "                           \n",
    "# df[\"bin_hand\"] = df[\"hand\"].apply(bin)\n",
    "\n",
    "# df = df[[\"hand\", \"rtype\"]].copy()\n",
    "df = df.drop_duplicates(subset=\"hand\").reset_index(drop=True)\n",
    "\n",
    "all_df = df\n",
    "\n"
   ]
  },
  {
   "cell_type": "code",
   "execution_count": 159,
   "id": "1f95a648",
   "metadata": {
    "ExecuteTime": {
     "end_time": "2023-04-20T00:01:58.987964Z",
     "start_time": "2023-04-20T00:01:58.985879Z"
    }
   },
   "outputs": [],
   "source": [
    "df = all_df\n",
    "# df = all_df.iloc[:200000]\n"
   ]
  },
  {
   "cell_type": "code",
   "execution_count": 150,
   "id": "595b3e2d",
   "metadata": {
    "ExecuteTime": {
     "end_time": "2023-04-19T23:59:10.164636Z",
     "start_time": "2023-04-19T23:58:18.780407Z"
    }
   },
   "outputs": [
    {
     "data": {
      "text/html": [
       "<div>\n",
       "<style scoped>\n",
       "    .dataframe tbody tr th:only-of-type {\n",
       "        vertical-align: middle;\n",
       "    }\n",
       "\n",
       "    .dataframe tbody tr th {\n",
       "        vertical-align: top;\n",
       "    }\n",
       "\n",
       "    .dataframe thead th {\n",
       "        text-align: right;\n",
       "    }\n",
       "</style>\n",
       "<table border=\"1\" class=\"dataframe\">\n",
       "  <thead>\n",
       "    <tr style=\"text-align: right;\">\n",
       "      <th></th>\n",
       "      <th>s0</th>\n",
       "      <th>r0</th>\n",
       "      <th>s1</th>\n",
       "      <th>r1</th>\n",
       "      <th>s2</th>\n",
       "      <th>r2</th>\n",
       "      <th>s3</th>\n",
       "      <th>r3</th>\n",
       "      <th>s4</th>\n",
       "      <th>r4</th>\n",
       "      <th>rtype</th>\n",
       "      <th>hand</th>\n",
       "      <th>c0</th>\n",
       "      <th>c1</th>\n",
       "      <th>c2</th>\n",
       "      <th>c3</th>\n",
       "      <th>c4</th>\n",
       "      <th>pred</th>\n",
       "    </tr>\n",
       "  </thead>\n",
       "  <tbody>\n",
       "  </tbody>\n",
       "</table>\n",
       "</div>"
      ],
      "text/plain": [
       "Empty DataFrame\n",
       "Columns: [s0, r0, s1, r1, s2, r2, s3, r3, s4, r4, rtype, hand, c0, c1, c2, c3, c4, pred]\n",
       "Index: []"
      ]
     },
     "execution_count": 150,
     "metadata": {},
     "output_type": "execute_result"
    }
   ],
   "source": [
    "# validate our get_hand_rtype\n",
    "df[\"pred\"] = df[\"hand\"].apply(get_hand_rtype)\n",
    "\n",
    "df[df[\"pred\"] != df[\"rtype\"]]"
   ]
  },
  {
   "cell_type": "code",
   "execution_count": null,
   "id": "97428e35",
   "metadata": {},
   "outputs": [],
   "source": []
  },
  {
   "cell_type": "code",
   "execution_count": null,
   "id": "badbf76c",
   "metadata": {},
   "outputs": [],
   "source": []
  },
  {
   "cell_type": "code",
   "execution_count": null,
   "id": "184f709b",
   "metadata": {},
   "outputs": [],
   "source": []
  },
  {
   "cell_type": "code",
   "execution_count": null,
   "id": "63c9cc48",
   "metadata": {},
   "outputs": [],
   "source": []
  },
  {
   "cell_type": "code",
   "execution_count": null,
   "id": "3f1c9e66",
   "metadata": {},
   "outputs": [],
   "source": []
  },
  {
   "cell_type": "code",
   "execution_count": null,
   "id": "ebba0269",
   "metadata": {},
   "outputs": [],
   "source": []
  },
  {
   "cell_type": "code",
   "execution_count": null,
   "id": "b63488bf",
   "metadata": {},
   "outputs": [],
   "source": []
  },
  {
   "cell_type": "code",
   "execution_count": null,
   "id": "69cc071c",
   "metadata": {},
   "outputs": [],
   "source": []
  },
  {
   "cell_type": "code",
   "execution_count": null,
   "id": "92d65304",
   "metadata": {},
   "outputs": [],
   "source": []
  },
  {
   "cell_type": "code",
   "execution_count": null,
   "id": "2c417c14",
   "metadata": {},
   "outputs": [],
   "source": []
  },
  {
   "cell_type": "code",
   "execution_count": null,
   "id": "1dd817d4",
   "metadata": {},
   "outputs": [],
   "source": []
  },
  {
   "cell_type": "code",
   "execution_count": null,
   "id": "975654b6",
   "metadata": {},
   "outputs": [],
   "source": []
  },
  {
   "cell_type": "code",
   "execution_count": null,
   "id": "0407cd61",
   "metadata": {},
   "outputs": [],
   "source": []
  }
 ],
 "metadata": {
  "kernelspec": {
   "display_name": "Python 3 (ipykernel)",
   "language": "python",
   "name": "python3"
  },
  "language_info": {
   "codemirror_mode": {
    "name": "ipython",
    "version": 3
   },
   "file_extension": ".py",
   "mimetype": "text/x-python",
   "name": "python",
   "nbconvert_exporter": "python",
   "pygments_lexer": "ipython3",
   "version": "3.10.9"
  },
  "toc": {
   "base_numbering": 1,
   "nav_menu": {},
   "number_sections": true,
   "sideBar": true,
   "skip_h1_title": false,
   "title_cell": "Table of Contents",
   "title_sidebar": "Contents",
   "toc_cell": false,
   "toc_position": {
    "height": "calc(100% - 180px)",
    "left": "10px",
    "top": "150px",
    "width": "358.391px"
   },
   "toc_section_display": true,
   "toc_window_display": true
  },
  "varInspector": {
   "cols": {
    "lenName": 16,
    "lenType": 16,
    "lenVar": 40
   },
   "kernels_config": {
    "python": {
     "delete_cmd_postfix": "",
     "delete_cmd_prefix": "del ",
     "library": "var_list.py",
     "varRefreshCmd": "print(var_dic_list())"
    },
    "r": {
     "delete_cmd_postfix": ") ",
     "delete_cmd_prefix": "rm(",
     "library": "var_list.r",
     "varRefreshCmd": "cat(var_dic_list()) "
    }
   },
   "types_to_exclude": [
    "module",
    "function",
    "builtin_function_or_method",
    "instance",
    "_Feature"
   ],
   "window_display": false
  }
 },
 "nbformat": 4,
 "nbformat_minor": 5
}
