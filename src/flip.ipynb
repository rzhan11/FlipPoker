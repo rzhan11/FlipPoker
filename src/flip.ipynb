{
 "cells": [
  {
   "cell_type": "markdown",
   "id": "e39825ca",
   "metadata": {},
   "source": [
    "## hand representation\n",
    "- bit-vector"
   ]
  },
  {
   "cell_type": "code",
   "execution_count": 1,
   "id": "1c830dcf",
   "metadata": {
    "ExecuteTime": {
     "end_time": "2023-04-20T00:39:28.838941Z",
     "start_time": "2023-04-20T00:39:28.735919Z"
    }
   },
   "outputs": [
    {
     "data": {
      "text/html": [
       "<style>.container { width:75% !important; }</style>"
      ],
      "text/plain": [
       "<IPython.core.display.HTML object>"
      ]
     },
     "metadata": {},
     "output_type": "display_data"
    }
   ],
   "source": [
    "from IPython.display import display, HTML\n",
    "import ipywidgets as widgets\n",
    "from ipywidgets import interact\n",
    "display(HTML(\"<style>.container { width:75% !important; }</style>\"))"
   ]
  },
  {
   "cell_type": "code",
   "execution_count": 2,
   "id": "bb4f3b41",
   "metadata": {
    "ExecuteTime": {
     "end_time": "2023-04-20T00:39:30.700987Z",
     "start_time": "2023-04-20T00:39:28.841802Z"
    }
   },
   "outputs": [],
   "source": [
    "import numpy as np\n",
    "import pandas as pd\n",
    "import matplotlib.pyplot as plt\n"
   ]
  },
  {
   "cell_type": "markdown",
   "id": "fba3e235",
   "metadata": {},
   "source": [
    "## Params"
   ]
  },
  {
   "cell_type": "code",
   "execution_count": 3,
   "id": "1b759350",
   "metadata": {
    "ExecuteTime": {
     "end_time": "2023-04-20T00:39:30.705423Z",
     "start_time": "2023-04-20T00:39:30.703081Z"
    }
   },
   "outputs": [],
   "source": [
    "_RUN_UNIT_TESTS = True"
   ]
  },
  {
   "cell_type": "markdown",
   "id": "f7d2ba35",
   "metadata": {},
   "source": [
    "## Game constants"
   ]
  },
  {
   "cell_type": "code",
   "execution_count": 4,
   "id": "4c402e5e",
   "metadata": {
    "ExecuteTime": {
     "end_time": "2023-04-20T00:39:30.711665Z",
     "start_time": "2023-04-20T00:39:30.708409Z"
    }
   },
   "outputs": [],
   "source": [
    "# game constants\n",
    "NUM_RANKS = 13\n",
    "NUM_SUITS = 4\n",
    "NUM_CARDS = NUM_RANKS * NUM_SUITS\n",
    "CARDS = [(s, r) for s in range(NUM_SUITS) for r in range(NUM_RANKS)]\n",
    "\n",
    "STRAIGHT_FLUSH_LEN = 5\n",
    "STRAIGHT_LEN = 5\n",
    "FLUSH_LEN = 5\n",
    "FOUR_KIND_LEN = 4\n",
    "THREE_KIND_LEN = 3\n",
    "TWO_KIND_LEN = 2\n"
   ]
  },
  {
   "cell_type": "code",
   "execution_count": 5,
   "id": "9b1d530f",
   "metadata": {
    "ExecuteTime": {
     "end_time": "2023-04-20T00:39:30.717740Z",
     "start_time": "2023-04-20T00:39:30.713651Z"
    }
   },
   "outputs": [],
   "source": [
    "# ratings\n",
    "RATING_TYPE_OFFSET = 2 * NUM_RANKS\n",
    "\n",
    "STRAIGHT_FLUSH_RATING = 9 << RATING_TYPE_OFFSET\n",
    "FOUR_KIND_RATING = 8 << RATING_TYPE_OFFSET\n",
    "FULL_HOUSE_RATING = 7 << RATING_TYPE_OFFSET\n",
    "FLUSH_RATING = 6 << RATING_TYPE_OFFSET\n",
    "STRAIGHT_RATING = 5 << RATING_TYPE_OFFSET\n",
    "THREE_KIND_RATING = 4 << RATING_TYPE_OFFSET\n",
    "TWO_PAIR_RATING = 3 << RATING_TYPE_OFFSET\n",
    "TWO_KIND_RATING = 2 << RATING_TYPE_OFFSET\n",
    "ONE_KIND_RATING = 1 << RATING_TYPE_OFFSET\n",
    "\n",
    "\n",
    "RATING_TYPE_MASK = 15 << RATING_TYPE_OFFSET\n",
    "RATING_KICKER2_MASK = (1 << NUM_RANKS) - 1\n",
    "RATING_KICKER1_MASK = RATING_KICKER2_MASK << NUM_RANKS\n"
   ]
  },
  {
   "cell_type": "markdown",
   "id": "80301ee5",
   "metadata": {},
   "source": [
    "## Masks\n",
    "- _suit_mask: _suit_mask[s] gives bit mask for all cards of suit s\n",
    "- _bit_mask: _bit_mask[ind] gives bit mask for bitind 'ind'\n",
    "- _bit_mask2: _bit_mask2[s][r] gives bit mask for card (s, r)"
   ]
  },
  {
   "cell_type": "code",
   "execution_count": 6,
   "id": "83eeed4e",
   "metadata": {
    "ExecuteTime": {
     "end_time": "2023-04-20T00:39:30.724855Z",
     "start_time": "2023-04-20T00:39:30.720167Z"
    }
   },
   "outputs": [],
   "source": [
    "_all_mask = (1 << NUM_CARDS) - 1\n",
    "_bit_mask = [1 << i for i in range(NUM_CARDS)]\n",
    "_bit_mask2 = [[(1 << (s * NUM_RANKS + r)) for r in range(NUM_RANKS)] for s in range(NUM_SUITS)]\n",
    "\n",
    "_bit_unmask = {m: i for i, m in enumerate(_bit_mask)}\n",
    "_bit_unmask[0] = -1"
   ]
  },
  {
   "cell_type": "code",
   "execution_count": 7,
   "id": "0dff482f",
   "metadata": {
    "ExecuteTime": {
     "end_time": "2023-04-20T00:39:30.734163Z",
     "start_time": "2023-04-20T00:39:30.729758Z"
    }
   },
   "outputs": [],
   "source": [
    "_suit_masks = [((1 << NUM_RANKS) - 1) << (s * NUM_RANKS) for s in range(NUM_SUITS)]\n",
    "_rank_masks = [sum([1 << (s * NUM_RANKS + r) for s in range(NUM_SUITS)]) for r in range(NUM_RANKS)]\n",
    "\n",
    "_suit_mask = _suit_masks[0]"
   ]
  },
  {
   "cell_type": "code",
   "execution_count": 8,
   "id": "4d4ad573",
   "metadata": {
    "ExecuteTime": {
     "end_time": "2023-04-20T00:39:30.741130Z",
     "start_time": "2023-04-20T00:39:30.737337Z"
    }
   },
   "outputs": [],
   "source": [
    "base_masks = []\n",
    "for s1 in range(NUM_SUITS):\n",
    "    for s2 in range(s1):\n",
    "        val = _bit_mask[s1 * NUM_RANKS] + _bit_mask[s2 * NUM_RANKS]\n",
    "        base_masks += [val]\n",
    "\n",
    "_2k_masks = []\n",
    "for r in range(NUM_RANKS):\n",
    "    _2k_masks += [bmask << r for bmask in base_masks]"
   ]
  },
  {
   "cell_type": "markdown",
   "id": "00de3fca",
   "metadata": {},
   "source": [
    "## Utils"
   ]
  },
  {
   "cell_type": "code",
   "execution_count": 9,
   "id": "2f5fafb4",
   "metadata": {
    "ExecuteTime": {
     "end_time": "2023-04-20T00:39:30.747348Z",
     "start_time": "2023-04-20T00:39:30.743883Z"
    }
   },
   "outputs": [],
   "source": [
    "def binify(bits_list):\n",
    "    return [bin(b) for b in bits_list]"
   ]
  },
  {
   "cell_type": "code",
   "execution_count": 10,
   "id": "4c165760",
   "metadata": {
    "ExecuteTime": {
     "end_time": "2023-04-20T00:39:30.756304Z",
     "start_time": "2023-04-20T00:39:30.753120Z"
    }
   },
   "outputs": [],
   "source": [
    "def run_unit_tests(unit_fn):\n",
    "    if _RUN_UNIT_TESTS:\n",
    "        unit_fn()\n",
    "        print(f\"`{unit_fn.__name__}` success!\")\n",
    "    else:\n",
    "        print(f\"Skipping `{unit_fn.__name__}`\")\n"
   ]
  },
  {
   "cell_type": "code",
   "execution_count": 11,
   "id": "e5664fee",
   "metadata": {
    "ExecuteTime": {
     "end_time": "2023-04-20T00:39:30.764792Z",
     "start_time": "2023-04-20T00:39:30.758768Z"
    }
   },
   "outputs": [],
   "source": [
    "# rating utils\n",
    "def rank_bits_to_nums(ranks):\n",
    "    vals = []\n",
    "    for r in range(NUM_RANKS):\n",
    "        if (_bit_mask[r] & ranks) > 0:\n",
    "            vals += [r]\n",
    "    return tuple(reversed(vals))\n",
    "\n",
    "def rating_get_type(rating):\n",
    "    return (rating & RATING_TYPE_MASK) >> (2 * NUM_RANKS)\n",
    "\n",
    "def rating_get_kicker1(rating):\n",
    "    return rank_bits_to_nums((rating & RATING_KICKER1_MASK) >> NUM_RANKS)\n",
    "\n",
    "def rating_get_kicker2(rating):\n",
    "    return rank_bits_to_nums((rating & RATING_KICKER2_MASK))\n",
    "\n",
    "def rating_bits_to_tuple(rating):\n",
    "    return (rating_get_type(rating), rating_get_kicker1(rating), rating_get_kicker2(rating))\n",
    "\n",
    "\n",
    "_rating_type_to_str = [None, \"high card\", \"pair\", \"two pair\", \"three kind\", \"straight\", \"flush\", \"full house\", \"four kind\", \"straight flush\"]\n",
    "\n",
    "def rating_prettify(rating):\n",
    "    (rtype, k1, k2) = rating_bits_to_tuple(rating)\n",
    "    \n",
    "    return (_rating_type_to_str[rtype], k1, k2)"
   ]
  },
  {
   "cell_type": "code",
   "execution_count": 12,
   "id": "8323182a",
   "metadata": {
    "ExecuteTime": {
     "end_time": "2023-04-20T00:39:30.771685Z",
     "start_time": "2023-04-20T00:39:30.767113Z"
    }
   },
   "outputs": [],
   "source": [
    "def inv_bits(hand):\n",
    "    return hand ^ _all_mask\n",
    "\n",
    "def rbits_to_bits(rbits):\n",
    "    return rbits + (rbits << NUM_RANKS) + (rbits << 2 * NUM_RANKS) + (rbits << 3 * NUM_RANKS)\n",
    "\n",
    "def remove_ranks(hand, rbits):\n",
    "    \"\"\" Removes all ranks in rbits from bits\n",
    "    bits - original bitvec\n",
    "    rbits - bit ranks to remove\n",
    "    \"\"\"\n",
    "    keep_bits = inv_bits(rbits_to_bits(rbits))\n",
    "    return hand & keep_bits\n",
    "\n",
    "def get_bits_by_suit(hand):\n",
    "    vals = []\n",
    "    for s in range(NUM_SUITS):\n",
    "        vals += [(hand >> (s * NUM_RANKS)) & _suit_mask]\n",
    "    return vals"
   ]
  },
  {
   "cell_type": "code",
   "execution_count": 13,
   "id": "b328ad4d",
   "metadata": {
    "ExecuteTime": {
     "end_time": "2023-04-20T00:39:30.777454Z",
     "start_time": "2023-04-20T00:39:30.773798Z"
    }
   },
   "outputs": [],
   "source": [
    "# returns highest bit (1 << bitind)\n",
    "\n",
    "def get_n_highest_bits(bits, n):\n",
    "    v = 0\n",
    "    for i in range(n):\n",
    "        b = get_highest_bit(bits)\n",
    "        bits -= b\n",
    "        v += b\n",
    "    return v\n",
    "\n",
    "def get_highest_bit(bits):\n",
    "    # ensure it has at least one bit\n",
    "    if bits == 0:\n",
    "        return 0\n",
    "    \n",
    "#     return _bit_mask[np.ceil(np.log2(bits + 1)).astype(int) - 1]\n",
    "    return _bit_mask[bits.bit_length() - 1]\n",
    "\n"
   ]
  },
  {
   "cell_type": "code",
   "execution_count": 14,
   "id": "40130637",
   "metadata": {
    "ExecuteTime": {
     "end_time": "2023-04-20T00:39:30.789282Z",
     "start_time": "2023-04-20T00:39:30.779777Z"
    }
   },
   "outputs": [],
   "source": [
    "# returns bit vector of NUM_RANKS length\n",
    "def get_1k_ranks(hand):\n",
    "    bits_by_suit = get_bits_by_suit(hand)\n",
    "    b1, b2, b3, b4 = bits_by_suit\n",
    "    return b1 | b2 | b3 | b4\n",
    "    \n",
    "#     total = 0\n",
    "#     for s in range(NUM_SUITS):\n",
    "#         total = total | (bits >> (s * NUM_RANKS))\n",
    "#     return total & _suit_mask\n",
    "\n",
    "def get_highest_1k(hand, n=1):\n",
    "    ranks = get_1k_ranks(hand)\n",
    "    return get_highest_bit(ranks)\n",
    "\n",
    "def get_n_highest_1k(hand, n):\n",
    "    ranks = get_1k_ranks(hand)\n",
    "    return get_n_highest_bits(ranks, n)\n",
    "\n",
    "\n",
    "\n",
    "def get_2k_ranks(hand):\n",
    "    bits_by_suit = get_bits_by_suit(hand)\n",
    "    b1, b2, b3, b4 = bits_by_suit\n",
    "    return (b1 & b2) | (b1 & b3) | (b1 & b4) | (b2 & b3) | (b2 & b4) | (b3 & b4)\n",
    "    \n",
    "def get_highest_2k(hand):\n",
    "    ranks = get_2k_ranks(hand)\n",
    "    return get_highest_bit(ranks)\n",
    "\n",
    "def get_n_highest_2k(hand, n):\n",
    "    ranks = get_2k_ranks(hand)\n",
    "    return get_n_highest_bits(ranks, n)\n",
    "\n",
    "\n",
    "\n",
    "def get_3k_ranks(bits):\n",
    "    bits_by_suit = get_bits_by_suit(bits)\n",
    "    b1, b2, b3, b4 = bits_by_suit\n",
    "    return (b1 & b2 & b3) | (b1 & b2 & b4) | (b1 & b3 & b4) | (b2 & b3 & b4)\n",
    "    \n",
    "def get_highest_3k(hand):\n",
    "    ranks = get_3k_ranks(hand)\n",
    "    return get_highest_bit(ranks)\n",
    "\n",
    "def get_n_highest_3k(hand, n):\n",
    "    ranks = get_3k_ranks(bits)\n",
    "    return get_n_highest_bits(ranks, n)\n",
    "\n",
    "\n",
    "\n",
    "def get_4k_ranks(hand):\n",
    "    bits_by_suit = get_bits_by_suit(hand)\n",
    "    b1, b2, b3, b4 = bits_by_suit\n",
    "    return b1 & b2 & b3 & b4\n",
    "    \n",
    "def get_highest_4k(hand):\n",
    "    ranks = get_4k_ranks(hand)\n",
    "    return get_highest_bit(ranks)\n",
    "\n",
    "def get_n_highest_4k(hand, n):\n",
    "    ranks = get_4k_ranks(hand)\n",
    "    return get_n_highest_bits(ranks, n)"
   ]
  },
  {
   "cell_type": "code",
   "execution_count": 15,
   "id": "9d002741",
   "metadata": {
    "ExecuteTime": {
     "end_time": "2023-04-20T00:39:30.802449Z",
     "start_time": "2023-04-20T00:39:30.791535Z"
    }
   },
   "outputs": [
    {
     "name": "stdout",
     "output_type": "stream",
     "text": [
      "`unit_tests__card_to_ind` success!\n",
      "`unit_tests__ind_to_card` success!\n",
      "`unit_tests__hand_to_cards` success!\n"
     ]
    }
   ],
   "source": [
    "## cards are a tuple representation of a hand (bit-vector)\n",
    "\n",
    "def validate_card(s, r):\n",
    "    assert 0 <= s < NUM_SUITS and 0 <= r < NUM_RANKS\n",
    "\n",
    "def validate_cards(cards):\n",
    "    assert len(set(cards)) == len(cards) # ensure cards are unique\n",
    "    for s, r in cards:\n",
    "        validate_card(s, r)\n",
    "\n",
    "def validate_ind(ind):\n",
    "    assert 0 <= ind < NUM_CARDS\n",
    "\n",
    "def card_to_ind(s, r):\n",
    "    validate_card(s, r)\n",
    "    return s * NUM_RANKS + r\n",
    "\n",
    "def ind_to_card(ind):\n",
    "    validate_ind(ind)\n",
    "    return (ind // NUM_RANKS, ind % NUM_RANKS)\n",
    "\n",
    "def hand_to_cards(hand):\n",
    "    assert 0 <= hand < (1 << NUM_CARDS)\n",
    "    \n",
    "    cards = []\n",
    "    for ind, card in enumerate(CARDS):\n",
    "        if (hand & _bit_mask[ind]) > 0:\n",
    "            cards += [card]\n",
    "            \n",
    "    return cards\n",
    "\n",
    "def cards_to_hand(cards):\n",
    "    validate_cards(cards)\n",
    "    \n",
    "    hand = 0\n",
    "    for s, r in cards:\n",
    "        hand += _bit_mask[card_to_ind(s, r)]\n",
    "    return hand\n",
    "\n",
    "            \n",
    "def unit_tests__card_to_ind():\n",
    "    assert ( card_to_ind(0, 0) == 0 )\n",
    "    assert ( card_to_ind(0, 1) == 1 )\n",
    "    assert ( card_to_ind(1, 1) == 14 )\n",
    "    assert ( card_to_ind(2, 6) == 32 )\n",
    "    assert ( card_to_ind(3, 12) == 51 )\n",
    "    \n",
    "def unit_tests__ind_to_card():\n",
    "    assert ( ind_to_card(0) == (0, 0) )\n",
    "    assert ( ind_to_card(5) == (0, 5) )\n",
    "    assert ( ind_to_card(13) == (1, 0) )\n",
    "    assert ( ind_to_card(51) == (3, 12) )\n",
    "    \n",
    "\n",
    "def unit_tests__hand_to_cards():\n",
    "    assert ( tuple(hand_to_cards(0b11)) == ((0, 0), (0, 1)) )\n",
    "    assert ( tuple(hand_to_cards((1 << 13) + 7)) == ((0, 0), (0, 1), (0, 2), (1, 0)) )\n",
    "    assert ( tuple(hand_to_cards((3 << 13) + 7)) == ((0, 0), (0, 1), (0, 2), (1, 0), (1, 1)) )\n",
    "\n",
    "\n",
    "run_unit_tests(unit_tests__card_to_ind)\n",
    "run_unit_tests(unit_tests__ind_to_card)\n",
    "run_unit_tests(unit_tests__hand_to_cards)\n",
    "    "
   ]
  },
  {
   "cell_type": "markdown",
   "id": "112fcfb3",
   "metadata": {},
   "source": [
    "## ratings\n",
    "\n",
    "- straight flush (SF)\n",
    "    - highest value (1 number, 13 bits)\n",
    "\n",
    "- four of a kind (4K)\n",
    "    - four + kicker (1 +  numbers, 13 bits)\n",
    "\n",
    "- full house (FH)\n",
    "    - triple + pair (1 + 1 numbers, 26 bits)\n",
    "\n",
    "- flush (FL)\n",
    "    - highest five numbers (5 numbers, 13 bits)\n",
    "  \n",
    "- straght (ST)\n",
    "    - highest value 1 number, 13 bits)\n",
    "\n",
    "- triple (3K)\n",
    "    - triple + kicker1 + kicker2 (1 + 2 highest numbers, 26 bits)\n",
    "    \n",
    "- two pair (2P)\n",
    "    - pair1 + pair2 + kicker (2 + 1 highest number, 26 bits)\n",
    "\n",
    "- pair (2K)\n",
    "    - pair + kicker1 + kicker2 + kicker3 (1 + 3 highest numbers, 13 bits)\n",
    "\n",
    "- high card (1K)\n",
    "    - highest five numbers (5 nums, 13 bits)"
   ]
  },
  {
   "cell_type": "code",
   "execution_count": 16,
   "id": "1ae382c2",
   "metadata": {
    "ExecuteTime": {
     "end_time": "2023-04-20T00:39:30.807761Z",
     "start_time": "2023-04-20T00:39:30.804625Z"
    }
   },
   "outputs": [],
   "source": [
    "# check for a straight flush\n",
    "# base_mask = (1 << STRAIGHT_FLUSH_LEN) - 1\n",
    "# _sf_masks = [base_mask << (r + s * NUM_RANKS) for r in range(NUM_RANKS - STRAIGHT_FLUSH_LEN + 1) for s in range(NUM_SUITS)]\n",
    "\n",
    "# use same base mask as _sf_masks\n",
    "wheel_mask = (1 << (NUM_RANKS - 1)) + (1 << (STRAIGHT_LEN - 1)) - 1\n",
    "base_mask = (1 << STRAIGHT_LEN) - 1\n",
    "_straight_masks = [wheel_mask] + [base_mask << r for r in range(NUM_RANKS - STRAIGHT_LEN + 1)]"
   ]
  },
  {
   "cell_type": "code",
   "execution_count": 17,
   "id": "3b913415",
   "metadata": {
    "ExecuteTime": {
     "end_time": "2023-04-20T00:39:30.817883Z",
     "start_time": "2023-04-20T00:39:30.810243Z"
    }
   },
   "outputs": [
    {
     "name": "stdout",
     "output_type": "stream",
     "text": [
      "`unit_tests__check_straight_flush` success!\n"
     ]
    }
   ],
   "source": [
    "def check_straight_flush(hand):\n",
    "    bits_by_suit = get_bits_by_suit(hand)\n",
    "    \n",
    "    rating = 0\n",
    "    \n",
    "    for mask in _straight_masks:\n",
    "        for ranks in bits_by_suit:\n",
    "            masked = ranks & mask\n",
    "            if masked.bit_count() == STRAIGHT_FLUSH_LEN:\n",
    "                rating = masked\n",
    "                \n",
    "    \n",
    "    if rating > 0:\n",
    "        if rating == wheel_mask:\n",
    "            rating = wheel_mask - get_highest_bit(wheel_mask)\n",
    "            \n",
    "        return STRAIGHT_FLUSH_RATING + rating\n",
    "    else:\n",
    "        return 0\n",
    "    \n",
    "    \n",
    "#     is_sf_mask = (1 << STRAIGHT_FLUSH_LEN) - 1\n",
    "\n",
    "#     rating = 0\n",
    "\n",
    "#     # since this goes from small to big, we can use `rating = val`\n",
    "#     for mask in _sf_masks:\n",
    "#         masked = mask & n\n",
    "        \n",
    "#         ind = (mask.bit_length() - 1) // NUM_RANKS * NUM_RANKS\n",
    "        \n",
    "#         if masked.bit_count() == STRAIGHT_FLUSH_LEN:\n",
    "#             rating = masked >> ind\n",
    "\n",
    "#     if rating > 0:\n",
    "#         return STRAIGHT_FLUSH_RATING + rating\n",
    "#     else:\n",
    "#         return 0\n",
    "    \n",
    "def unit_tests__check_straight_flush():\n",
    "    # wheel tests\n",
    "    assert check_straight_flush(0b1000000001111) == STRAIGHT_FLUSH_RATING + 0b0000000001111\n",
    "    assert check_straight_flush(0b1000000001111 << 13) == STRAIGHT_FLUSH_RATING + 0b0000000001111\n",
    "    assert check_straight_flush(0b1000000001111 << 26) == STRAIGHT_FLUSH_RATING + 0b0000000001111\n",
    "    assert check_straight_flush(0b1111) == 0\n",
    "    assert check_straight_flush(0b1100000000111) == 0\n",
    "    \n",
    "    assert check_straight_flush(0b11111) == STRAIGHT_FLUSH_RATING + 0b11111\n",
    "    assert check_straight_flush(0b11111 << 13) == STRAIGHT_FLUSH_RATING + 0b11111\n",
    "    assert check_straight_flush(0b11111 << 12) == 0\n",
    "    assert check_straight_flush(0b11111 << 9) == 0\n",
    "    assert check_straight_flush(0b11111 << 8) == STRAIGHT_FLUSH_RATING + (0b11111 << 8)\n",
    "    assert check_straight_flush(0b11111 << 39) == STRAIGHT_FLUSH_RATING + (0b11111)\n",
    "    assert check_straight_flush(0b11111 << 47) == STRAIGHT_FLUSH_RATING + (0b11111 << 8)\n",
    "    \n",
    "    assert check_straight_flush(0b1111111) == STRAIGHT_FLUSH_RATING + (0b11111 << 2)\n",
    "    assert check_straight_flush(0b111111 << 8) == STRAIGHT_FLUSH_RATING + (0b11111 << 8)\n",
    "    assert check_straight_flush(0b11111 << 12) == 0\n",
    "    assert check_straight_flush(0b111111 << 12) == STRAIGHT_FLUSH_RATING + (0b11111)\n",
    "    \n",
    "\n",
    "    \n",
    "run_unit_tests(unit_tests__check_straight_flush)"
   ]
  },
  {
   "cell_type": "code",
   "execution_count": 18,
   "id": "2a819860",
   "metadata": {
    "ExecuteTime": {
     "end_time": "2023-04-20T00:39:30.826316Z",
     "start_time": "2023-04-20T00:39:30.820169Z"
    }
   },
   "outputs": [
    {
     "name": "stdout",
     "output_type": "stream",
     "text": [
      "`unit_tests__check_four_kind` success!\n"
     ]
    }
   ],
   "source": [
    "def check_four_kind(bits):\n",
    "\n",
    "    fours = get_highest_4k(bits)\n",
    "\n",
    "    if fours > 0:\n",
    "        # find kicker\n",
    "        bits = remove_ranks(bits, fours)\n",
    "        kicker = get_highest_1k(bits)\n",
    "\n",
    "        return FOUR_KIND_RATING + (fours << NUM_RANKS) + kicker\n",
    "    else:\n",
    "        return 0\n",
    "    \n",
    "def unit_tests__check_four_kind():\n",
    "\n",
    "    base_bits = (1 << 0) + (1 << 13) + (1 << 26) + (1 << 39)\n",
    "\n",
    "    bits = base_bits + (base_bits << 10) + (1 << 3)\n",
    "    ans = FOUR_KIND_RATING + (1 << 10 << NUM_RANKS) + (1 << 3)\n",
    "    assert check_four_kind(bits) == ans\n",
    "    \n",
    "    bits = (base_bits - 1)\n",
    "    ans = 0\n",
    "    assert check_four_kind(bits) == ans\n",
    "\n",
    "    bits = (base_bits << 5) + (base_bits << 10) + (1 << 3)\n",
    "    ans = FOUR_KIND_RATING + (1 << 10 << NUM_RANKS) + (1 << 5)\n",
    "    assert check_four_kind(bits) == ans\n",
    "    \n",
    "    bits = (1 << NUM_CARDS) - 1\n",
    "    ans = FOUR_KIND_RATING + (1 << (NUM_RANKS - 1) << NUM_RANKS) + (1 << (NUM_RANKS - 2))\n",
    "    assert check_four_kind(bits) == ans\n",
    "    \n",
    "    bits = (1 << NUM_CARDS) - 1\n",
    "    ans = FOUR_KIND_RATING + (1 << (NUM_RANKS - 1) << NUM_RANKS) + (1 << (NUM_RANKS - 2))\n",
    "    assert check_four_kind(bits) == ans\n",
    "    \n",
    "run_unit_tests(unit_tests__check_four_kind)"
   ]
  },
  {
   "cell_type": "code",
   "execution_count": 19,
   "id": "26ad63a9",
   "metadata": {
    "ExecuteTime": {
     "end_time": "2023-04-20T00:39:30.834089Z",
     "start_time": "2023-04-20T00:39:30.828074Z"
    },
    "scrolled": false
   },
   "outputs": [
    {
     "name": "stdout",
     "output_type": "stream",
     "text": [
      "(7, (1,), (2,))\n",
      "(7, (2,), (1,))\n",
      "(0, (), ())\n",
      "`unit_tests__check_full_house` success!\n"
     ]
    }
   ],
   "source": [
    "def check_full_house(bits):\n",
    "    triple = get_highest_3k(bits)\n",
    "    if triple > 0:\n",
    "        bits = remove_ranks(bits, triple)\n",
    "        double = get_highest_2k(bits)\n",
    "        if double > 0:\n",
    "            return FULL_HOUSE_RATING + (triple << NUM_RANKS) + double\n",
    "    \n",
    "    return 0\n",
    "\n",
    "\n",
    "def unit_tests__check_full_house():\n",
    "\n",
    "    bits = cards_to_hand([(0, 1), (1, 1), (2, 1), (3, 1), (0, 2), (1, 2)])\n",
    "    ans = FULL_HOUSE_RATING + (1 << 1 << NUM_RANKS) + (1 << 2)\n",
    "    print(rating_bits_to_tuple(check_full_house(bits)))\n",
    "    assert check_full_house(bits) == ans\n",
    "\n",
    "    bits = cards_to_hand([(0, 1), (1, 1), (2, 1), (3, 1), (0, 2), (1, 2), (2, 2)])\n",
    "    ans = FULL_HOUSE_RATING + (1 << 2 << NUM_RANKS) + (1 << 1)\n",
    "    print(rating_bits_to_tuple(check_full_house(bits)))\n",
    "    assert check_full_house(bits) == ans\n",
    "\n",
    "    bits = cards_to_hand([(0, 1), (1, 1), (0, 2), (1, 2)])\n",
    "    ans = 0\n",
    "    print(rating_bits_to_tuple(check_full_house(bits)))\n",
    "    assert check_full_house(bits) == ans\n",
    "    \n",
    "    \n",
    "run_unit_tests(unit_tests__check_full_house)"
   ]
  },
  {
   "cell_type": "code",
   "execution_count": 20,
   "id": "124798bc",
   "metadata": {
    "ExecuteTime": {
     "end_time": "2023-04-20T00:39:30.845176Z",
     "start_time": "2023-04-20T00:39:30.836106Z"
    }
   },
   "outputs": [
    {
     "name": "stdout",
     "output_type": "stream",
     "text": [
      "`unit_tests__check_flush` success!\n"
     ]
    }
   ],
   "source": [
    "def check_flush(bits):\n",
    "    bits_by_suit = get_bits_by_suit(bits)\n",
    "    \n",
    "    rating = 0\n",
    "    for rbits in bits_by_suit:\n",
    "        masked = get_n_highest_bits(rbits, n=5)\n",
    "        if masked.bit_count() == FLUSH_LEN:\n",
    "            rating = max(rating, masked)\n",
    "\n",
    "    if rating > 0:\n",
    "        return FLUSH_RATING + rating\n",
    "    else:\n",
    "        return 0\n",
    "\n",
    "    \n",
    "def unit_tests__check_flush():\n",
    "\n",
    "    bits = cards_to_hand([(0, 1), (0, 2), (0, 3), (0, 4), (0, 5), (1, 6), (0, 7)])\n",
    "    ans = FLUSH_RATING + (0b10111100)\n",
    "    val = check_flush(bits)\n",
    "    assert val == ans\n",
    "\n",
    "    bits = cards_to_hand([(0, 1), (1, 1), (2, 1), (3, 1), (0, 2), (1, 2), (0, 5), (0, 7), (0, 9), (3, 11)])\n",
    "    ans = FLUSH_RATING + _bit_mask[1] + _bit_mask[2] + _bit_mask[5] + _bit_mask[7] + _bit_mask[9]\n",
    "    val = check_flush(bits)\n",
    "    assert val == ans\n",
    "\n",
    "    bits = cards_to_hand([(3, 0), (0, 1), (1, 2), (2, 3), (3, 4)])\n",
    "    ans = 0\n",
    "    val = check_flush(bits)\n",
    "    assert val == ans\n",
    "\n",
    "    bits = cards_to_hand([(3, 0), (0, 1), (1, 2), (2, 3), (3, 4), (3, 8), (0, 9), (1, 10), (2, 11), (3, 12)])\n",
    "    ans = 0\n",
    "    val = check_flush(bits)\n",
    "    assert val == ans\n",
    "\n",
    "    bits = cards_to_hand([(0, 1), (1, 1), (2, 1), (3, 1), (0, 2), (1, 2), (2, 2), (0, 10)])\n",
    "    ans = 0\n",
    "    val = check_flush(bits)\n",
    "    assert val == ans\n",
    "\n",
    "    bits = cards_to_hand([(0, 1), (1, 1), (0, 2), (1, 2)])\n",
    "    ans = 0\n",
    "    val = check_flush(bits)\n",
    "    assert val == ans\n",
    "    \n",
    "\n",
    "run_unit_tests(unit_tests__check_flush)"
   ]
  },
  {
   "cell_type": "code",
   "execution_count": 21,
   "id": "cb64e1a1",
   "metadata": {
    "ExecuteTime": {
     "end_time": "2023-04-20T00:39:30.856905Z",
     "start_time": "2023-04-20T00:39:30.847202Z"
    }
   },
   "outputs": [
    {
     "name": "stdout",
     "output_type": "stream",
     "text": [
      "`unit_tests__check_straight` success!\n"
     ]
    }
   ],
   "source": [
    "def check_straight(bits):\n",
    "    rbits = get_1k_ranks(bits)\n",
    "    \n",
    "    rating = 0\n",
    "    \n",
    "    # since this goes from small to big, we can use `rating = val`\n",
    "    for mask in _straight_masks:\n",
    "        masked = rbits & mask\n",
    "        if masked.bit_count() == STRAIGHT_LEN:\n",
    "            rating = masked\n",
    "\n",
    "    if rating > 0:\n",
    "        return STRAIGHT_RATING + rating\n",
    "    else:\n",
    "        return 0\n",
    "\n",
    "    \n",
    "def unit_tests__check_straight():\n",
    "\n",
    "    bits = cards_to_hand([(0, 1), (1, 2), (2, 3), (3, 4), (0, 5), (1, 6), (0, 7)])\n",
    "    ans = STRAIGHT_RATING + (0b11111 << 3)\n",
    "    val = check_straight(bits)\n",
    "    assert val == ans\n",
    "\n",
    "    bits = cards_to_hand([(3, 0), (0, 1), (1, 2), (2, 3), (3, 4)])\n",
    "    ans = STRAIGHT_RATING + (0b11111 << 0)\n",
    "    val = check_straight(bits)\n",
    "    assert val == ans\n",
    "\n",
    "    bits = cards_to_hand([(3, 0), (0, 1), (1, 2), (2, 3), (3, 4), (3, 8), (0, 9), (1, 10), (2, 11), (3, 12)])\n",
    "    ans = STRAIGHT_RATING + (0b11111 << 8)\n",
    "    val = check_straight(bits)\n",
    "    assert val == ans\n",
    "\n",
    "    \n",
    "\n",
    "    bits = cards_to_hand([(0, 1), (1, 1), (2, 1), (3, 1), (0, 2), (1, 2), (0, 5), (0, 7), (0, 9), (3, 11)])\n",
    "    ans = 0\n",
    "    val = check_straight(bits)\n",
    "    assert val == ans\n",
    "\n",
    "    bits = cards_to_hand([(0, 1), (1, 1), (2, 1), (3, 1), (0, 2), (1, 2), (2, 2), (0, 10)])\n",
    "    ans = 0\n",
    "    val = check_straight(bits)\n",
    "    assert val == ans\n",
    "\n",
    "    bits = cards_to_hand([(0, 1), (1, 1), (0, 2), (1, 2)])\n",
    "    ans = 0\n",
    "    val = check_straight(bits)\n",
    "    assert val == ans\n",
    "    \n",
    "\n",
    "run_unit_tests(unit_tests__check_straight)"
   ]
  },
  {
   "cell_type": "code",
   "execution_count": 22,
   "id": "073f7ec3",
   "metadata": {
    "ExecuteTime": {
     "end_time": "2023-04-20T00:39:30.866691Z",
     "start_time": "2023-04-20T00:39:30.859481Z"
    }
   },
   "outputs": [
    {
     "name": "stdout",
     "output_type": "stream",
     "text": [
      "`unit_tests__check_three_kind` success!\n"
     ]
    }
   ],
   "source": [
    "def check_three_kind(bits):\n",
    "    triple = get_highest_3k(bits)\n",
    "    if triple > 0:\n",
    "        bits = remove_ranks(bits, triple)\n",
    "        kickers = get_n_highest_1k(bits, n=2)\n",
    "        return THREE_KIND_RATING + (triple << NUM_RANKS) + kickers\n",
    "    \n",
    "    return 0\n",
    "\n",
    "\n",
    "def unit_tests__check_three_kind():\n",
    "\n",
    "    bits = cards_to_hand([(0, 1), (1, 1), (2, 1), (3, 1), (0, 2), (1, 2), (0, 5)])\n",
    "    ans = THREE_KIND_RATING + (1 << 1 << NUM_RANKS) + (1 << 2) + (1 << 5)\n",
    "#     print(rating_bits_to_tuple(check_three_kind(bits)))\n",
    "    assert check_three_kind(bits) == ans\n",
    "\n",
    "    bits = cards_to_hand([(0, 1), (1, 1), (2, 1), (3, 1), (0, 2), (1, 2), (2, 2), (0, 10)])\n",
    "    ans = THREE_KIND_RATING + (1 << 2 << NUM_RANKS) + (1 << 1) + (1 << 10)\n",
    "#     print(rating_bits_to_tuple(check_three_kind(bits)))\n",
    "    assert check_three_kind(bits) == ans\n",
    "\n",
    "    bits = cards_to_hand([(0, 1), (1, 1), (0, 2), (1, 2)])\n",
    "    ans = 0\n",
    "#     print(rating_bits_to_tuple(check_three_kind(bits)))\n",
    "    assert check_three_kind(bits) == ans\n",
    "    \n",
    "\n",
    "run_unit_tests(unit_tests__check_three_kind)"
   ]
  },
  {
   "cell_type": "code",
   "execution_count": 23,
   "id": "579f364b",
   "metadata": {
    "ExecuteTime": {
     "end_time": "2023-04-20T00:39:30.878220Z",
     "start_time": "2023-04-20T00:39:30.869319Z"
    }
   },
   "outputs": [
    {
     "name": "stdout",
     "output_type": "stream",
     "text": [
      "(3, (2, 1), (5,))\n",
      "(3, (2, 1), (9,))\n",
      "(3, (2, 1), (10,))\n",
      "(3, (2, 1), ())\n",
      "(0, (), ())\n",
      "`unit_tests__check_two_pair` success!\n"
     ]
    }
   ],
   "source": [
    "def check_two_pair(bits):\n",
    "    doubles = get_n_highest_2k(bits, n=2)\n",
    "    if doubles.bit_count() >= 2:\n",
    "        bits = remove_ranks(bits, doubles)\n",
    "        kickers = get_highest_1k(bits)\n",
    "        return TWO_PAIR_RATING + (doubles << NUM_RANKS) + kickers\n",
    "    \n",
    "    return 0\n",
    "\n",
    "\n",
    "def unit_tests__check_two_pair():\n",
    "\n",
    "    bits = cards_to_hand([(0, 1), (1, 1), (2, 1), (3, 1), (0, 2), (1, 2), (0, 5)])\n",
    "    ans = TWO_PAIR_RATING + ((_bit_mask[2] + _bit_mask[1]) << NUM_RANKS) + _bit_mask[5]\n",
    "    print(rating_bits_to_tuple(check_two_pair(bits)))\n",
    "    assert check_two_pair(bits) == ans\n",
    "\n",
    "    bits = cards_to_hand([(0, 1), (1, 1), (2, 1), (3, 1), (0, 2), (1, 2), (0, 5), (0, 7), (0, 9)])\n",
    "    ans = TWO_PAIR_RATING + ((_bit_mask[2] + _bit_mask[1]) << NUM_RANKS) + _bit_mask[9]\n",
    "    print(rating_bits_to_tuple(check_two_pair(bits)))\n",
    "    assert check_two_pair(bits) == ans\n",
    "\n",
    "    bits = cards_to_hand([(0, 1), (1, 1), (2, 1), (3, 1), (0, 2), (1, 2), (2, 2), (0, 10)])\n",
    "    ans = TWO_PAIR_RATING + ((_bit_mask[2] + _bit_mask[1]) << NUM_RANKS) + _bit_mask[10]\n",
    "    print(rating_bits_to_tuple(check_two_pair(bits)))\n",
    "    assert check_two_pair(bits) == ans\n",
    "\n",
    "    bits = cards_to_hand([(0, 1), (1, 1), (0, 2), (1, 2)])\n",
    "    ans = TWO_PAIR_RATING + ((_bit_mask[2] + _bit_mask[1]) << NUM_RANKS)\n",
    "    print(rating_bits_to_tuple(check_two_pair(bits)))\n",
    "    assert check_two_pair(bits) == ans\n",
    "\n",
    "    bits = cards_to_hand([(0, 1), (1, 2)])\n",
    "    ans = 0\n",
    "    print(rating_bits_to_tuple(check_two_pair(bits)))\n",
    "    assert check_two_pair(bits) == ans\n",
    "    \n",
    "\n",
    "run_unit_tests(unit_tests__check_two_pair)"
   ]
  },
  {
   "cell_type": "code",
   "execution_count": 24,
   "id": "14d6a72f",
   "metadata": {
    "ExecuteTime": {
     "end_time": "2023-04-20T00:39:30.890141Z",
     "start_time": "2023-04-20T00:39:30.880248Z"
    }
   },
   "outputs": [
    {
     "name": "stdout",
     "output_type": "stream",
     "text": [
      "138563026948\n",
      "(2, (11,), (12, 4, 2))\n",
      "`unit_tests__check_two_kind` success!\n"
     ]
    }
   ],
   "source": [
    "def check_two_kind(bits):\n",
    "    double = get_highest_2k(bits)\n",
    "    if double > 0:\n",
    "        bits = remove_ranks(bits, double)\n",
    "        kickers = get_n_highest_1k(bits, n=3)\n",
    "        return TWO_KIND_RATING + (double << NUM_RANKS) + kickers\n",
    "    \n",
    "    return 0\n",
    "\n",
    "\n",
    "def unit_tests__check_two_kind():\n",
    "    \n",
    "    # 138563026948\n",
    "    \n",
    "    bits = cards_to_hand([(0, 2), (1, 11), (1, 12), (2, 4), (2, 11)])\n",
    "    ans = TWO_KIND_RATING + (1 << 11 << NUM_RANKS) + (1 << 2) + (1 << 4) + (1 << 12)\n",
    "    print(bits)\n",
    "    print(rating_bits_to_tuple(check_two_kind(bits)))\n",
    "    assert check_two_kind(bits) == ans\n",
    "    \n",
    "    bits = cards_to_hand([(0, 1), (1, 1), (2, 1), (3, 1), (0, 2), (1, 2), (0, 5)])\n",
    "    ans = TWO_KIND_RATING + (1 << 2 << NUM_RANKS) + (1 << 1) + (1 << 5)\n",
    "#     print(rating_bits_to_tuple(check_two_kind(bits)))\n",
    "    assert check_two_kind(bits) == ans\n",
    "\n",
    "    bits = cards_to_hand([(0, 1), (1, 1), (2, 1), (3, 1), (0, 2), (1, 2), (0, 5), (0, 7), (0, 9)])\n",
    "    ans = TWO_KIND_RATING + (1 << 2 << NUM_RANKS) + (1 << 9) + (1 << 7) + (1 << 5)\n",
    "#     print(rating_bits_to_tuple(check_two_kind(bits)))\n",
    "    assert check_two_kind(bits) == ans\n",
    "\n",
    "    bits = cards_to_hand([(0, 1), (1, 1), (2, 1), (3, 1), (0, 2), (1, 2), (2, 2), (0, 10)])\n",
    "    ans = TWO_KIND_RATING + (1 << 2 << NUM_RANKS) + (1 << 1) + (1 << 10)\n",
    "#     print(rating_bits_to_tuple(check_two_kind(bits)))\n",
    "    assert check_two_kind(bits) == ans\n",
    "\n",
    "    bits = cards_to_hand([(0, 1), (1, 1), (0, 2), (1, 2)])\n",
    "    ans = TWO_KIND_RATING + (1 << 2 << NUM_RANKS) + (1 << 1)\n",
    "#     print(rating_bits_to_tuple(check_two_kind(bits)))\n",
    "    assert check_two_kind(bits) == ans\n",
    "\n",
    "    bits = cards_to_hand([(0, 1), (1, 2)])\n",
    "    ans = 0\n",
    "#     print(rating_bits_to_tuple(check_two_kind(bits)))\n",
    "    assert check_two_kind(bits) == ans\n",
    "    \n",
    "\n",
    "run_unit_tests(unit_tests__check_two_kind)"
   ]
  },
  {
   "cell_type": "code",
   "execution_count": 25,
   "id": "a63c96d9",
   "metadata": {
    "ExecuteTime": {
     "end_time": "2023-04-20T00:39:30.904286Z",
     "start_time": "2023-04-20T00:39:30.893803Z"
    }
   },
   "outputs": [
    {
     "name": "stdout",
     "output_type": "stream",
     "text": [
      "`unit_tests__check_one_kind` success!\n"
     ]
    }
   ],
   "source": [
    "def check_one_kind(bits):\n",
    "    kickers = get_n_highest_1k(bits, n=5)\n",
    "    return ONE_KIND_RATING + kickers\n",
    "\n",
    "def unit_tests__check_one_kind():\n",
    "\n",
    "    bits = cards_to_hand([(0, 1), (1, 1), (2, 1), (3, 1), (0, 2), (1, 2), (0, 5)])\n",
    "    ans = ONE_KIND_RATING + _bit_mask[1] + _bit_mask[2] + _bit_mask[5]\n",
    "    val = check_one_kind(bits)\n",
    "    assert val == ans\n",
    "\n",
    "    bits = cards_to_hand([(0, 1), (1, 1), (2, 1), (3, 1), (0, 2), (1, 2), (0, 5), (0, 7), (0, 9)])\n",
    "    ans = ONE_KIND_RATING + _bit_mask[1] + _bit_mask[2] + _bit_mask[5] + _bit_mask[7] + _bit_mask[9]\n",
    "    val = check_one_kind(bits)\n",
    "    assert val == ans\n",
    "\n",
    "    bits = cards_to_hand([(0, 1), (1, 1), (2, 1), (3, 1), (0, 2), (1, 2), (0, 5), (0, 7), (0, 9), (3, 11)])\n",
    "    ans = ONE_KIND_RATING + _bit_mask[2] + _bit_mask[5] + _bit_mask[7] + _bit_mask[9] + _bit_mask[11]\n",
    "    val = check_one_kind(bits)\n",
    "    assert val == ans\n",
    "\n",
    "    bits = cards_to_hand([(0, 1), (1, 1), (2, 1), (3, 1), (0, 2), (1, 2), (2, 2), (0, 10)])\n",
    "    ans = ONE_KIND_RATING + _bit_mask[1] + _bit_mask[2] + _bit_mask[10]\n",
    "    val = check_one_kind(bits)\n",
    "    assert val == ans\n",
    "\n",
    "    bits = cards_to_hand([(0, 1), (1, 1), (0, 2), (1, 2)])\n",
    "    ans = ONE_KIND_RATING + _bit_mask[1] + _bit_mask[2]\n",
    "    val = check_one_kind(bits)\n",
    "    assert val == ans\n",
    "\n",
    "    bits = cards_to_hand([(0, 1), (1, 2)])\n",
    "    ans = ONE_KIND_RATING + _bit_mask[1] + _bit_mask[2]\n",
    "    val = check_one_kind(bits)\n",
    "    assert val == ans\n",
    "\n",
    "    bits = cards_to_hand([])\n",
    "    ans = ONE_KIND_RATING\n",
    "    val = check_one_kind(bits)\n",
    "    assert val == ans\n",
    "    \n",
    "\n",
    "run_unit_tests(unit_tests__check_one_kind)"
   ]
  },
  {
   "cell_type": "code",
   "execution_count": null,
   "id": "50955913",
   "metadata": {},
   "outputs": [],
   "source": []
  },
  {
   "cell_type": "code",
   "execution_count": 166,
   "id": "2ea2fb19",
   "metadata": {
    "ExecuteTime": {
     "end_time": "2023-04-20T01:07:53.271731Z",
     "start_time": "2023-04-20T01:07:53.266517Z"
    }
   },
   "outputs": [],
   "source": [
    "def get_rating(hand):\n",
    "#     vals = [\n",
    "#         check_straight_flush(hand),\n",
    "#         check_four_kind(hand),\n",
    "#         check_full_house(hand),\n",
    "#         check_flush(hand),\n",
    "#         check_straight(hand),\n",
    "#         check_three_kind(hand),\n",
    "#         check_two_pair(hand),\n",
    "#         check_two_kind(hand),\n",
    "#         check_one_kind(hand),\n",
    "#     ]\n",
    "    val = check_straight_flush(hand)\n",
    "    if val > 0:\n",
    "        return val\n",
    "    val = check_four_kind(hand)\n",
    "    if val > 0:\n",
    "        return val\n",
    "    val = check_full_house(hand)\n",
    "    if val > 0:\n",
    "        return val\n",
    "    val = check_flush(hand)\n",
    "    if val > 0:\n",
    "        return val\n",
    "    val = check_straight(hand)\n",
    "    if val > 0:\n",
    "        return val\n",
    "    val = check_three_kind(hand)\n",
    "    if val > 0:\n",
    "        return val\n",
    "    val = check_two_pair(hand)\n",
    "    if val > 0:\n",
    "        return val\n",
    "    val = check_two_kind(hand)\n",
    "    if val > 0:\n",
    "        return val\n",
    "    val = check_one_kind(hand)\n",
    "    return val\n",
    "\n",
    "def get_hand_rtype(hand):\n",
    "    rating = get_rating(hand)\n",
    "    return rating_get_type(rating)\n",
    "    "
   ]
  },
  {
   "cell_type": "code",
   "execution_count": 200,
   "id": "a54a2a0c",
   "metadata": {
    "ExecuteTime": {
     "end_time": "2023-04-20T01:28:02.714595Z",
     "start_time": "2023-04-20T01:28:02.710546Z"
    }
   },
   "outputs": [
    {
     "data": {
      "text/plain": [
       "[(0, 0), (0, 1), (0, 2), (0, 3), (0, 5), (0, 11), (1, 1), (1, 2), (1, 4)]"
      ]
     },
     "execution_count": 200,
     "metadata": {},
     "output_type": "execute_result"
    }
   ],
   "source": [
    "hand_to_cards(0b101010100000101111 + (1<<13))"
   ]
  },
  {
   "cell_type": "code",
   "execution_count": 198,
   "id": "db837501",
   "metadata": {
    "ExecuteTime": {
     "end_time": "2023-04-20T01:26:48.909000Z",
     "start_time": "2023-04-20T01:26:48.905074Z"
    }
   },
   "outputs": [
    {
     "data": {
      "text/plain": [
       "('flush', (), (5, 3, 2, 1, 0))"
      ]
     },
     "execution_count": 198,
     "metadata": {},
     "output_type": "execute_result"
    }
   ],
   "source": [
    "rating = get_rating(0b101111)\n",
    "rating_prettify(rating)"
   ]
  },
  {
   "cell_type": "markdown",
   "id": "1f5e819a",
   "metadata": {},
   "source": [
    "## testing"
   ]
  },
  {
   "cell_type": "code",
   "execution_count": 201,
   "id": "452128a4",
   "metadata": {
    "ExecuteTime": {
     "end_time": "2023-04-20T01:28:57.083277Z",
     "start_time": "2023-04-20T01:28:57.080840Z"
    }
   },
   "outputs": [],
   "source": [
    "# https://www.kaggle.com/datasets/rasvob/uci-poker-hand-dataset\n",
    "_test_file = \"../data/poker-hand-testing.csv\""
   ]
  },
  {
   "cell_type": "code",
   "execution_count": 207,
   "id": "c2f65b03",
   "metadata": {
    "ExecuteTime": {
     "end_time": "2023-04-20T01:29:53.550629Z",
     "start_time": "2023-04-20T01:29:52.417198Z"
    }
   },
   "outputs": [],
   "source": [
    "# read df and rename columns\n",
    "df = pd.read_csv(_test_file)\n",
    "df.columns = [f\"{c}{i}\" for i in range(5) for c in \"sr\"] + [\"rtype\"]\n",
    "\n",
    "# make rtypes 1-indexed\n",
    "# treat royal flush and straight flush as the same\n",
    "df[\"rtype\"] += 1\n",
    "df[\"rtype\"] = np.where(df[\"rtype\"] == (STRAIGHT_FLUSH_RATING >> RATING_TYPE_OFFSET) + 1, df[\"rtype\"] - 1, df[\"rtype\"])\n",
    "\n",
    "# convert rank 1 -> rank 14\n",
    "# make all ranks/suits 0 indexed\n",
    "\n",
    "\n",
    "# create hands\n",
    "df[\"hand\"] = 0\n",
    "\n",
    "for i in range(5):\n",
    "    scol = f\"s{i}\"\n",
    "    rcol = f\"r{i}\"\n",
    "    ccol = f\"c{i}\"\n",
    "    \n",
    "    df[rcol] = np.where(df[rcol] == 1, 14, df[rcol])\n",
    "    df[rcol] -= 2\n",
    "    df[scol] -= 1\n",
    "    \n",
    "    df[ccol] = df[scol] * NUM_RANKS + df[rcol]\n",
    "    \n",
    "    df[\"hand\"] += 2 ** (df[ccol])\n",
    "                           \n",
    "# df[\"bin_hand\"] = df[\"hand\"].apply(bin)\n",
    "\n",
    "# df = df[[\"hand\", \"rtype\"]].copy()\n",
    "df = df.drop_duplicates(subset=\"hand\").reset_index(drop=True)\n",
    "\n",
    "all_df = df\n",
    "\n"
   ]
  },
  {
   "cell_type": "code",
   "execution_count": 205,
   "id": "f75b2c55",
   "metadata": {
    "ExecuteTime": {
     "end_time": "2023-04-20T01:29:43.338619Z",
     "start_time": "2023-04-20T01:29:43.336334Z"
    }
   },
   "outputs": [],
   "source": [
    "df = all_df\n",
    "# df = all_df.iloc[:200000]\n"
   ]
  },
  {
   "cell_type": "code",
   "execution_count": 170,
   "id": "77aed682",
   "metadata": {
    "ExecuteTime": {
     "end_time": "2023-04-20T01:08:18.771587Z",
     "start_time": "2023-04-20T01:08:00.515814Z"
    }
   },
   "outputs": [
    {
     "data": {
      "text/html": [
       "<div>\n",
       "<style scoped>\n",
       "    .dataframe tbody tr th:only-of-type {\n",
       "        vertical-align: middle;\n",
       "    }\n",
       "\n",
       "    .dataframe tbody tr th {\n",
       "        vertical-align: top;\n",
       "    }\n",
       "\n",
       "    .dataframe thead th {\n",
       "        text-align: right;\n",
       "    }\n",
       "</style>\n",
       "<table border=\"1\" class=\"dataframe\">\n",
       "  <thead>\n",
       "    <tr style=\"text-align: right;\">\n",
       "      <th></th>\n",
       "      <th>s0</th>\n",
       "      <th>r0</th>\n",
       "      <th>s1</th>\n",
       "      <th>r1</th>\n",
       "      <th>s2</th>\n",
       "      <th>r2</th>\n",
       "      <th>s3</th>\n",
       "      <th>r3</th>\n",
       "      <th>s4</th>\n",
       "      <th>r4</th>\n",
       "      <th>rtype</th>\n",
       "      <th>hand</th>\n",
       "      <th>c0</th>\n",
       "      <th>c1</th>\n",
       "      <th>c2</th>\n",
       "      <th>c3</th>\n",
       "      <th>c4</th>\n",
       "      <th>pred</th>\n",
       "    </tr>\n",
       "  </thead>\n",
       "  <tbody>\n",
       "  </tbody>\n",
       "</table>\n",
       "</div>"
      ],
      "text/plain": [
       "Empty DataFrame\n",
       "Columns: [s0, r0, s1, r1, s2, r2, s3, r3, s4, r4, rtype, hand, c0, c1, c2, c3, c4, pred]\n",
       "Index: []"
      ]
     },
     "execution_count": 170,
     "metadata": {},
     "output_type": "execute_result"
    }
   ],
   "source": [
    "# validate our get_hand_rtype\n",
    "df[\"pred\"] = df[\"hand\"].apply(get_hand_rtype)\n",
    "\n",
    "df[df[\"pred\"] != df[\"rtype\"]]"
   ]
  },
  {
   "cell_type": "code",
   "execution_count": 206,
   "id": "58d45b75",
   "metadata": {
    "ExecuteTime": {
     "end_time": "2023-04-20T01:29:44.412279Z",
     "start_time": "2023-04-20T01:29:44.400771Z"
    }
   },
   "outputs": [
    {
     "data": {
      "text/html": [
       "<div>\n",
       "<style scoped>\n",
       "    .dataframe tbody tr th:only-of-type {\n",
       "        vertical-align: middle;\n",
       "    }\n",
       "\n",
       "    .dataframe tbody tr th {\n",
       "        vertical-align: top;\n",
       "    }\n",
       "\n",
       "    .dataframe thead th {\n",
       "        text-align: right;\n",
       "    }\n",
       "</style>\n",
       "<table border=\"1\" class=\"dataframe\">\n",
       "  <thead>\n",
       "    <tr style=\"text-align: right;\">\n",
       "      <th></th>\n",
       "      <th>s0</th>\n",
       "      <th>r0</th>\n",
       "      <th>s1</th>\n",
       "      <th>r1</th>\n",
       "      <th>s2</th>\n",
       "      <th>r2</th>\n",
       "      <th>s3</th>\n",
       "      <th>r3</th>\n",
       "      <th>s4</th>\n",
       "      <th>r4</th>\n",
       "      <th>rtype</th>\n",
       "      <th>hand</th>\n",
       "      <th>c0</th>\n",
       "      <th>c1</th>\n",
       "      <th>c2</th>\n",
       "      <th>c3</th>\n",
       "      <th>c4</th>\n",
       "      <th>bin_hand</th>\n",
       "    </tr>\n",
       "  </thead>\n",
       "  <tbody>\n",
       "    <tr>\n",
       "      <th>0</th>\n",
       "      <td>0</td>\n",
       "      <td>12</td>\n",
       "      <td>0</td>\n",
       "      <td>11</td>\n",
       "      <td>1</td>\n",
       "      <td>2</td>\n",
       "      <td>1</td>\n",
       "      <td>1</td>\n",
       "      <td>0</td>\n",
       "      <td>10</td>\n",
       "      <td>1</td>\n",
       "      <td>56320</td>\n",
       "      <td>12</td>\n",
       "      <td>11</td>\n",
       "      <td>15</td>\n",
       "      <td>14</td>\n",
       "      <td>10</td>\n",
       "      <td>0b1101110000000000</td>\n",
       "    </tr>\n",
       "    <tr>\n",
       "      <th>1</th>\n",
       "      <td>2</td>\n",
       "      <td>10</td>\n",
       "      <td>2</td>\n",
       "      <td>0</td>\n",
       "      <td>2</td>\n",
       "      <td>9</td>\n",
       "      <td>3</td>\n",
       "      <td>3</td>\n",
       "      <td>1</td>\n",
       "      <td>3</td>\n",
       "      <td>2</td>\n",
       "      <td>4501192900608</td>\n",
       "      <td>36</td>\n",
       "      <td>26</td>\n",
       "      <td>35</td>\n",
       "      <td>42</td>\n",
       "      <td>16</td>\n",
       "      <td>0b1000001100000000100000000010000000000000000</td>\n",
       "    </tr>\n",
       "    <tr>\n",
       "      <th>2</th>\n",
       "      <td>0</td>\n",
       "      <td>7</td>\n",
       "      <td>3</td>\n",
       "      <td>4</td>\n",
       "      <td>0</td>\n",
       "      <td>2</td>\n",
       "      <td>2</td>\n",
       "      <td>0</td>\n",
       "      <td>2</td>\n",
       "      <td>7</td>\n",
       "      <td>2</td>\n",
       "      <td>8804750065796</td>\n",
       "      <td>7</td>\n",
       "      <td>43</td>\n",
       "      <td>2</td>\n",
       "      <td>26</td>\n",
       "      <td>33</td>\n",
       "      <td>0b10000000001000000100000000000000000010000100</td>\n",
       "    </tr>\n",
       "    <tr>\n",
       "      <th>3</th>\n",
       "      <td>0</td>\n",
       "      <td>2</td>\n",
       "      <td>2</td>\n",
       "      <td>11</td>\n",
       "      <td>1</td>\n",
       "      <td>11</td>\n",
       "      <td>1</td>\n",
       "      <td>12</td>\n",
       "      <td>2</td>\n",
       "      <td>4</td>\n",
       "      <td>2</td>\n",
       "      <td>138563026948</td>\n",
       "      <td>2</td>\n",
       "      <td>37</td>\n",
       "      <td>24</td>\n",
       "      <td>25</td>\n",
       "      <td>30</td>\n",
       "      <td>0b10000001000011000000000000000000000100</td>\n",
       "    </tr>\n",
       "    <tr>\n",
       "      <th>4</th>\n",
       "      <td>2</td>\n",
       "      <td>8</td>\n",
       "      <td>1</td>\n",
       "      <td>5</td>\n",
       "      <td>0</td>\n",
       "      <td>0</td>\n",
       "      <td>1</td>\n",
       "      <td>9</td>\n",
       "      <td>3</td>\n",
       "      <td>7</td>\n",
       "      <td>1</td>\n",
       "      <td>70385928503297</td>\n",
       "      <td>34</td>\n",
       "      <td>18</td>\n",
       "      <td>0</td>\n",
       "      <td>22</td>\n",
       "      <td>46</td>\n",
       "      <td>0b10000000000010000000000010001000000000000000001</td>\n",
       "    </tr>\n",
       "    <tr>\n",
       "      <th>...</th>\n",
       "      <td>...</td>\n",
       "      <td>...</td>\n",
       "      <td>...</td>\n",
       "      <td>...</td>\n",
       "      <td>...</td>\n",
       "      <td>...</td>\n",
       "      <td>...</td>\n",
       "      <td>...</td>\n",
       "      <td>...</td>\n",
       "      <td>...</td>\n",
       "      <td>...</td>\n",
       "      <td>...</td>\n",
       "      <td>...</td>\n",
       "      <td>...</td>\n",
       "      <td>...</td>\n",
       "      <td>...</td>\n",
       "      <td>...</td>\n",
       "      <td>...</td>\n",
       "    </tr>\n",
       "    <tr>\n",
       "      <th>829196</th>\n",
       "      <td>0</td>\n",
       "      <td>10</td>\n",
       "      <td>2</td>\n",
       "      <td>7</td>\n",
       "      <td>2</td>\n",
       "      <td>4</td>\n",
       "      <td>0</td>\n",
       "      <td>1</td>\n",
       "      <td>0</td>\n",
       "      <td>7</td>\n",
       "      <td>2</td>\n",
       "      <td>9663677570</td>\n",
       "      <td>10</td>\n",
       "      <td>33</td>\n",
       "      <td>30</td>\n",
       "      <td>1</td>\n",
       "      <td>7</td>\n",
       "      <td>0b1001000000000000000000010010000010</td>\n",
       "    </tr>\n",
       "    <tr>\n",
       "      <th>829197</th>\n",
       "      <td>2</td>\n",
       "      <td>5</td>\n",
       "      <td>0</td>\n",
       "      <td>4</td>\n",
       "      <td>3</td>\n",
       "      <td>10</td>\n",
       "      <td>1</td>\n",
       "      <td>12</td>\n",
       "      <td>0</td>\n",
       "      <td>2</td>\n",
       "      <td>1</td>\n",
       "      <td>562952134459412</td>\n",
       "      <td>31</td>\n",
       "      <td>4</td>\n",
       "      <td>49</td>\n",
       "      <td>25</td>\n",
       "      <td>2</td>\n",
       "      <td>0b10000000000000000010000010000000000000000000...</td>\n",
       "    </tr>\n",
       "    <tr>\n",
       "      <th>829198</th>\n",
       "      <td>2</td>\n",
       "      <td>12</td>\n",
       "      <td>0</td>\n",
       "      <td>10</td>\n",
       "      <td>1</td>\n",
       "      <td>7</td>\n",
       "      <td>3</td>\n",
       "      <td>7</td>\n",
       "      <td>1</td>\n",
       "      <td>4</td>\n",
       "      <td>2</td>\n",
       "      <td>70643623265280</td>\n",
       "      <td>38</td>\n",
       "      <td>10</td>\n",
       "      <td>20</td>\n",
       "      <td>46</td>\n",
       "      <td>17</td>\n",
       "      <td>0b10000000100000000000000000100100000010000000000</td>\n",
       "    </tr>\n",
       "    <tr>\n",
       "      <th>829199</th>\n",
       "      <td>2</td>\n",
       "      <td>1</td>\n",
       "      <td>3</td>\n",
       "      <td>3</td>\n",
       "      <td>1</td>\n",
       "      <td>5</td>\n",
       "      <td>0</td>\n",
       "      <td>2</td>\n",
       "      <td>3</td>\n",
       "      <td>1</td>\n",
       "      <td>2</td>\n",
       "      <td>5497692618756</td>\n",
       "      <td>27</td>\n",
       "      <td>42</td>\n",
       "      <td>18</td>\n",
       "      <td>2</td>\n",
       "      <td>40</td>\n",
       "      <td>0b1010000000000001000000001000000000000000100</td>\n",
       "    </tr>\n",
       "    <tr>\n",
       "      <th>829200</th>\n",
       "      <td>1</td>\n",
       "      <td>3</td>\n",
       "      <td>1</td>\n",
       "      <td>7</td>\n",
       "      <td>3</td>\n",
       "      <td>7</td>\n",
       "      <td>1</td>\n",
       "      <td>1</td>\n",
       "      <td>2</td>\n",
       "      <td>1</td>\n",
       "      <td>3</td>\n",
       "      <td>70368879525888</td>\n",
       "      <td>16</td>\n",
       "      <td>20</td>\n",
       "      <td>46</td>\n",
       "      <td>14</td>\n",
       "      <td>27</td>\n",
       "      <td>0b10000000000000000001000000100010100000000000000</td>\n",
       "    </tr>\n",
       "  </tbody>\n",
       "</table>\n",
       "<p>829201 rows × 18 columns</p>\n",
       "</div>"
      ],
      "text/plain": [
       "        s0  r0  s1  r1  s2  r2  s3  r3  s4  r4  rtype             hand  c0  \\\n",
       "0        0  12   0  11   1   2   1   1   0  10      1            56320  12   \n",
       "1        2  10   2   0   2   9   3   3   1   3      2    4501192900608  36   \n",
       "2        0   7   3   4   0   2   2   0   2   7      2    8804750065796   7   \n",
       "3        0   2   2  11   1  11   1  12   2   4      2     138563026948   2   \n",
       "4        2   8   1   5   0   0   1   9   3   7      1   70385928503297  34   \n",
       "...     ..  ..  ..  ..  ..  ..  ..  ..  ..  ..    ...              ...  ..   \n",
       "829196   0  10   2   7   2   4   0   1   0   7      2       9663677570  10   \n",
       "829197   2   5   0   4   3  10   1  12   0   2      1  562952134459412  31   \n",
       "829198   2  12   0  10   1   7   3   7   1   4      2   70643623265280  38   \n",
       "829199   2   1   3   3   1   5   0   2   3   1      2    5497692618756  27   \n",
       "829200   1   3   1   7   3   7   1   1   2   1      3   70368879525888  16   \n",
       "\n",
       "        c1  c2  c3  c4                                           bin_hand  \n",
       "0       11  15  14  10                                 0b1101110000000000  \n",
       "1       26  35  42  16      0b1000001100000000100000000010000000000000000  \n",
       "2       43   2  26  33     0b10000000001000000100000000000000000010000100  \n",
       "3       37  24  25  30           0b10000001000011000000000000000000000100  \n",
       "4       18   0  22  46  0b10000000000010000000000010001000000000000000001  \n",
       "...     ..  ..  ..  ..                                                ...  \n",
       "829196  33  30   1   7               0b1001000000000000000000010010000010  \n",
       "829197   4  49  25   2  0b10000000000000000010000010000000000000000000...  \n",
       "829198  10  20  46  17  0b10000000100000000000000000100100000010000000000  \n",
       "829199  42  18   2  40      0b1010000000000001000000001000000000000000100  \n",
       "829200  20  46  14  27  0b10000000000000000001000000100010100000000000000  \n",
       "\n",
       "[829201 rows x 18 columns]"
      ]
     },
     "execution_count": 206,
     "metadata": {},
     "output_type": "execute_result"
    }
   ],
   "source": [
    "df"
   ]
  },
  {
   "cell_type": "markdown",
   "id": "634772d1",
   "metadata": {},
   "source": [
    "## Game"
   ]
  },
  {
   "cell_type": "code",
   "execution_count": 208,
   "id": "29cf15d0",
   "metadata": {
    "ExecuteTime": {
     "end_time": "2023-04-20T01:30:17.048308Z",
     "start_time": "2023-04-20T01:30:17.046093Z"
    }
   },
   "outputs": [],
   "source": [
    "import copy"
   ]
  },
  {
   "cell_type": "code",
   "execution_count": 209,
   "id": "2aff8213",
   "metadata": {
    "ExecuteTime": {
     "end_time": "2023-04-20T01:30:20.585189Z",
     "start_time": "2023-04-20T01:30:20.582935Z"
    }
   },
   "outputs": [],
   "source": [
    "# Game parameters\n",
    "\n",
    "NUM_PLAYER_CARDS = 5\n",
    "MIN_DEALER_CARDS = 8\n"
   ]
  },
  {
   "cell_type": "code",
   "execution_count": 210,
   "id": "8093fbcd",
   "metadata": {
    "ExecuteTime": {
     "end_time": "2023-04-20T01:30:21.001833Z",
     "start_time": "2023-04-20T01:30:20.999658Z"
    }
   },
   "outputs": [],
   "source": [
    "# create a deck"
   ]
  },
  {
   "cell_type": "code",
   "execution_count": 211,
   "id": "eeae3f72",
   "metadata": {
    "ExecuteTime": {
     "end_time": "2023-04-20T01:30:21.311748Z",
     "start_time": "2023-04-20T01:30:21.309312Z"
    }
   },
   "outputs": [],
   "source": [
    "def init_deck():\n",
    "    deck = copy.deepcopy(_bit_mask)\n",
    "#     deck = [i for i in range(NUM_CARDS)]\n",
    "    np.random.shuffle(deck)\n",
    "    return deck"
   ]
  },
  {
   "cell_type": "code",
   "execution_count": null,
   "id": "ca4e6f96",
   "metadata": {},
   "outputs": [],
   "source": []
  },
  {
   "cell_type": "code",
   "execution_count": 219,
   "id": "22371af7",
   "metadata": {
    "ExecuteTime": {
     "end_time": "2023-04-20T01:31:49.131610Z",
     "start_time": "2023-04-20T01:31:49.128736Z"
    }
   },
   "outputs": [],
   "source": [
    "def get_player_ask():\n",
    "    return rbits_to_bits(_bit_mask[12] + _bit_mask[11] + _bit_mask[10] + _bit_mask[9] +_bit_mask[8] + _bit_mask[4])\n",
    "    \n",
    "#     player_ask = [(s, r) for s in range(NUM_SUITS) for r in range(7, 13)]\n",
    "    \n",
    "#     return cards_to_hand(player_ask)"
   ]
  },
  {
   "cell_type": "code",
   "execution_count": 220,
   "id": "f8729cd4",
   "metadata": {
    "ExecuteTime": {
     "end_time": "2023-04-20T01:31:49.680414Z",
     "start_time": "2023-04-20T01:31:49.676390Z"
    }
   },
   "outputs": [],
   "source": [
    "def deal_cards(deck, deck_ind, player_ask, player_hand, dealer_hand):\n",
    "    ind = deck_ind\n",
    "    for ind in range(deck_ind, NUM_CARDS):\n",
    "        card_bit = deck[ind]\n",
    "        card_val = ind_to_card(np.log2(card_bit).astype(int))\n",
    "        \n",
    "        if (card_bit & player_ask) > 0:\n",
    "            player_hand |= card_bit\n",
    "#             print(f\"player got {card_val}\")\n",
    "            return ind + 1, player_hand, dealer_hand        \n",
    "        else:\n",
    "            dealer_hand |= card_bit\n",
    "#             print(f\"dealer got {card_val}\")\n",
    "            \n",
    "\n",
    "        \n",
    "    return ind, player_hand, dealer_hand\n",
    "\n",
    "\n",
    "def deal_min_cards(deck, deck_ind, dealer_hand):\n",
    "    num_extra = max(0, MIN_DEALER_CARDS - dealer_hand.bit_count())\n",
    "    \n",
    "    ind = deck_ind\n",
    "    for ind in range(deck_ind, min(NUM_CARDS, deck_ind + num_extra)):\n",
    "        card_bit = deck[ind]\n",
    "        card_val = ind_to_card(np.log2(card_bit).astype(int))\n",
    "        \n",
    "        dealer_hand |= card_bit\n",
    "#         print(f\"dealer got {card_val}\")\n",
    "\n",
    "        \n",
    "    return ind, dealer_hand"
   ]
  },
  {
   "cell_type": "code",
   "execution_count": 221,
   "id": "68b75e41",
   "metadata": {
    "ExecuteTime": {
     "end_time": "2023-04-20T01:31:50.188842Z",
     "start_time": "2023-04-20T01:31:50.184891Z"
    }
   },
   "outputs": [],
   "source": [
    "# run a game\n",
    "def run_game(player_ask_fn):\n",
    "    deck = init_deck()\n",
    "    \n",
    "    # print the deck\n",
    "#     print([ind_to_card(v) for v in np.log2(deck).astype(int)])\n",
    "\n",
    "    deck_ind = 0\n",
    "    player_hand = 0\n",
    "    dealer_hand = 0\n",
    "\n",
    "    for i in range(NUM_PLAYER_CARDS):\n",
    "        player_ask = player_ask_fn()\n",
    "    #     print(\"player_ask\", player_ask)\n",
    "#         print(\"player_ask\", hand_to_cards(player_ask))\n",
    "\n",
    "        # iterate cards\n",
    "        deck_ind, player_hand, dealer_hand = deal_cards(deck, deck_ind, player_ask, player_hand, dealer_hand)\n",
    "        \n",
    "    ## add minimum cards\n",
    "    deck_ind, dealer_hand = deal_min_cards(deck, deck_ind, dealer_hand)\n",
    "\n",
    "    # calc ratings\n",
    "    player_rating = get_rating(player_hand)\n",
    "    dealer_rating = get_rating(dealer_hand)\n",
    "    \n",
    "    # print results\n",
    "#     display(hand_to_cards(player_hand))\n",
    "#     print(rating_prettify(player_rating))\n",
    "\n",
    "#     display(hand_to_cards(dealer_hand))\n",
    "#     print(rating_prettify(dealer_rating))\n",
    "\n",
    "#     if player_rating > dealer_rating:\n",
    "#         print(\"Player wins\")\n",
    "#     else:\n",
    "#         print(\"Dealer wins\")\n",
    "    \n",
    "    return player_hand, dealer_hand, player_rating, dealer_rating"
   ]
  },
  {
   "cell_type": "code",
   "execution_count": 222,
   "id": "df855ebc",
   "metadata": {
    "ExecuteTime": {
     "end_time": "2023-04-20T01:31:51.060620Z",
     "start_time": "2023-04-20T01:31:51.056754Z"
    }
   },
   "outputs": [
    {
     "data": {
      "text/plain": [
       "(281749898657792, 2832479660548736, 167773952, 67116672)"
      ]
     },
     "execution_count": 222,
     "metadata": {},
     "output_type": "execute_result"
    }
   ],
   "source": [
    "run_game(get_player_ask)"
   ]
  },
  {
   "cell_type": "code",
   "execution_count": null,
   "id": "a3d9e8a9",
   "metadata": {},
   "outputs": [],
   "source": []
  },
  {
   "cell_type": "code",
   "execution_count": null,
   "id": "a026eb84",
   "metadata": {},
   "outputs": [],
   "source": []
  },
  {
   "cell_type": "code",
   "execution_count": 228,
   "id": "c379111e",
   "metadata": {
    "ExecuteTime": {
     "end_time": "2023-04-20T01:35:55.897032Z",
     "start_time": "2023-04-20T01:34:05.621129Z"
    }
   },
   "outputs": [],
   "source": [
    "all_data = []\n",
    "\n",
    "\n",
    "_num_trials = 1000000\n",
    "\n",
    "for t in range(_num_trials):\n",
    "    data = run_game(get_player_ask)\n",
    "\n",
    "    all_data += [data]\n",
    "    \n",
    "# create summary df\n",
    "df = pd.DataFrame(all_data, columns=[\"phand\", \"dhand\", \"prat\", \"drat\"])\n",
    "df[\"pwin\"] = (df[\"prat\"] > df[\"drat\"]).astype(int)"
   ]
  },
  {
   "cell_type": "code",
   "execution_count": 230,
   "id": "e6da73ad",
   "metadata": {
    "ExecuteTime": {
     "end_time": "2023-04-20T01:36:10.929543Z",
     "start_time": "2023-04-20T01:36:10.900254Z"
    }
   },
   "outputs": [
    {
     "name": "stdout",
     "output_type": "stream",
     "text": [
      "mean 0.298546\n",
      "std 0.00045762047080661033\n"
     ]
    }
   ],
   "source": [
    "stats = df[\"pwin\"].describe()\n",
    "std = stats[\"std\"] / np.sqrt(stats[\"count\"])\n",
    "\n",
    "print(\"mean\", stats[\"mean\"])\n",
    "print(\"std\", std)"
   ]
  },
  {
   "cell_type": "code",
   "execution_count": null,
   "id": "5d33a036",
   "metadata": {},
   "outputs": [],
   "source": []
  },
  {
   "cell_type": "code",
   "execution_count": null,
   "id": "c05b751c",
   "metadata": {},
   "outputs": [],
   "source": []
  },
  {
   "cell_type": "code",
   "execution_count": null,
   "id": "ec5f67d0",
   "metadata": {},
   "outputs": [],
   "source": []
  },
  {
   "cell_type": "code",
   "execution_count": null,
   "id": "d4edafaa",
   "metadata": {},
   "outputs": [],
   "source": []
  }
 ],
 "metadata": {
  "kernelspec": {
   "display_name": "Python 3 (ipykernel)",
   "language": "python",
   "name": "python3"
  },
  "language_info": {
   "codemirror_mode": {
    "name": "ipython",
    "version": 3
   },
   "file_extension": ".py",
   "mimetype": "text/x-python",
   "name": "python",
   "nbconvert_exporter": "python",
   "pygments_lexer": "ipython3",
   "version": "3.10.9"
  },
  "toc": {
   "base_numbering": 1,
   "nav_menu": {},
   "number_sections": true,
   "sideBar": true,
   "skip_h1_title": false,
   "title_cell": "Table of Contents",
   "title_sidebar": "Contents",
   "toc_cell": false,
   "toc_position": {
    "height": "calc(100% - 180px)",
    "left": "10px",
    "top": "150px",
    "width": "358.391px"
   },
   "toc_section_display": true,
   "toc_window_display": true
  },
  "varInspector": {
   "cols": {
    "lenName": 16,
    "lenType": 16,
    "lenVar": 40
   },
   "kernels_config": {
    "python": {
     "delete_cmd_postfix": "",
     "delete_cmd_prefix": "del ",
     "library": "var_list.py",
     "varRefreshCmd": "print(var_dic_list())"
    },
    "r": {
     "delete_cmd_postfix": ") ",
     "delete_cmd_prefix": "rm(",
     "library": "var_list.r",
     "varRefreshCmd": "cat(var_dic_list()) "
    }
   },
   "types_to_exclude": [
    "module",
    "function",
    "builtin_function_or_method",
    "instance",
    "_Feature"
   ],
   "window_display": false
  }
 },
 "nbformat": 4,
 "nbformat_minor": 5
}
