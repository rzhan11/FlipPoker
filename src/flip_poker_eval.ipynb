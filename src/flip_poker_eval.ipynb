{
 "cells": [
  {
   "cell_type": "code",
   "execution_count": 1,
   "id": "3baa09a5-32d9-44a0-af64-44d928feb912",
   "metadata": {
    "execution": {
     "iopub.execute_input": "2022-11-29T02:45:20.430595Z",
     "iopub.status.busy": "2022-11-29T02:45:20.430249Z",
     "iopub.status.idle": "2022-11-29T02:45:20.861338Z",
     "shell.execute_reply": "2022-11-29T02:45:20.860406Z",
     "shell.execute_reply.started": "2022-11-29T02:45:20.430560Z"
    },
    "tags": []
   },
   "outputs": [],
   "source": [
    "import numpy as np\n",
    "import pandas as pd"
   ]
  },
  {
   "cell_type": "code",
   "execution_count": null,
   "id": "d2771334-8392-407b-bb1c-4d8861b4a60e",
   "metadata": {},
   "outputs": [],
   "source": [
    "\n"
   ]
  },
  {
   "cell_type": "code",
   "execution_count": 2,
   "id": "48d42f47-fb39-4991-852a-fc007f97155d",
   "metadata": {
    "execution": {
     "iopub.execute_input": "2022-11-29T02:45:20.864433Z",
     "iopub.status.busy": "2022-11-29T02:45:20.863921Z",
     "iopub.status.idle": "2022-11-29T02:45:20.869031Z",
     "shell.execute_reply": "2022-11-29T02:45:20.867893Z",
     "shell.execute_reply.started": "2022-11-29T02:45:20.864395Z"
    },
    "tags": []
   },
   "outputs": [],
   "source": [
    "# represent cards as bits\n"
   ]
  },
  {
   "cell_type": "code",
   "execution_count": 3,
   "id": "bd7416a2-c2ec-45dc-8f4c-2c24bb62f300",
   "metadata": {
    "execution": {
     "iopub.execute_input": "2022-11-29T02:45:20.871376Z",
     "iopub.status.busy": "2022-11-29T02:45:20.870916Z",
     "iopub.status.idle": "2022-11-29T02:45:20.877614Z",
     "shell.execute_reply": "2022-11-29T02:45:20.876475Z",
     "shell.execute_reply.started": "2022-11-29T02:45:20.871340Z"
    },
    "tags": []
   },
   "outputs": [],
   "source": [
    "_num_ranks = 13\n",
    "_num_suits = 4\n",
    "_suit_base = \"A\""
   ]
  },
  {
   "cell_type": "code",
   "execution_count": 4,
   "id": "c09604e1-630d-4d99-a7aa-ac715f4af2f3",
   "metadata": {
    "execution": {
     "iopub.execute_input": "2022-11-29T02:45:20.911981Z",
     "iopub.status.busy": "2022-11-29T02:45:20.911620Z",
     "iopub.status.idle": "2022-11-29T02:45:20.916965Z",
     "shell.execute_reply": "2022-11-29T02:45:20.915843Z",
     "shell.execute_reply.started": "2022-11-29T02:45:20.911947Z"
    },
    "tags": []
   },
   "outputs": [],
   "source": [
    "def suit_to_str(s):\n",
    "    return chr(ord(_suit_base) + s)"
   ]
  },
  {
   "cell_type": "code",
   "execution_count": null,
   "id": "862bf6ce-ff03-4a0c-8263-2d3bdb9a496a",
   "metadata": {},
   "outputs": [],
   "source": []
  },
  {
   "cell_type": "markdown",
   "id": "70c4f1fc-96dd-4389-9759-e6546193dc8f",
   "metadata": {
    "execution": {
     "iopub.execute_input": "2022-11-23T18:19:01.398986Z",
     "iopub.status.busy": "2022-11-23T18:19:01.398339Z",
     "iopub.status.idle": "2022-11-23T18:19:01.403373Z",
     "shell.execute_reply": "2022-11-23T18:19:01.402271Z",
     "shell.execute_reply.started": "2022-11-23T18:19:01.398940Z"
    },
    "tags": []
   },
   "source": [
    "### intro\n",
    "- A hand is composed of multiple cards (at least 1)\n",
    "- We keep count of the number of each suit, number of each rank\n",
    "- We track straights using bits (each suit's cards is represented by a 13 bit #)j\n",
    "\n",
    "- hand = (52 bits)\n",
    "\n",
    "- straight flushes\n",
    "    - check each of the bit patterns against 0b11111 (4 * 10 = 40)\n",
    "- 4 of a kind\n",
    "    - check each of the bit patterns (0x1...1...1...1): 13\n",
    "- full house\n",
    "\n",
    "- flush\n",
    "    - check bit_count of each suit (4 ops)\n",
    "        - for each one where it is at least 5, take the max (this is the \"biggest one\") (4 ops for max)\n",
    "        - truncate things that are below the 5 largest bits (? ops)\n",
    "- straight\n",
    "    - apply 'or' on all ranks and check each bit pattern (4 + 10 = 14 ops)\n",
    "- trips\n",
    "    - identify largest trips"
   ]
  },
  {
   "cell_type": "code",
   "execution_count": null,
   "id": "93b1179a-6538-413e-bc7e-6417de860322",
   "metadata": {},
   "outputs": [],
   "source": []
  },
  {
   "cell_type": "code",
   "execution_count": 5,
   "id": "fecf5eba-dc1a-4f1a-91c5-5774616f642e",
   "metadata": {
    "execution": {
     "iopub.execute_input": "2022-11-29T02:45:26.532958Z",
     "iopub.status.busy": "2022-11-29T02:45:26.532132Z",
     "iopub.status.idle": "2022-11-29T02:45:26.540708Z",
     "shell.execute_reply": "2022-11-29T02:45:26.539896Z",
     "shell.execute_reply.started": "2022-11-29T02:45:26.532925Z"
    },
    "tags": []
   },
   "outputs": [],
   "source": [
    "def get_highest_bit(bits):\n",
    "    return bits.bit_length() - 1\n",
    "\n",
    "def get_num_set_bits(bits):\n",
    "    return bits.bit_count()\n",
    "\n",
    "def get_nth_bit(bits, n):\n",
    "    assert (1 <= n <= bits.bit_length())\n",
    "    for i in range(n-1):\n",
    "        bits -= (1 << (bits.bit_length()-1))\n",
    "    return bits.bit_length() - 1"
   ]
  },
  {
   "cell_type": "code",
   "execution_count": null,
   "id": "001cd082-0258-44c8-8bdc-c1051828889e",
   "metadata": {},
   "outputs": [],
   "source": []
  },
  {
   "cell_type": "code",
   "execution_count": null,
   "id": "b940706f-054e-422f-b0e1-54d07e50080e",
   "metadata": {},
   "outputs": [],
   "source": []
  },
  {
   "cell_type": "code",
   "execution_count": 57,
   "id": "3b41d598-6b75-43e0-ad1d-b3cd69030cdc",
   "metadata": {
    "execution": {
     "iopub.execute_input": "2022-11-29T03:01:12.175281Z",
     "iopub.status.busy": "2022-11-29T03:01:12.174925Z",
     "iopub.status.idle": "2022-11-29T03:01:12.180850Z",
     "shell.execute_reply": "2022-11-29T03:01:12.179679Z",
     "shell.execute_reply.started": "2022-11-29T03:01:12.175252Z"
    },
    "tags": []
   },
   "outputs": [],
   "source": [
    "_straight_base = (1 << 5) - 1\n",
    "straight_masks = [_straight_base << i for i in range(_num_ranks + 1 - 5)]\n",
    "straight_masks = [0b1000000001111] + straight_masks # A2345\n",
    "\n",
    "score_to_str = [\"highcard\", \"pair\", \"twopair\", \"threes\", \"straight\", \"flush\", \"fullhouse\", \"fours\", \"straightflush\"]\n",
    "str_to_score = {s : i for i, s, in enumerate(score_to_str)}\n"
   ]
  },
  {
   "cell_type": "code",
   "execution_count": null,
   "id": "78fe9c99-3057-469b-be11-d6031f6f57e6",
   "metadata": {},
   "outputs": [],
   "source": []
  },
  {
   "cell_type": "code",
   "execution_count": 19,
   "id": "d4538de7-69d3-428d-8558-8d562385548f",
   "metadata": {
    "execution": {
     "iopub.execute_input": "2022-11-29T02:50:17.870676Z",
     "iopub.status.busy": "2022-11-29T02:50:17.869762Z",
     "iopub.status.idle": "2022-11-29T02:50:17.877046Z",
     "shell.execute_reply": "2022-11-29T02:50:17.876138Z",
     "shell.execute_reply.started": "2022-11-29T02:50:17.870641Z"
    },
    "tags": []
   },
   "outputs": [
    {
     "data": {
      "text/plain": [
       "['0b1000000001111',\n",
       " '0b11111',\n",
       " '0b111110',\n",
       " '0b1111100',\n",
       " '0b11111000',\n",
       " '0b111110000',\n",
       " '0b1111100000',\n",
       " '0b11111000000',\n",
       " '0b111110000000',\n",
       " '0b1111100000000']"
      ]
     },
     "execution_count": 19,
     "metadata": {},
     "output_type": "execute_result"
    }
   ],
   "source": [
    "[bin(b) for b in straight_masks]"
   ]
  },
  {
   "cell_type": "code",
   "execution_count": 60,
   "id": "a1d4c771-1971-4cbc-95c4-e3a46ae00210",
   "metadata": {
    "execution": {
     "iopub.execute_input": "2022-11-29T03:02:11.096763Z",
     "iopub.status.busy": "2022-11-29T03:02:11.096423Z",
     "iopub.status.idle": "2022-11-29T03:02:11.104848Z",
     "shell.execute_reply": "2022-11-29T03:02:11.104011Z",
     "shell.execute_reply.started": "2022-11-29T03:02:11.096738Z"
    },
    "tags": []
   },
   "outputs": [],
   "source": [
    "def is_straight_flush(bits):\n",
    "    best_res = 0\n",
    "    for i in range(_num_suits):\n",
    "        print(bin(bits))\n",
    "        # note that straight_masks are in order from worst to best\n",
    "        for msk in straight_masks:\n",
    "            # check if mask works\n",
    "            res = (bits & msk)\n",
    "            success = res == msk\n",
    "            # print(i, bin(bits & (1 << 13 - 1)), bin(msk), bin(res))\n",
    "            if success:\n",
    "                print(i, bin(msk))\n",
    "                best_res = max(res, best_res)\n",
    "        bits = bits >> _num_ranks\n",
    "        \n",
    "    if best_res != 0:\n",
    "        best_res += str_to_score[\"straightflush\"] << _num_ranks\n",
    "        \n",
    "    return best_res\n"
   ]
  },
  {
   "cell_type": "code",
   "execution_count": 62,
   "id": "617f5d7c-b13f-49eb-bdd2-4cfdf1c1ba3c",
   "metadata": {
    "execution": {
     "iopub.execute_input": "2022-11-29T03:02:24.248647Z",
     "iopub.status.busy": "2022-11-29T03:02:24.247950Z",
     "iopub.status.idle": "2022-11-29T03:02:24.257302Z",
     "shell.execute_reply": "2022-11-29T03:02:24.256596Z",
     "shell.execute_reply.started": "2022-11-29T03:02:24.248603Z"
    },
    "tags": []
   },
   "outputs": [
    {
     "name": "stdout",
     "output_type": "stream",
     "text": [
      "0b1111100000000011111000000000011111000001000000001111\n",
      "0 0b1000000001111\n",
      "0b111110000000001111100000000001111100000\n",
      "1 0b1111100000\n",
      "0b11111000000000111110000000\n",
      "2 0b111110000000\n",
      "0b1111100000000\n",
      "3 0b1111100000000\n"
     ]
    },
    {
     "data": {
      "text/plain": [
       "'0b10001111100000000'"
      ]
     },
     "execution_count": 62,
     "metadata": {},
     "output_type": "execute_result"
    }
   ],
   "source": [
    "res = is_straight_flush(0b1000000001111 + (0b0001111100000 << 13) + (0b111110000000 << 26) + ((0b11111 << 8) << 39))\n",
    "bin(res)"
   ]
  },
  {
   "cell_type": "code",
   "execution_count": null,
   "id": "2d2ff403-6f04-4814-b361-d75b8e521c72",
   "metadata": {},
   "outputs": [],
   "source": []
  },
  {
   "cell_type": "code",
   "execution_count": null,
   "id": "da204388-3bac-4f79-a960-2ef88edcedbf",
   "metadata": {},
   "outputs": [],
   "source": []
  }
 ],
 "metadata": {
  "kernelspec": {
   "display_name": "Python 3 (ipykernel)",
   "language": "python",
   "name": "python3"
  },
  "language_info": {
   "codemirror_mode": {
    "name": "ipython",
    "version": 3
   },
   "file_extension": ".py",
   "mimetype": "text/x-python",
   "name": "python",
   "nbconvert_exporter": "python",
   "pygments_lexer": "ipython3",
   "version": "3.10.9"
  },
  "toc": {
   "base_numbering": 1,
   "nav_menu": {},
   "number_sections": true,
   "sideBar": true,
   "skip_h1_title": false,
   "title_cell": "Table of Contents",
   "title_sidebar": "Contents",
   "toc_cell": false,
   "toc_position": {},
   "toc_section_display": true,
   "toc_window_display": false
  },
  "varInspector": {
   "cols": {
    "lenName": 16,
    "lenType": 16,
    "lenVar": 40
   },
   "kernels_config": {
    "python": {
     "delete_cmd_postfix": "",
     "delete_cmd_prefix": "del ",
     "library": "var_list.py",
     "varRefreshCmd": "print(var_dic_list())"
    },
    "r": {
     "delete_cmd_postfix": ") ",
     "delete_cmd_prefix": "rm(",
     "library": "var_list.r",
     "varRefreshCmd": "cat(var_dic_list()) "
    }
   },
   "types_to_exclude": [
    "module",
    "function",
    "builtin_function_or_method",
    "instance",
    "_Feature"
   ],
   "window_display": false
  }
 },
 "nbformat": 4,
 "nbformat_minor": 5
}
